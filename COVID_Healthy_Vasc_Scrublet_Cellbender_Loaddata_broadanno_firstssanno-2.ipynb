{
 "cells": [
  {
   "cell_type": "code",
   "execution_count": null,
   "metadata": {},
   "outputs": [],
   "source": [
    "#Load packages\n",
    "import numpy as np\n",
    "import pandas as pd\n",
    "import scanpy as sc\n",
    "import scrublet as scr\n",
    "import os\n",
    "import warnings\n",
    "import functools\n",
    "import seaborn as sns\n",
    "import scipy.stats\n",
    "import anndata\n",
    "#import dandelion as ddl\n",
    "import tables\n",
    "from rpy2.robjects import r"
   ]
  },
  {
   "cell_type": "code",
   "execution_count": null,
   "metadata": {},
   "outputs": [],
   "source": [
    "from collections import defaultdict"
   ]
  },
  {
   "cell_type": "code",
   "execution_count": null,
   "metadata": {},
   "outputs": [],
   "source": [
    "#Create blank dictionaries \n",
    "adata_tmp = defaultdict(dict)\n",
    "adata_tmp2 = defaultdict(dict)"
   ]
  },
  {
   "cell_type": "code",
   "execution_count": null,
   "metadata": {},
   "outputs": [],
   "source": [
    "#Change working directory \n",
    "os.chdir(\"/home/jovyan/data/ClatCov/\")\n"
   ]
  },
  {
   "cell_type": "code",
   "execution_count": null,
   "metadata": {},
   "outputs": [],
   "source": [
    "#Load in metadata\n",
    "sampleList = pd.read_csv('/Users/matthewcoates/Documents/Cambridge/COVID_NASAL_test_meta_cellbender.csv')\n",
    "sampleList"
   ]
  },
  {
   "cell_type": "code",
   "execution_count": null,
   "metadata": {},
   "outputs": [],
   "source": [
    "#Check \n",
    "sampleList.sampleid"
   ]
  },
  {
   "cell_type": "code",
   "execution_count": null,
   "metadata": {},
   "outputs": [],
   "source": [
    "#Create list of samples \n",
    "samplelist = sampleList['sampleid'].tolist()\n",
    "samplelist"
   ]
  },
  {
   "cell_type": "code",
   "execution_count": null,
   "metadata": {},
   "outputs": [],
   "source": [
    "#Ben's code for processing cellbender data \n",
    "\"Functions for downstream work with outputs of remove-background.\"\"\"\n",
    "\n",
    "import tables\n",
    "import numpy as np\n",
    "import scipy.sparse as sp\n",
    "from typing import Dict\n",
    "\n",
    "\n",
    "def dict_from_h5(file: str) -> Dict[str, np.ndarray]:\n",
    "    \"\"\"Read in everything from an h5 file and put into a dictionary.\"\"\"\n",
    "    d = {}\n",
    "    with tables.open_file(file) as f:\n",
    "        # read in everything\n",
    "        for array in f.walk_nodes(\"/\", \"Array\"):\n",
    "            d[array.name] = array.read()\n",
    "    return d\n",
    "\n",
    "\n",
    "def anndata_from_h5(file: str,\n",
    "                    analyzed_barcodes_only: bool = True) -> 'anndata.AnnData':\n",
    "    \"\"\"Load an output h5 file into an AnnData object for downstream work.\n",
    "\n",
    "    Args:\n",
    "        file: The h5 file\n",
    "        analyzed_barcodes_only: False to load all barcodes, so that the size of\n",
    "            the AnnData object will match the size of the input raw count matrix.\n",
    "            True to load a limited set of barcodes: only those analyzed by the\n",
    "            algorithm. This allows relevant latent variables to be loaded\n",
    "            properly into adata.obs and adata.obsm, rather than adata.uns.\n",
    "\n",
    "    Returns:\n",
    "        adata: The anndata object, populated with inferred latent variables\n",
    "            and metadata.\n",
    "\n",
    "    \"\"\"\n",
    "\n",
    "    try:\n",
    "        import anndata\n",
    "    except ImportError:\n",
    "        raise ImportError('The anndata package must be installed to use the '\n",
    "                          'function anndata_from_h5()')\n",
    "\n",
    "    d = dict_from_h5(file)\n",
    "    X = sp.csc_matrix((d.pop('data'), d.pop('indices'), d.pop('indptr')),\n",
    "                      shape=d.pop('shape')).transpose().tocsr()\n",
    "\n",
    "    if analyzed_barcodes_only:\n",
    "        if 'barcodes_analyzed_inds' in d.keys():\n",
    "            X = X[d['barcodes_analyzed_inds'], :]\n",
    "            d['barcodes'] = d['barcodes'][d['barcodes_analyzed_inds']]\n",
    "        elif 'barcode_indices_for_latents' in d.keys():\n",
    "            X = X[d['barcode_indices_for_latents'], :]\n",
    "            d['barcodes'] = d['barcodes'][d['barcode_indices_for_latents']]\n",
    "        else:\n",
    "            print('Warning: analyzed_barcodes_only=True, but the key '\n",
    "                  '\"barcodes_analyzed_inds\" or \"barcode_indices_for_latents\" '\n",
    "                  'is missing from the h5 file. '\n",
    "                  'Will output all barcodes, and proceed as if '\n",
    "                  'analyzed_barcodes_only=False')\n",
    "\n",
    "    # Construct the count matrix.\n",
    "    adata = anndata.AnnData(X=X,\n",
    "                            obs={'barcode': d.pop('barcodes').astype(str)},\n",
    "                            var={'gene_name': (d.pop('gene_names') if 'gene_names' in d.keys()\n",
    "                                               else d.pop('name')).astype(str)})\n",
    "    adata.obs.set_index('barcode', inplace=True)\n",
    "    adata.var.set_index('gene_name', inplace=True)\n",
    "\n",
    "    # Add other information to the adata object in the appropriate slot.\n",
    "    for key, value in d.items():\n",
    "        try:\n",
    "            value = np.asarray(value)\n",
    "            if len(value.shape) == 0:\n",
    "                adata.uns[key] = value\n",
    "            elif value.shape[0] == X.shape[0]:\n",
    "                if (len(value.shape) < 2) or (value.shape[1] < 2):\n",
    "                    adata.obs[key] = value\n",
    "                else:\n",
    "                    adata.obsm[key] = value\n",
    "            elif value.shape[0] == X.shape[1]:\n",
    "                if value.dtype.name.startswith('bytes'):\n",
    "                    adata.var[key] = value.astype(str)\n",
    "                else:\n",
    "                    adata.var[key] = value\n",
    "            else:\n",
    "                adata.uns[key] = value\n",
    "        except Exception:\n",
    "            print('Unable to load data into AnnData: ', key, value, type(value))\n",
    "\n",
    "    if analyzed_barcodes_only:\n",
    "        for col in adata.obs.columns[adata.obs.columns.str.startswith('barcodes_analyzed')\n",
    "                                     | adata.obs.columns.str.startswith('barcode_indices')]:\n",
    "            try:\n",
    "                del adata.obs[col]\n",
    "            except Exception:\n",
    "                pass\n",
    "\n",
    "    return adata\n",
    "\n",
    "\n",
    "def load_anndata_from_input_and_output(input_file: str,\n",
    "                                       output_file: str,\n",
    "                                       analyzed_barcodes_only: bool = True,\n",
    "                                       input_layer_key: str = 'cellranger') -> 'anndata.AnnData':\n",
    "    \"\"\"Load remove-background output count matrix into an anndata object,\n",
    "    together with remove-background metadata and the raw input counts.\n",
    "\n",
    "    Args:\n",
    "        input_file: Raw h5 file used as input for remove-background.\n",
    "        output_file: Output h5 file created by remove-background (can be\n",
    "            filtered or not).\n",
    "        analyzed_barcodes_only: Argument passed to anndata_from_h5().\n",
    "            False to load all barcodes, so that the size of\n",
    "            the AnnData object will match the size of the input raw count matrix.\n",
    "            True to load a limited set of barcodes: only those analyzed by the\n",
    "            algorithm. This allows relevant latent variables to be loaded\n",
    "            properly into adata.obs and adata.obsm, rather than adata.uns.\n",
    "        input_layer_key: Key of the anndata.layer that is created for the raw\n",
    "            input count matrix.\n",
    "\n",
    "    Return:\n",
    "        adata_out: AnnData object with counts before and after remove-background,\n",
    "            as well as inferred latent variables from remove-background.\n",
    "\n",
    "    \"\"\"\n",
    "\n",
    "    # Load input data.\n",
    "    adata_raw = anndata_from_h5(input_file, analyzed_barcodes_only=False)\n",
    "\n",
    "    # Load remove-background output data.\n",
    "    adata_out = anndata_from_h5(output_file, analyzed_barcodes_only=analyzed_barcodes_only)\n",
    "\n",
    "    # Subset the raw dataset to the relevant barcodes.\n",
    "    adata_raw = adata_raw[adata_out.obs.index]\n",
    "\n",
    "    # Put count matrices into 'layers' in anndata for clarity.\n",
    "    adata_out.layers[input_layer_key] = adata_raw.X.copy()\n",
    "    adata_out.layers['cellbender'] = adata_out.X.copy()\n",
    "\n",
    "    # Pre-compute a bit of metadata.\n",
    "    adata_out.var['n_cellranger'] = np.array(adata_out.layers['cellranger'].sum(axis=0)).squeeze()\n",
    "    adata_out.var['n_cellbender'] = np.array(adata_out.layers['cellbender'].sum(axis=0)).squeeze()\n",
    "\n",
    "    return adata_out\n",
    "\n"
   ]
  },
  {
   "cell_type": "code",
   "execution_count": null,
   "metadata": {},
   "outputs": [],
   "source": [
    "samplelist"
   ]
  },
  {
   "cell_type": "code",
   "execution_count": null,
   "metadata": {},
   "outputs": [],
   "source": [
    "#adata_cellbender = defaultdict(dict)"
   ]
  },
  {
   "cell_type": "code",
   "execution_count": null,
   "metadata": {},
   "outputs": [],
   "source": [
    "\n",
    "#adata_cellbender = load_anndata_from_input_and_output(input_file = (\"COVID_combined_trans/Sample_Fq21/raw_feature_bc_matrix.h5\"),\n",
    "                                       #output_file = (\"COVID_combined_trans/Sample_Fq21/cellbender_out/output.h5\"))\n",
    "#adata_cellbender\n",
    "#Note: adata.obsm['latent_gene_encoding'] is the same as z / adata.obsm['X_cellbender'] from the cellbender vignette"
   ]
  },
  {
   "cell_type": "code",
   "execution_count": null,
   "metadata": {},
   "outputs": [],
   "source": [
    "#Create blank dictionaries for cellbender file path slots \n",
    "input_cfile = defaultdict(dict)\n",
    "output_cfile = defaultdict(dict)\n",
    "input_newfile = defaultdict(dict)"
   ]
  },
  {
   "cell_type": "code",
   "execution_count": null,
   "metadata": {},
   "outputs": [],
   "source": [
    "input_cfile"
   ]
  },
  {
   "cell_type": "code",
   "execution_count": null,
   "metadata": {},
   "outputs": [],
   "source": [
    "#Load in appropriate file paths for each sample \n",
    "for x in sampleList.sampleid:\n",
    "    input_cfile[x] = (\"COVID_IRVAS_combined_trans/\" +x+ \"/raw_feature_bc_matrix.h5\")\n",
    "    output_cfile[x] = (\"COVID_IRVAS_combined_trans/\" +x+ \"/cellbender_out/output.h5\")\n",
    "    input_newfile[x] = (\"COVID_IRVAS_combined_trans/\" +x+ \"/cellbender_out/output_filtered.h5\")\n",
    "input_newfile[\"Sample_Fq21\"]"
   ]
  },
  {
   "cell_type": "code",
   "execution_count": null,
   "metadata": {},
   "outputs": [],
   "source": [
    "#Create blank dictionary for actual data\n",
    "adata_cellbender = defaultdict(dict)"
   ]
  },
  {
   "cell_type": "code",
   "execution_count": null,
   "metadata": {},
   "outputs": [],
   "source": [
    "#Load in cellbender processed data \n",
    "for x in samplelist:\n",
    "    adata_cellbender[x] = load_anndata_from_input_and_output(input_file = input_cfile[x], output_file = output_cfile[x])\n",
    "adata_cellbender"
   ]
  },
  {
   "cell_type": "code",
   "execution_count": null,
   "metadata": {
    "scrolled": true
   },
   "outputs": [],
   "source": [
    "#Check \n",
    "adata_cellbender['Sample_Fq21']"
   ]
  },
  {
   "cell_type": "code",
   "execution_count": null,
   "metadata": {},
   "outputs": [],
   "source": [
    "#Check \n",
    "adata_cellbender['Sample_Fq_18'].var"
   ]
  },
  {
   "cell_type": "code",
   "execution_count": null,
   "metadata": {},
   "outputs": [],
   "source": [
    "#Run scrublet for auto doublet detection \n",
    "for x in samplelist:\n",
    "    sc.external.pp.scrublet(adata_cellbender[x], expected_doublet_rate = 0.06)\n",
    "adata_cellbender[x]"
   ]
  },
  {
   "cell_type": "code",
   "execution_count": null,
   "metadata": {},
   "outputs": [],
   "source": [
    "#Make name simpler\n",
    "adata = adata_cellbender\n",
    "adata"
   ]
  },
  {
   "cell_type": "code",
   "execution_count": null,
   "metadata": {},
   "outputs": [],
   "source": [
    "#Check \n",
    "adata['Sample_Fq21'].obs"
   ]
  },
  {
   "cell_type": "code",
   "execution_count": null,
   "metadata": {},
   "outputs": [],
   "source": [
    "#Change name of meta to correspond with code below \n",
    "sampleInfo = sampleList\n",
    "sampleInfo"
   ]
  },
  {
   "cell_type": "code",
   "execution_count": null,
   "metadata": {},
   "outputs": [],
   "source": [
    "#Load in sample metadata\n",
    "for i in sampleInfo.index:\n",
    "    adata[sampleInfo['sampleid'].at[i]].obs['Sampleid'] = sampleInfo['sampleid'].at[i] \n",
    "    adata[sampleInfo['sampleid'].at[i]].obs['Patient'] = sampleInfo['study_id/patient_id'].at[i]    \n",
    "    adata[sampleInfo['sampleid'].at[i]].obs['Sampletype'] = sampleInfo['site'].at[i]\n",
    "    adata[sampleInfo['sampleid'].at[i]].obs['Age_group'] = sampleInfo['age'].at[i]\n",
    "    adata[sampleInfo['sampleid'].at[i]].obs['Gender'] = sampleInfo['Gender'].at[i]\n",
    "    adata[sampleInfo['sampleid'].at[i]].obs['Cohort'] = sampleInfo['cohort'].at[i]\n",
    "    adata[sampleInfo['sampleid'].at[i]].obs['Diseasetype'] = sampleInfo['Sub-cohort'].at[i]\n",
    "    adata[sampleInfo['sampleid'].at[i]].obs['Batch'] = sampleInfo['batch'].at[i]\n",
    "    adata[sampleInfo['sampleid'].at[i]].obs['Study'] = sampleInfo['cohort.1'].at[i]\n",
    "    adata[sampleInfo['sampleid'].at[i]].obs['Nasal_inflammation'] = sampleInfo['Nasal inflammation'].at[i]\n",
    "    adata[sampleInfo['sampleid'].at[i]].obs['COVID_severity'] = sampleInfo['COVID Severity'].at[i]\n",
    "adata"
   ]
  },
  {
   "cell_type": "code",
   "execution_count": null,
   "metadata": {
    "tags": []
   },
   "outputs": [],
   "source": [
    "#Remove these variables as they are causing issues with concatenation. \n",
    "for x in samplelist:\n",
    "    del adata[x].var['n_cellranger']\n",
    "    del adata[x].var['n_cellbender']\n",
    "    del adata[x].var['ambient_expression']\n",
    "    \n",
    "adata"
   ]
  },
  {
   "cell_type": "code",
   "execution_count": null,
   "metadata": {
    "tags": []
   },
   "outputs": [],
   "source": [
    "for x in samplelist:\n",
    "    adata[x].obs_names_make_unique()\n",
    "adata"
   ]
  },
  {
   "cell_type": "code",
   "execution_count": null,
   "metadata": {
    "tags": []
   },
   "outputs": [],
   "source": [
    "for x in samplelist:\n",
    "    adata[x].var_names_make_unique()\n",
    "adata"
   ]
  },
  {
   "cell_type": "code",
   "execution_count": null,
   "metadata": {},
   "outputs": [],
   "source": [
    "adata_list = []\n",
    "adata_list"
   ]
  },
  {
   "cell_type": "code",
   "execution_count": null,
   "metadata": {
    "tags": []
   },
   "outputs": [],
   "source": [
    "for x in samplelist:\n",
    "    adata_list.append(adata[x], )\n",
    "adata_list"
   ]
  },
  {
   "cell_type": "code",
   "execution_count": null,
   "metadata": {},
   "outputs": [],
   "source": [
    "adata = adata_list[0].concatenate(adata_list[1:], batch_key = 'sampleid')\n",
    "adata"
   ]
  },
  {
   "cell_type": "code",
   "execution_count": null,
   "metadata": {},
   "outputs": [],
   "source": [
    "adata.obs"
   ]
  },
  {
   "cell_type": "code",
   "execution_count": null,
   "metadata": {},
   "outputs": [],
   "source": [
    "adata.write('COVID_combined_trans/out/COV_ctrl_cellbender_raw_nopp_250621.h5ad')"
   ]
  },
  {
   "cell_type": "code",
   "execution_count": null,
   "metadata": {},
   "outputs": [],
   "source": [
    "adata2 = sc.read_h5ad(\"COVID_combined_trans/out/COV_ctrl_missing_Soupx_raw_nopp_250621.h5ad\")\n",
    "adata2"
   ]
  },
  {
   "cell_type": "code",
   "execution_count": null,
   "metadata": {},
   "outputs": [],
   "source": [
    "adata.obs['soup_correction'] = 'Cellbender'\n",
    "adata.obs"
   ]
  },
  {
   "cell_type": "code",
   "execution_count": null,
   "metadata": {},
   "outputs": [],
   "source": [
    "adata2.obs['soup_correction'] = 'SoupX'\n",
    "adata2.obs"
   ]
  },
  {
   "cell_type": "code",
   "execution_count": null,
   "metadata": {},
   "outputs": [],
   "source": [
    "#Concatenate \n",
    "adata_concat = adata.concatenate(adata2, batch_key = 'sampleid')\n",
    "adata_concat"
   ]
  },
  {
   "cell_type": "code",
   "execution_count": null,
   "metadata": {},
   "outputs": [],
   "source": [
    "adata_concat.write(\"COVID_combined_trans/out/adata_cellbender+soupxmissingdata_raw_nopp_250621.h5ad\")"
   ]
  },
  {
   "cell_type": "code",
   "execution_count": null,
   "metadata": {},
   "outputs": [],
   "source": [
    "#Check object\n",
    "adata_concat"
   ]
  },
  {
   "cell_type": "code",
   "execution_count": null,
   "metadata": {},
   "outputs": [],
   "source": [
    "#What are duplicate var values? \n",
    "adata_concat.var"
   ]
  },
  {
   "cell_type": "code",
   "execution_count": null,
   "metadata": {},
   "outputs": [],
   "source": [
    "#Condense duplicate var values in to one. Delete rest (done above already)\n",
    "adata_concat.var['gene_ids'] = adata_concat.var['id-0']\n",
    "adata_concat.var['feature_types'] = adata_concat.var['feature_type-0']\n",
    "adata_concat.var['genome'] = adata_concat.var['genome-0']\n",
    "adata_concat.var.drop(columns = ['feature_type-0', 'genome-0', 'id-0', 'ambient_expression-0-0', 'n_cellranger-0-0', 'n_cellbender-0-0', 'ambient_expression-1-0', 'n_cellranger-1-0', 'n_cellbender-1-0', 'ambient_expression-10-0', 'n_cellranger-10-0', 'n_cellbender-10-0', 'ambient_expression-11-0', 'n_cellranger-11-0', 'n_cellbender-11-0', 'ambient_expression-12-0', 'n_cellranger-12-0', 'n_cellbender-12-0', 'ambient_expression-13-0', 'n_cellranger-13-0', 'n_cellbender-13-0', 'ambient_expression-14-0', 'n_cellranger-14-0', 'n_cellbender-14-0', 'ambient_expression-15-0', 'n_cellranger-15-0', 'n_cellbender-15-0', 'ambient_expression-16-0', 'n_cellranger-16-0', 'n_cellbender-16-0', 'ambient_expression-17-0', 'n_cellranger-17-0', 'n_cellbender-17-0', 'ambient_expression-18-0', 'n_cellranger-18-0', 'n_cellbender-18-0', 'ambient_expression-19-0', 'n_cellranger-19-0', 'n_cellbender-19-0', 'ambient_expression-2-0', 'n_cellranger-2-0', 'n_cellbender-2-0', 'ambient_expression-20-0', 'n_cellranger-20-0', 'n_cellbender-20-0', 'ambient_expression-21-0', 'n_cellranger-21-0', 'n_cellbender-21-0', 'ambient_expression-22-0', 'n_cellranger-22-0', 'n_cellbender-22-0', 'ambient_expression-23-0', 'n_cellranger-23-0', 'n_cellbender-23-0', 'ambient_expression-24-0', 'n_cellranger-24-0', 'n_cellbender-24-0', 'ambient_expression-25-0', 'n_cellranger-25-0', 'n_cellbender-25-0', 'ambient_expression-26-0', 'n_cellranger-26-0', 'n_cellbender-26-0', 'ambient_expression-27-0', 'n_cellranger-27-0', 'n_cellbender-27-0', 'ambient_expression-28-0', 'n_cellranger-28-0', 'n_cellbender-28-0', 'ambient_expression-29-0', 'n_cellranger-29-0', 'n_cellbender-29-0', 'ambient_expression-3-0', 'n_cellranger-3-0', 'n_cellbender-3-0', 'ambient_expression-30-0', 'n_cellranger-30-0', 'n_cellbender-30-0', 'ambient_expression-31-0', 'n_cellranger-31-0', 'n_cellbender-31-0', 'ambient_expression-32-0', 'n_cellranger-32-0', 'n_cellbender-32-0', 'ambient_expression-33-0', 'n_cellranger-33-0', 'n_cellbender-33-0', 'ambient_expression-34-0', 'n_cellranger-34-0', 'n_cellbender-34-0', 'ambient_expression-35-0', 'n_cellranger-35-0', 'n_cellbender-35-0', 'ambient_expression-36-0', 'n_cellranger-36-0', 'n_cellbender-36-0', 'ambient_expression-37-0', 'n_cellranger-37-0', 'n_cellbender-37-0', 'ambient_expression-38-0', 'n_cellranger-38-0', 'n_cellbender-38-0', 'ambient_expression-39-0', 'n_cellranger-39-0', 'n_cellbender-39-0', 'ambient_expression-4-0', 'n_cellranger-4-0', 'n_cellbender-4-0', 'ambient_expression-5-0', 'n_cellranger-5-0', 'n_cellbender-5-0', 'ambient_expression-6-0', 'n_cellranger-6-0', 'n_cellbender-6-0', 'ambient_expression-7-0', 'n_cellranger-7-0', 'n_cellbender-7-0', 'ambient_expression-8-0', 'n_cellranger-8-0', 'n_cellbender-8-0', 'ambient_expression-9-0', 'n_cellranger-9-0', 'n_cellbender-9-0', 'gene_ids-1', 'feature_types-1'], inplace = True)\n",
    "adata_concat.var "
   ]
  },
  {
   "cell_type": "code",
   "execution_count": null,
   "metadata": {},
   "outputs": [],
   "source": [
    "#Check obs \n",
    "adata_concat.obs"
   ]
  },
  {
   "cell_type": "code",
   "execution_count": null,
   "metadata": {},
   "outputs": [],
   "source": [
    "#Check object\n",
    "adata_concat"
   ]
  },
  {
   "cell_type": "code",
   "execution_count": null,
   "metadata": {},
   "outputs": [],
   "source": [
    "# How many doublets did scrublet pick up in cellbender object (named predicted doublet?\n",
    "adata_concat.obs['predicted_doublet'].value_counts()"
   ]
  },
  {
   "cell_type": "code",
   "execution_count": null,
   "metadata": {},
   "outputs": [],
   "source": [
    "#How many doublets in soupx object (names 'is_doublet')\n",
    "adata_concat.obs['is_doublet'].value_counts()"
   ]
  },
  {
   "cell_type": "code",
   "execution_count": null,
   "metadata": {},
   "outputs": [],
   "source": [
    "#Filter\n",
    "sc.pp.filter_cells(adata_concat, min_genes=200)\n",
    "sc.pp.filter_genes(adata_concat, min_cells=3)\n",
    "adata_concat"
   ]
  },
  {
   "cell_type": "code",
   "execution_count": null,
   "metadata": {},
   "outputs": [],
   "source": [
    "#Add in mitochondrial metadata \n",
    "adata_concat.var['mt'] = adata_concat.var_names.str.startswith('MT-')  # annotate the group of mitochondrial genes as 'mt'\n",
    "sc.pp.calculate_qc_metrics(adata_concat, qc_vars=['mt'], percent_top=None, log1p=False, inplace=True)\n",
    "adata_concat"
   ]
  },
  {
   "cell_type": "code",
   "execution_count": null,
   "metadata": {},
   "outputs": [],
   "source": [
    "# violin plot of the computed quality measures.\n",
    "sc.pl.violin(adata_concat, ['n_genes_by_counts', 'total_counts', 'pct_counts_mt'], jitter = 0.4, multi_panel = True)"
   ]
  },
  {
   "cell_type": "code",
   "execution_count": null,
   "metadata": {},
   "outputs": [],
   "source": [
    "#Filter \n",
    "adata_concat = adata_concat[adata_concat.obs.n_genes_by_counts < 2500, :]\n",
    "adata_concat = adata_concat[adata_concat.obs.pct_counts_mt < 15, :]\n",
    "adata_concat"
   ]
  },
  {
   "cell_type": "code",
   "execution_count": null,
   "metadata": {},
   "outputs": [],
   "source": [
    "# violin plot of the computed quality measures.\n",
    "sc.pl.violin(adata_concat, ['n_genes_by_counts', 'total_counts', 'pct_counts_mt'], jitter = 0.4, multi_panel = True)"
   ]
  },
  {
   "cell_type": "code",
   "execution_count": null,
   "metadata": {},
   "outputs": [],
   "source": [
    "# Remove the bad quality cells and continue\n",
    "#adata = adata[adata.obs['filter_rna'] != \"True\"]\n",
    "#adata\n",
    "#I haven't done this because filter_rna scores were weird and getting rid of a lot of my cells. "
   ]
  },
  {
   "cell_type": "code",
   "execution_count": null,
   "metadata": {},
   "outputs": [],
   "source": [
    "# How many doublets did scrublet pick up once filtering done?\n",
    "adata_concat.obs['predicted_doublet'].value_counts()"
   ]
  },
  {
   "cell_type": "code",
   "execution_count": null,
   "metadata": {},
   "outputs": [],
   "source": [
    "# How many doublets did scrublet pick up once filtering done?\n",
    "adata_concat.obs['is_doublet'].value_counts()"
   ]
  },
  {
   "cell_type": "code",
   "execution_count": null,
   "metadata": {},
   "outputs": [],
   "source": [
    "#save unnormalised data\n",
    "adata_concat.write('COVID_combined_trans/out/COVID_ctrl_raw__filtered_nolognorm_250621.h5ad')"
   ]
  },
  {
   "cell_type": "code",
   "execution_count": null,
   "metadata": {},
   "outputs": [],
   "source": [
    "#relaod data as kernel died in normalising step\n",
    "adata_concat = sc.read_h5ad('COVID_ctrl_raw_filtered_')\n",
    "adata_concat"
   ]
  },
  {
   "cell_type": "code",
   "execution_count": null,
   "metadata": {},
   "outputs": [],
   "source": [
    "# normalize to 10000 counts per cell\n",
    "sc.pp.normalize_total(adata_concat, target_sum = 1e4)\n",
    "\n"
   ]
  },
  {
   "cell_type": "code",
   "execution_count": null,
   "metadata": {},
   "outputs": [],
   "source": [
    "#Write out normalised but not log1p corrected data\n",
    "adata_concat.write('COVID_combined_trans/out/COVID_ctrl_raw_filtered_norm_nolog_250621.h5ad')"
   ]
  },
  {
   "cell_type": "code",
   "execution_count": null,
   "metadata": {},
   "outputs": [],
   "source": [
    "#lognormalise\n",
    "sc.pp.log1p(adata_concat)"
   ]
  },
  {
   "cell_type": "code",
   "execution_count": null,
   "metadata": {},
   "outputs": [],
   "source": [
    "#Write out lognormalised data\n",
    "adata_concat.write('COVID_combined_trans/out/COVID_ctrl_raw_filtered_lognorm_250621.h5ad')"
   ]
  },
  {
   "cell_type": "code",
   "execution_count": null,
   "metadata": {},
   "outputs": [],
   "source": [
    "# create a separate object to hold the raw counts and stash normalised data\n",
    "adata_concat.raw = adata_concat\n",
    "adata_concat_raw = adata_concat.copy()\n",
    "# also do this\n",
    "adata_concat.layers[\"counts\"] = adata_concat.X.copy()\n",
    "adata_concat_raw.layers[\"counts\"] = adata_concat_raw.X.copy()"
   ]
  },
  {
   "cell_type": "code",
   "execution_count": null,
   "metadata": {},
   "outputs": [],
   "source": [
    "adata_concat.raw"
   ]
  },
  {
   "cell_type": "code",
   "execution_count": null,
   "metadata": {},
   "outputs": [],
   "source": []
  },
  {
   "cell_type": "code",
   "execution_count": null,
   "metadata": {},
   "outputs": [],
   "source": [
    "adata_concat"
   ]
  },
  {
   "cell_type": "code",
   "execution_count": null,
   "metadata": {},
   "outputs": [],
   "source": [
    "# How many doublets did scrublet pick up?\n",
    "adata_concat.obs['predicted_doublet'].value_counts()"
   ]
  },
  {
   "cell_type": "code",
   "execution_count": null,
   "metadata": {},
   "outputs": [],
   "source": [
    "# How many doublets did scrublet pick up?\n",
    "adata_concat.obs['is_doublet'].value_counts()"
   ]
  },
  {
   "cell_type": "code",
   "execution_count": null,
   "metadata": {},
   "outputs": [],
   "source": [
    "#Merge 'is_doublet' and 'predicted_doublet' from scrublet of the different combined objects\n",
    "adata_concat.obs['combined_doublet'] = adata_concat.obs['predicted_doublet'].astype(str) + adata_concat.obs['is_doublet'].astype(str)"
   ]
  },
  {
   "cell_type": "code",
   "execution_count": null,
   "metadata": {},
   "outputs": [],
   "source": [
    "#Check \n",
    "adata_concat.obs['combined_doublet'].value_counts()"
   ]
  },
  {
   "cell_type": "code",
   "execution_count": null,
   "metadata": {},
   "outputs": [],
   "source": [
    "#Change terms so they are amenable to processing \n",
    "adata_concat.obs['combined_doublet'].replace('Falsenan','False',inplace=True)\n",
    "adata_concat.obs['combined_doublet'].value_counts()"
   ]
  },
  {
   "cell_type": "code",
   "execution_count": null,
   "metadata": {},
   "outputs": [],
   "source": [
    "#Change terms so they are amendable to processing. \n",
    "adata_concat.obs['combined_doublet'].replace('nanFalse','False',inplace=True)\n",
    "adata_concat.obs['combined_doublet'].value_counts()"
   ]
  },
  {
   "cell_type": "code",
   "execution_count": null,
   "metadata": {},
   "outputs": [],
   "source": [
    "#Remove the scrublet doublets\n",
    "adata_concat = adata_concat[adata_concat.obs['combined_doublet'] == \"False\"]\n",
    "adata_concat"
   ]
  },
  {
   "cell_type": "code",
   "execution_count": null,
   "metadata": {},
   "outputs": [],
   "source": [
    "#Check \n",
    "adata_concat.obs['combined_doublet'].value_counts()"
   ]
  },
  {
   "cell_type": "code",
   "execution_count": null,
   "metadata": {},
   "outputs": [],
   "source": [
    "# Identify highly-variable genes\n",
    "sc.pp.highly_variable_genes(adata_concat, min_mean = 0.0125, max_mean = 3, min_disp = 0.5)\n",
    "# plot highly_variable_genes\n",
    "sc.pl.highly_variable_genes(adata_concat)"
   ]
  },
  {
   "cell_type": "code",
   "execution_count": null,
   "metadata": {},
   "outputs": [],
   "source": [
    "## remove TRBV/TRAV and IGHV/IGLV/IGKV from the highly variable genes\n",
    "#Decided not to remove TRGV/TRDV as need these for gdT subset identification. \n",
    "import re\n",
    "for i in adata_concat.var.index:\n",
    "    if re.search('^TR[AB]V|^IG[HKL]V', i):\n",
    "        adata_concat.var.at[i, 'highly_variable'] = False\n",
    "sc.pl.highly_variable_genes(adata_concat)"
   ]
  },
  {
   "cell_type": "code",
   "execution_count": null,
   "metadata": {},
   "outputs": [],
   "source": [
    "# filter to only highly variable\n",
    "adata_concat = adata_concat[:, adata_concat.var['highly_variable']]\n",
    "adata_concat"
   ]
  },
  {
   "cell_type": "code",
   "execution_count": null,
   "metadata": {},
   "outputs": [],
   "source": [
    "#Assign 'cellbender_cell' for latent_cell_probability >0.5 (not filtered on this as no latent cell probability for soupx cells, and filtering removed almost all cellbender low probability cells )\n",
    "adata_concat.obs['cellbender_cell'] = adata_concat.obs['latent_cell_probability']>0.5\n",
    "adata_concat"
   ]
  },
  {
   "cell_type": "code",
   "execution_count": null,
   "metadata": {},
   "outputs": [],
   "source": [
    "adata_concat.obs['cellbender_cell'].value_counts()"
   ]
  },
  {
   "cell_type": "code",
   "execution_count": null,
   "metadata": {},
   "outputs": [],
   "source": [
    "#Only 14 cells are latent_cell_prob <0.5 (in light of Soupx cells not having this value), therefore not filtered to this"
   ]
  },
  {
   "cell_type": "code",
   "execution_count": null,
   "metadata": {},
   "outputs": [],
   "source": [
    "#Filter to remove cellbender assessed unlikely cells \n",
    "#adata = adata[adata.obs.cellbender_cell == True, :]\n",
    "#adata"
   ]
  },
  {
   "cell_type": "code",
   "execution_count": null,
   "metadata": {},
   "outputs": [],
   "source": [
    "#adata.obs['cellbender_cell'].value_counts()"
   ]
  },
  {
   "cell_type": "code",
   "execution_count": null,
   "metadata": {},
   "outputs": [],
   "source": [
    "import multiprocessing\n",
    "# regress and scale for PCA\n",
    "sc.pp.regress_out(adata_concat, ['total_counts', 'pct_counts_mt'],n_jobs = multiprocessing.cpu_count()-4)\n"
   ]
  },
  {
   "cell_type": "code",
   "execution_count": null,
   "metadata": {},
   "outputs": [],
   "source": [
    "sc.pp.scale(adata_concat, max_value = 10)\n"
   ]
  },
  {
   "cell_type": "code",
   "execution_count": null,
   "metadata": {},
   "outputs": [],
   "source": [
    "# Principal component analysis\n",
    "sc.tl.pca(adata_concat, svd_solver = 'arpack')\n",
    "sc.pl.pca_variance_ratio(adata_concat, log = True, n_pcs = 50)"
   ]
  },
  {
   "cell_type": "code",
   "execution_count": null,
   "metadata": {},
   "outputs": [],
   "source": [
    "# Computing the neighborhood graph. Seurat uses k = 20 as default\n",
    "sc.pp.neighbors(adata_concat, n_neighbors = 10, n_pcs = 50)"
   ]
  },
  {
   "cell_type": "code",
   "execution_count": null,
   "metadata": {},
   "outputs": [],
   "source": [
    "# run UMAP on non-batch corrected data \n",
    "sc.tl.umap(adata_concat, n_components = 2, min_dist = 0.3)\n",
    "sc.pl.umap(adata_concat, color=['Sampleid','Patient', 'Sampletype'])"
   ]
  },
  {
   "cell_type": "code",
   "execution_count": null,
   "metadata": {},
   "outputs": [],
   "source": [
    "# run harmony for batch correction \n",
    "sc.external.pp.harmony_integrate(adata_concat, 'Patient')\n",
    "'X_pca_harmony' in adata_concat.obsm\n"
   ]
  },
  {
   "cell_type": "code",
   "execution_count": null,
   "metadata": {},
   "outputs": [],
   "source": []
  },
  {
   "cell_type": "code",
   "execution_count": null,
   "metadata": {},
   "outputs": [],
   "source": [
    "#Check \n",
    "adata_concat"
   ]
  },
  {
   "cell_type": "code",
   "execution_count": null,
   "metadata": {},
   "outputs": [],
   "source": [
    "# Compute the neighborhood graph for harmony corrected data. Seurat uses k = 20 as default\n",
    "sc.pp.neighbors(adata_concat, n_neighbors = 10, n_pcs = 50, use_rep='X_pca_harmony')"
   ]
  },
  {
   "cell_type": "code",
   "execution_count": null,
   "metadata": {},
   "outputs": [],
   "source": [
    "# UMAP for harmony corrected data. \n",
    "sc.tl.umap(adata_concat, n_components = 2, min_dist = 0.3)\n",
    "sc.pl.umap(adata_concat, color=['Sampleid','Patient', 'Sampletype'])"
   ]
  },
  {
   "cell_type": "code",
   "execution_count": null,
   "metadata": {},
   "outputs": [],
   "source": [
    "#Check \n",
    "adata_concat"
   ]
  },
  {
   "cell_type": "code",
   "execution_count": null,
   "metadata": {},
   "outputs": [],
   "source": [
    "# find leiden clusters\n",
    "sc.tl.leiden(adata_concat, resolution =0.5)\n"
   ]
  },
  {
   "cell_type": "code",
   "execution_count": null,
   "metadata": {},
   "outputs": [],
   "source": [
    "#Check split amongst classifiers. Check if further splitting required. \n",
    "sc.pl.umap(adata_concat, color=['Sampleid','Patient', 'Sampletype', 'Gender', 'leiden', 'Cohort'], ncols = 3)"
   ]
  },
  {
   "cell_type": "code",
   "execution_count": null,
   "metadata": {},
   "outputs": [],
   "source": [
    "#See how celltypist automated names match up. \n",
    "sc.pl.umap(adata_concat, color=['leiden', 'celltypist'], legend_loc = 'on data', ncols = 3)"
   ]
  },
  {
   "cell_type": "code",
   "execution_count": null,
   "metadata": {},
   "outputs": [],
   "source": [
    "# create a palette for umap\n",
    "import numpy as np\n",
    "import matplotlib.pyplot as plt\n",
    "from matplotlib import cm\n",
    "from matplotlib.colors import ListedColormap, LinearSegmentedColormap\n",
    "viridis = cm.get_cmap('viridis', 256)\n",
    "newcolors = viridis(np.linspace(0, 1, 256))\n",
    "grey = np.array([215/256, 215/256, 215/256, 1])\n",
    "newcolors[:1, :] = grey\n",
    "newcmp = ListedColormap(newcolors)"
   ]
  },
  {
   "cell_type": "code",
   "execution_count": null,
   "metadata": {},
   "outputs": [],
   "source": [
    "# run marker gene test\n",
    "sc.tl.rank_genes_groups(adata_concat, groupby = 'leiden', method = 'wilcoxon', n_genes = 30000)"
   ]
  },
  {
   "cell_type": "code",
   "execution_count": null,
   "metadata": {},
   "outputs": [],
   "source": [
    "#Ploty dotplot of top 10 DEG by cluster. \n",
    "sc.pl.rank_genes_groups_dotplot(adata_concat, n_genes = 10, standard_scale = 'var', color_map = 'viridis')"
   ]
  },
  {
   "cell_type": "code",
   "execution_count": null,
   "metadata": {},
   "outputs": [],
   "source": [
    "adata_concat"
   ]
  },
  {
   "cell_type": "code",
   "execution_count": null,
   "metadata": {},
   "outputs": [],
   "source": [
    "#cluster marker genes from Chua et al. Nat Biotech 2020\n",
    "Chuafeat = ['TP63', 'KRT5', 'S100A2', 'FABP5', 'SERPINB3', 'TMSB4X', 'IFIT1', 'IFIT2', 'IFITM3', 'ISG15', 'ISG20', 'OAS1', 'SCGB1A1', 'SCGB3A1', 'XBP1', 'VMO1', 'MUC5AC', 'PIGR', 'FOXN4', 'CCNO', 'MYCL', 'CDC20B', 'TUBA1B', 'PCM1', 'FOXJ1', 'EFHC1', 'CCDC153', \n",
    "              'CCDC113', 'MLF1', 'LZTFL1', 'FOXI1', 'CFTR', 'ASCL3', 'FOXI2', 'SFTPB', 'ANK2', 'SFTPB', 'ANK2', 'SPRR1A', 'SPRR2A', 'SPRR2D', 'SPRR2E', 'SPRR3', 'TMPRSS11E', 'IL1B', 'VCAN', 'CD14', 'CCL2', 'FCGR3A', 'CXCL10', 'IFIT1', 'CD68', 'FABP5', 'FCER1A', 'CD74', 'HLA-DQB1',\n",
    "              'HLA-DRA', 'JCHAIN', 'APOE', 'NCAM1', 'HMGB2', 'STMN1', 'FOXP3', 'CTLA4', 'TNFRSF18', 'CD4', 'CD8B', 'CD8A', 'PRF1', 'GZMA', 'GZMB', 'GNLY', 'NKG7', 'CD3G', 'CD3E', 'KLRB1', 'IL32', 'S100A4', 'CD27', 'CD19', 'MS4A1', 'CD79A', 'IRF7', 'TLR7', 'CLEC4C', 'IL3RA', 'LYN', \n",
    "              'FCGR3B', 'ITGAX', 'HPGD', 'LTC4S', 'CPA3','CD69', 'ITGA1', 'KIT', 'HBB', 'PPBP']\n",
    "Chuafeat"
   ]
  },
  {
   "cell_type": "code",
   "execution_count": null,
   "metadata": {},
   "outputs": [],
   "source": [
    "#Marker genes from Travaglini 2020 Nature \n",
    "Trav_list = ['FOXJ1','KRT5','MUC5B',\n",
    "   'MUC5B',\n",
    "   'PRR4',\n",
    "   'CFTR',\n",
    "   'CALCA',\n",
    "   'DCLK1',\n",
    "   'AGER',\n",
    "   'SFTPB',\n",
    "   'ACKR1',\n",
    "   'CA4',\n",
    "   'PROX1',\n",
    "   'CNN1',\n",
    "   'CNN1',\n",
    "   'COL1A1',\n",
    "   'COL1A1',\n",
    "   'COL1A1',\n",
    "   'CSPG4',\n",
    "   'MSLN',\n",
    "   'SNAP25',\n",
    "   'CD79A',\n",
    "   'CD79A',\n",
    "   'CD3E',\n",
    "   'CD3E',\n",
    "   'CD3E',\n",
    "   'CD3E',\n",
    "   'KLRD1',\n",
    "   'CD3E',\n",
    "   'S100A8',\n",
    "   'MS4A2',\n",
    "   'MS4A2',\n",
    "   'SIGLEC8',\n",
    "   'NRGN',\n",
    "   'MARCO',\n",
    "   'LILRB4',\n",
    "   'CLEC9A',\n",
    "   'CD14',\n",
    "  'SCGB3A2',\n",
    "   'TUBB1',\n",
    "   'KRT14',\n",
    "   'MUC5AC',\n",
    "   'LPO',\n",
    "   'FOXI1',\n",
    "   'CHGA',\n",
    "   'ASCL2',\n",
    "   'PDPN',\n",
    "   'BMX',\n",
    "   'PDPN',\n",
    "   'ACTA2',\n",
    "   'PDGFRA',\n",
    "   'TRPC6',\n",
    "   'UPK3B',\n",
    "   'CD24',\n",
    "   'CD27',\n",
    "   'CD8A',\n",
    "   'CD4',\n",
    "   'NKG7',\n",
    "   'CD8B',\n",
    "   'S100A9',\n",
    "   'CPA3',\n",
    "   'PPBP',\n",
    "   'MSR1',\n",
    "   'IRF8',\n",
    "   'LAMP3',\n",
    "   'CD1C',\n",
    "   'S100A8',\n",
    "   'TP73',\n",
    "   'TP63',\n",
    "   'SPDEF',\n",
    "   'LTF',\n",
    "   'ASCL3',\n",
    "   'ASCL1',\n",
    "   'CLIC5',\n",
    "   'TAGLN',\n",
    "   'ELN',\n",
    "   'PLIN2',\n",
    "   'PDGFRB',\n",
    "   'MS4A1',\n",
    "   'SLAMF7',\n",
    "   'GZMK',\n",
    "   'COTL1',\n",
    "   'CCR7',\n",
    "   'TYROBP',\n",
    "   'FCER1G',\n",
    "   'IFITM2',\n",
    "   'TPSAB1',\n",
    "   'PF4',\n",
    "   'MRC1',\n",
    "   'LILRA4',\n",
    "   'PLD4',\n",
    "   'FCGR3A',\n",
    "   'CCDC78',\n",
    "   'DAPL1',\n",
    "   'MUC1',\n",
    "   'RGS5',\n",
    "   'DES',\n",
    "   'ACTA2',\n",
    "   'APOE',\n",
    "   'CD19',\n",
    "   'DUSP2',\n",
    "   'GZMB',\n",
    "   'LDHB',\n",
    "   'LEF1',\n",
    "   'TYROBP',\n",
    "   'FCGR3B',\n",
    "   'OST4',\n",
    "   'ETV5', \n",
    "   'LGR6']\n",
    "Trav_list"
   ]
  },
  {
   "cell_type": "code",
   "execution_count": null,
   "metadata": {},
   "outputs": [],
   "source": [
    "#Plot Chua marker genes by cluster \n",
    "sc.pl.dotplot(adata_concat, Chuafeat, groupby = 'leiden')"
   ]
  },
  {
   "cell_type": "code",
   "execution_count": null,
   "metadata": {},
   "outputs": [],
   "source": [
    "#Plot Travaglini genes by cluster. \n",
    "sc.pl.dotplot(adata_concat,Trav_list, groupby = 'leiden', title = 'COV_ctrl_wholeobject_Travaglini')"
   ]
  },
  {
   "cell_type": "code",
   "execution_count": null,
   "metadata": {},
   "outputs": [],
   "source": [
    "#Plot ILC marker genes from Bjorkland 2016 Nature Immunology. \n",
    "ILC_Bjorkland = ['CCL3',\n",
    "'CXCR3',\n",
    "'IFNG',\n",
    "'IL12RB1',\n",
    "'TBX21',\n",
    "'PTGDR2',\n",
    "'IL17RB',\n",
    "'IL1RL1',\n",
    "'IL13',\n",
    "'GATA3',\n",
    "'NCR2',\n",
    "'IL22',\n",
    "'RORC',\n",
    "'AHR',\n",
    "'IL23R',\n",
    "'IL1R1',\n",
    "'EOMES',\n",
    "'GZMA',\n",
    "'GNLY',\n",
    "'KLRC1']"
   ]
  },
  {
   "cell_type": "code",
   "execution_count": null,
   "metadata": {},
   "outputs": [],
   "source": [
    "ILC_Bjorkland"
   ]
  },
  {
   "cell_type": "code",
   "execution_count": null,
   "metadata": {},
   "outputs": [],
   "source": [
    "#Dotplot of Bjorkland ILC cluster genes. \n",
    "sc.pl.dotplot(adata_concat,ILC_Bjorkland, groupby = 'leiden', title = 'COV_ctrl_wholeobject_BjorklandILC')"
   ]
  },
  {
   "cell_type": "code",
   "execution_count": null,
   "metadata": {},
   "outputs": [],
   "source": [
    "# give broad cluster annoations based on expression of top 10 DEG by cluster and marker gene expression from published datasets. \n",
    "new_dict = {'0':'CD4 T',\n",
    "'1':'B',\n",
    "'2':'MMP',\n",
    "'3':'NK/NKT',\n",
    "'4':'Plasma',\n",
    "'5':'Epithelial',\n",
    "'6':'Treg',\n",
    "'7':'CD8 T',\n",
    "'8':'B',\n",
    "'9':'B',\n",
    "'10':'Epithelial',\n",
    "'11':'CD4 T',\n",
    "'12':'CD4 T',\n",
    "'13':'CD8 Tn',\n",
    "'14':'CD4 T',\n",
    "'15':'Erythrocytes',\n",
    "'16':'Megakaryocyte',\n",
    "'17':'CD4 T',\n",
    "'18':'CD4 T',\n",
    "'19':'CD4 T',\n",
    "'20':'gdT',\n",
    "'21':'B',\n",
    "'22':'pDC',\n",
    "'23':'B',\n",
    "'24':'CD4 T',\n",
    "'25':'Mast',\n",
    "'26':'CD4 T',\n",
    "'27':'B',\n",
    "'28':'ILC',\n",
    "'29':'Epithelial',\n",
    "'30':'Epithelial'}\n",
    "adata_concat.obs['broad_label'] = [new_dict[l] for l in adata_concat.obs['leiden']]\n",
    "sc.pl.umap(adata_concat, color=['leiden', 'broad_label'], legend_fontoutline=2, legend_loc = 'on data')"
   ]
  },
  {
   "cell_type": "code",
   "execution_count": null,
   "metadata": {},
   "outputs": [],
   "source": []
  },
  {
   "cell_type": "code",
   "execution_count": null,
   "metadata": {},
   "outputs": [],
   "source": [
    "\n",
    "#Write object with broad annotations. \n",
    "adata_concat.write('COV_combined_broad_label_020721.h5ad', compression = 'gzip')\n",
    "adata_concat.raw.to_adata().write('COV_combined_broad_label_raw.h5ad', compression = 'gzip')"
   ]
  },
  {
   "cell_type": "code",
   "execution_count": null,
   "metadata": {},
   "outputs": [],
   "source": [
    "#reload as kernel died. \n",
    "adata_concat = sc.read_h5ad('COV_combined_broad_label_020721.h5ad')\n",
    "adata_concat"
   ]
  },
  {
   "cell_type": "code",
   "execution_count": null,
   "metadata": {},
   "outputs": [],
   "source": [
    "#Check percent_mito is defunct and pct_counts_mt should be used. \n",
    "adata_concat.obs['percent_mito']"
   ]
  },
  {
   "cell_type": "code",
   "execution_count": null,
   "metadata": {},
   "outputs": [],
   "source": [
    "adata_concat.obs['pct_counts_mt']"
   ]
  },
  {
   "cell_type": "code",
   "execution_count": null,
   "metadata": {},
   "outputs": [],
   "source": [
    "#percent_mito and n_counts are only for Soupx object, and have been calculated using scanpy\n",
    "#calulate_qc_metrics de novo for all cells, so drop the redundant percent_mito and n_counts columns\n",
    "#Use total_counts and pct_counts_mt instead\n",
    "del adata_concat.obs['percent_mito']\n",
    "del adata_concat.obs['n_counts']\n",
    "adata_concat"
   ]
  },
  {
   "cell_type": "code",
   "execution_count": null,
   "metadata": {},
   "outputs": [],
   "source": [
    "#Visualise \n",
    "sc.pl.umap(adata_concat, color=['broad_label','leiden', 'Sampletype'])"
   ]
  },
  {
   "cell_type": "markdown",
   "metadata": {},
   "source": [
    "## Sub-clustering for fine cell type annotation\n",
    "\n",
    "#First create a new column called `leiden_R_label` which I will update as I progress through."
   ]
  },
  {
   "cell_type": "code",
   "execution_count": null,
   "metadata": {},
   "outputs": [],
   "source": [
    "#Create new slot for labels in main object. \n",
    "adata_concat.obs['fine_label'] = adata_concat.obs['leiden']"
   ]
  },
  {
   "cell_type": "code",
   "execution_count": null,
   "metadata": {},
   "outputs": [],
   "source": [
    "#Check \n",
    "adata_concat"
   ]
  },
  {
   "cell_type": "code",
   "execution_count": null,
   "metadata": {},
   "outputs": [],
   "source": [
    "#Visualise\n",
    "sc.pl.umap(adata_concat, color=['leiden', 'broad_label'], legend_fontoutline=2, legend_loc = 'on data')"
   ]
  },
  {
   "cell_type": "markdown",
   "metadata": {},
   "source": [
    "### T cell"
   ]
  },
  {
   "cell_type": "code",
   "execution_count": null,
   "metadata": {},
   "outputs": [],
   "source": [
    "# subset\n",
    "rna_ = adata_concat[adata_concat.obs['leiden'].isin(['0','6','7','11','12','13','14','17','18','19','20','23','24','26','27','28'])]\n",
    "rna_x = sc.AnnData(X = rna_.raw.X, obs = rna_.obs, var = rna_.raw.var)\n",
    "rna_x.raw = rna_x\n",
    "sc.pp.highly_variable_genes(rna_x, min_mean = 0.0125, max_mean = 3, min_disp = 0.5)\n",
    "sc.pl.highly_variable_genes(rna_x)\n",
    "rna_x"
   ]
  },
  {
   "cell_type": "code",
   "execution_count": null,
   "metadata": {},
   "outputs": [],
   "source": [
    "## remove TRBV/TRAV and IGHV/IGLV/IGKV from the highly variable genes\n",
    "## allow for TRGV and TRDV so that i can do fine labelling for them\n",
    "import re\n",
    "for i in rna_x.var.index:\n",
    "    if re.search('^TR[AB]V|^IG[HKL]V', i):\n",
    "        rna_x.var.at[i, 'highly_variable'] = False\n",
    "sc.pl.highly_variable_genes(rna_x)"
   ]
  },
  {
   "cell_type": "code",
   "execution_count": null,
   "metadata": {},
   "outputs": [],
   "source": [
    "# subset to highly variable\n",
    "rna_x = rna_x[:, rna_x.var['highly_variable']]\n"
   ]
  },
  {
   "cell_type": "code",
   "execution_count": null,
   "metadata": {},
   "outputs": [],
   "source": [
    "# regress and scale for PCA\n",
    "sc.pp.regress_out(rna_x, ['total_counts', 'pct_counts_mt'])\n"
   ]
  },
  {
   "cell_type": "code",
   "execution_count": null,
   "metadata": {},
   "outputs": [],
   "source": [
    "sc.pp.scale(rna_x, max_value = 10)"
   ]
  },
  {
   "cell_type": "code",
   "execution_count": null,
   "metadata": {},
   "outputs": [],
   "source": [
    "# Principal component analysis\n",
    "sc.tl.pca(rna_x, svd_solver = 'arpack')\n",
    "sc.pl.pca_variance_ratio(rna_x, log = True, n_pcs = 50)"
   ]
  },
  {
   "cell_type": "code",
   "execution_count": null,
   "metadata": {},
   "outputs": [],
   "source": [
    "# Computing the neighborhood graph. Seurat uses k = 20 as default\n",
    "sc.pp.neighbors(rna_x, n_neighbors = 10, n_pcs = 50)"
   ]
  },
  {
   "cell_type": "code",
   "execution_count": null,
   "metadata": {},
   "outputs": [],
   "source": [
    "# run UMAP\n",
    "sc.tl.umap(rna_x, n_components = 2, min_dist = 0.3)\n",
    "sc.pl.umap(rna_x, color=['Sampleid','Patient', 'Sampletype'])"
   ]
  },
  {
   "cell_type": "code",
   "execution_count": null,
   "metadata": {},
   "outputs": [],
   "source": [
    "sc.pl.umap(rna_x, color=['leiden'])"
   ]
  },
  {
   "cell_type": "code",
   "execution_count": null,
   "metadata": {},
   "outputs": [],
   "source": [
    "# run harmony\n",
    "sc.external.pp.harmony_integrate(rna_x, 'Patient')\n",
    "'X_pca_harmony' in rna_x.obsm\n"
   ]
  },
  {
   "cell_type": "code",
   "execution_count": null,
   "metadata": {},
   "outputs": [],
   "source": [
    "#Check \n",
    "rna_x"
   ]
  },
  {
   "cell_type": "code",
   "execution_count": null,
   "metadata": {},
   "outputs": [],
   "source": [
    "# Compute the neighborhood graph correcting for batch using harmony PCA. Seurat uses k = 20 as default\n",
    "sc.pp.neighbors(rna_x, n_neighbors = 10, n_pcs = 50, use_rep='X_pca_harmony')"
   ]
  },
  {
   "cell_type": "code",
   "execution_count": null,
   "metadata": {},
   "outputs": [],
   "source": [
    "# UMAP - harmony corrected. \n",
    "sc.tl.umap(rna_x, n_components = 2, min_dist = 0.3)\n",
    "sc.pl.umap(rna_x, color=['Sampleid','Patient', 'Sampletype'])"
   ]
  },
  {
   "cell_type": "code",
   "execution_count": null,
   "metadata": {},
   "outputs": [],
   "source": [
    "#?What is the split by main object leiden cluster in reclustered object. \n",
    "sc.pl.umap(rna_x, color=['leiden'])"
   ]
  },
  {
   "cell_type": "code",
   "execution_count": null,
   "metadata": {},
   "outputs": [],
   "source": [
    "# find clusters in subsetted object. \n",
    "sc.tl.leiden(rna_x, resolution = 1, key_added = 'leiden_R')\n",
    "sc.pl.umap(rna_x, color=['leiden', 'leiden_R'], size=6, legend_loc ='on data', legend_fontoutline=2)"
   ]
  },
  {
   "cell_type": "code",
   "execution_count": null,
   "metadata": {},
   "outputs": [],
   "source": []
  },
  {
   "cell_type": "code",
   "execution_count": null,
   "metadata": {},
   "outputs": [],
   "source": [
    "#Where are key marker genes for t cell subsets expressed? \n",
    "sc.pl.umap(rna_x, color = ['TRDC', 'TRGV9', 'CD4', 'CD8B', 'FOXP3', 'CXCR5', 'PDCD1', 'CD8A','TRAV1-2', 'CD69', 'KLRB1','ITGAE'], size = 20)"
   ]
  },
  {
   "cell_type": "code",
   "execution_count": null,
   "metadata": {},
   "outputs": [],
   "source": [
    "sc.pl.umap(rna_x, color = ['SELL', 'IFNG', 'PTGDR2','CCR3','CCR8','CXCR3','CCR5','IL13', 'IL5', 'IL4', 'IL17A', 'TRGC2', 'TRDV1', 'CD3E','TRGC1'], size = 20)"
   ]
  },
  {
   "cell_type": "code",
   "execution_count": null,
   "metadata": {},
   "outputs": [],
   "source": [
    "# split specific clusters based on gene expression profiles\n",
    "sc.tl.leiden(rna_x, resolution = .3, key_added = 'leiden_R2', restrict_to =('leiden_R', ['1']))\n",
    "sc.pl.umap(rna_x, color=['leiden', 'leiden_R2'], size=10, legend_loc ='on data', legend_fontoutline=2)"
   ]
  },
  {
   "cell_type": "code",
   "execution_count": null,
   "metadata": {},
   "outputs": [],
   "source": [
    "# split specific clusters\n",
    "sc.tl.leiden(rna_x, resolution = .3, key_added = 'leiden_R2.1', restrict_to =('leiden_R2', ['2']))\n",
    "sc.pl.umap(rna_x, color=['leiden', 'leiden_R2.1'], size=10, legend_loc ='on data', legend_fontoutline=2)"
   ]
  },
  {
   "cell_type": "code",
   "execution_count": null,
   "metadata": {},
   "outputs": [],
   "source": [
    "# split specific clusters\n",
    "sc.tl.leiden(rna_x, resolution = .3, key_added = 'leiden_R2.2', restrict_to =('leiden_R2.1', ['3']))\n",
    "sc.pl.umap(rna_x, color=['leiden', 'leiden_R2.2'], size=10, legend_loc ='on data', legend_fontoutline=2)"
   ]
  },
  {
   "cell_type": "code",
   "execution_count": null,
   "metadata": {},
   "outputs": [],
   "source": [
    "# split specific clusters\n",
    "sc.tl.leiden(rna_x, resolution = .2, key_added = 'leiden_R2.3', restrict_to =('leiden_R2.2', ['7']))\n",
    "sc.pl.umap(rna_x, color=['leiden', 'leiden_R2.3'], size=10, legend_loc ='on data', legend_fontoutline=2)"
   ]
  },
  {
   "cell_type": "code",
   "execution_count": null,
   "metadata": {},
   "outputs": [],
   "source": [
    "#Rank top 10 DEG by cluster and plot. \n",
    "sc.tl.rank_genes_groups(rna_x, groupby = 'leiden_R2.3', method = 'wilcoxon')\n",
    "sc.tl.filter_rank_genes_groups(rna_x, min_fold_change=1)\n",
    "sc.tl.dendrogram(rna_x, groupby = 'leiden_R2.3')\n",
    "sc.pl.rank_genes_groups_dotplot(rna_x, n_genes = 10, standard_scale = 'var', color_map = 'viridis', key = 'rank_genes_groups_filtered')"
   ]
  },
  {
   "cell_type": "code",
   "execution_count": null,
   "metadata": {},
   "outputs": [],
   "source": [
    "#Plot Chua 2020 nasal covid marker genes. \n",
    "sc.pl.dotplot(rna_x, Chuafeat, groupby = 'leiden_R2.3')"
   ]
  },
  {
   "cell_type": "code",
   "execution_count": null,
   "metadata": {},
   "outputs": [],
   "source": [
    "#Plot travaglini 2020 lung marker genes. \n",
    "sc.pl.dotplot(rna_x, Trav_list, groupby = 'leiden_R2.3')"
   ]
  },
  {
   "cell_type": "code",
   "execution_count": null,
   "metadata": {},
   "outputs": [],
   "source": [
    "#Plot Bjorkland ILC marker genes. \n",
    "sc.pl.dotplot(rna_x, ILC_Bjorkland, groupby = 'leiden_R2.3')"
   ]
  },
  {
   "cell_type": "code",
   "execution_count": null,
   "metadata": {},
   "outputs": [],
   "source": [
    "Zhang2020_T = ['CD3E',\n",
    "              'CD4',\n",
    "              'CD8A',\n",
    "              'CCR7',\n",
    "              'SELL',\n",
    "              'TCF7',\n",
    "              'LEF1',\n",
    "              'LTB',\n",
    "              'S100A4',\n",
    "              'GPR183',\n",
    "              'CD69',\n",
    "              'GZMK',\n",
    "              'GZMA',\n",
    "              'GZMB',\n",
    "              'GNLY',\n",
    "              'NKG7',\n",
    "              'FOXP3',\n",
    "              'IL2RA',\n",
    "              'TIGIT',\n",
    "              'HAVCR2',\n",
    "              'CTLA4',\n",
    "              'LAG3',\n",
    "              'PDCD1',\n",
    "              'TOX',\n",
    "              'FCGR3A',\n",
    "              'KIR3DL2',\n",
    "              'TYROBP',\n",
    "              'NCAM1',\n",
    "              'CD160']"
   ]
  },
  {
   "cell_type": "code",
   "execution_count": null,
   "metadata": {},
   "outputs": [],
   "source": [
    "#Plot T cells subset markers from Zhang 2021 Nature Immuno covid paper blood/balf. \n",
    "sc.pl.dotplot(rna_x, Zhang2020_T, groupby = 'leiden_R2.3')"
   ]
  },
  {
   "cell_type": "code",
   "execution_count": null,
   "metadata": {},
   "outputs": [],
   "source": [
    "#Visualise\n",
    "sc.pl.umap(rna_x, color=['leiden_R2.2', 'Sampletype'], legend_loc='on data')"
   ]
  },
  {
   "cell_type": "code",
   "execution_count": null,
   "metadata": {
    "tags": []
   },
   "outputs": [],
   "source": [
    "#Name clusters based on DEG and published marker gene expression. \n",
    "new_dict1 = {'0':'CD4 Tn',\n",
    "             '1,0':'DOUBLET',\n",
    "             '1,1':'DOUBLET',\n",
    "             '1,2':'DOUBLET',\n",
    "             '2,0':'CD4 Trm',\n",
    "             '2,1':'CD4 T ICOS+',\n",
    "             '2,2':'CD4 Trm',\n",
    "             '2,3':'CD4 Tcm',\n",
    "             '2,4':'CD4 Tmem AREG+',\n",
    "             '3,0':'CD8 Trm',\n",
    "             '3,1':'MAIT',\n",
    "             '3,2':'DOUBLET',\n",
    "             '4':'CD8 Tn',\n",
    "             '5':'DOUBLET',\n",
    "             '6':'CD4 Tem',\n",
    "             '7,0':'Tfh',\n",
    "             '7,1':'Treg',\n",
    "             '8':'DOUBLET',\n",
    "             '9':'CD4 Tcm',\n",
    "             '10':'CD4 Tn',\n",
    "             '11':'CD4 Tcm',\n",
    "             '12':'CD4 Tcm',\n",
    "             '13':'gdT vd2vg9',\n",
    "             '14':'CD4 Tcm',\n",
    "             '15':'DOUBLET',\n",
    "             '16':'CD4 Tcm',\n",
    "             '17':'CD4 Tcm',\n",
    "             '18':'CD4 Tcm',\n",
    "             '19':'CD4 Tcm',\n",
    "             '20':'CD4 Tcm CXCR4+',\n",
    "             '21':'CD4 Tcm',\n",
    "             '22':'CD4 Tcm ',\n",
    "             '23':'CD4 Tcm',\n",
    "             '24':'DOUBLET',\n",
    "             '25':'CD4 Tn',\n",
    "             '26':'CD4 Tcm',\n",
    "             '27':'DOUBLET',\n",
    "            '28':'DOUBLET'}\n",
    "rna_x.obs['fine_label'] = [new_dict1[l] for l in rna_x.obs['leiden_R2.3']]\n",
    "sc.pl.umap(rna_x, color=['fine_label'], size=20, legend_loc ='on data', legend_fontoutline=2)"
   ]
  },
  {
   "cell_type": "code",
   "execution_count": null,
   "metadata": {},
   "outputs": [],
   "source": [
    "adata_concat"
   ]
  },
  {
   "cell_type": "code",
   "execution_count": null,
   "metadata": {
    "scrolled": true
   },
   "outputs": [],
   "source": [
    "# update the original object\n",
    "adata_concat.obs['fine_label'] = adata_concat.obs['fine_label'].astype('object')\n",
    "adata_concat.obs['fine_label'].update(rna_x.obs['fine_label'].astype('object'))\n",
    "sc.pl.umap(adata_concat, color = ['leiden', 'fine_label'], size = 10, legend_loc = 'on data', legend_fontoutline=2)"
   ]
  },
  {
   "cell_type": "code",
   "execution_count": null,
   "metadata": {},
   "outputs": [],
   "source": [
    "#save for now\n",
    "adata_concat.write('COV_combined_T-fine_label_060721.h5ad', compression = 'gzip')\n",
    "adata_concat.raw.to_adata().write('COV_combined_T_fine_label_raw_060721.h5ad', compression = 'gzip')"
   ]
  },
  {
   "cell_type": "code",
   "execution_count": null,
   "metadata": {
    "tags": []
   },
   "outputs": [],
   "source": [
    "#Visualise\n",
    "sc.pl.umap(adata_concat, color=['leiden','broad_label','fine_label'], legend_loc = 'on data')"
   ]
  },
  {
   "cell_type": "code",
   "execution_count": null,
   "metadata": {},
   "outputs": [],
   "source": [
    "#need to recluster T cells without doublets, but do this later in next itteration of object. . "
   ]
  },
  {
   "cell_type": "markdown",
   "metadata": {},
   "source": [
    "### NK cell"
   ]
  },
  {
   "cell_type": "code",
   "execution_count": null,
   "metadata": {},
   "outputs": [],
   "source": [
    "# subset NK cells\n",
    "rna_ = adata_concat[adata_concat.obs['leiden'].isin(['3'])]\n",
    "rna_x = sc.AnnData(X = rna_.raw.X, obs = rna_.obs, var = rna_.raw.var, uns = rna_.uns, obsm = rna_.obsm, obsp = rna_.obsp)\n",
    "rna_x.raw = rna_x\n",
    "sc.pp.highly_variable_genes(rna_x, min_mean = 0.0125, max_mean = 3, min_disp = 0.5)\n",
    "sc.pl.highly_variable_genes(rna_x)\n",
    "rna_x"
   ]
  },
  {
   "cell_type": "code",
   "execution_count": null,
   "metadata": {},
   "outputs": [],
   "source": [
    "## remove TRBV/TRAV and IGHV/IGLV/IGKV from the highly variable genes\n",
    "## keep TCR gammadelta genes\n",
    "import re\n",
    "for i in rna_x.var.index:\n",
    "    if re.search('^TR[AB]V|^IG[HKL]V', i):\n",
    "        rna_x.var.at[i, 'highly_variable'] = False\n",
    "sc.pl.highly_variable_genes(rna_x)"
   ]
  },
  {
   "cell_type": "code",
   "execution_count": null,
   "metadata": {},
   "outputs": [],
   "source": [
    "# subset to highly variable\n",
    "rna_x = rna_x[:, rna_x.var['highly_variable']]\n",
    "# regress and scale for PCA\n",
    "sc.pp.regress_out(rna_x, ['total_counts', 'pct_counts_mt'])\n",
    "sc.pp.scale(rna_x, max_value = 10)"
   ]
  },
  {
   "cell_type": "code",
   "execution_count": null,
   "metadata": {},
   "outputs": [],
   "source": [
    "# Principal component analysis\n",
    "sc.tl.pca(rna_x, svd_solver = 'arpack')\n",
    "sc.pl.pca_variance_ratio(rna_x, log = True, n_pcs = 50)"
   ]
  },
  {
   "cell_type": "code",
   "execution_count": null,
   "metadata": {},
   "outputs": [],
   "source": [
    "# Computing the neighborhood graph. Seurat uses k = 20 as default\n",
    "sc.pp.neighbors(rna_x, n_neighbors = 10, n_pcs = 50)"
   ]
  },
  {
   "cell_type": "code",
   "execution_count": null,
   "metadata": {},
   "outputs": [],
   "source": [
    "# run UMAP\n",
    "sc.tl.umap(rna_x, n_components = 2, min_dist = 0.3)\n",
    "sc.pl.umap(rna_x, color=['Sampleid','Patient', 'Sampletype'])"
   ]
  },
  {
   "cell_type": "code",
   "execution_count": null,
   "metadata": {},
   "outputs": [],
   "source": [
    "#Visulise where main object lieden cluster fall\n",
    "sc.pl.umap(rna_x, color=['leiden'])"
   ]
  },
  {
   "cell_type": "code",
   "execution_count": null,
   "metadata": {},
   "outputs": [],
   "source": [
    "# run harmony for bathc correction \n",
    "sc.external.pp.harmony_integrate(rna_x, 'Patient')\n",
    "'X_pca_harmony' in rna_x.obsm\n"
   ]
  },
  {
   "cell_type": "code",
   "execution_count": null,
   "metadata": {},
   "outputs": [],
   "source": [
    "#Check \n",
    "rna_x"
   ]
  },
  {
   "cell_type": "code",
   "execution_count": null,
   "metadata": {},
   "outputs": [],
   "source": [
    "# Compute the neighborhood graph for the harmony corrected object. Seurat uses k = 20 as default\n",
    "sc.pp.neighbors(rna_x, n_neighbors = 10, n_pcs = 50, use_rep='X_pca_harmony')"
   ]
  },
  {
   "cell_type": "code",
   "execution_count": null,
   "metadata": {},
   "outputs": [],
   "source": [
    "# UMAP of harmony batch corrected object. \n",
    "sc.tl.umap(rna_x, n_components = 2, min_dist = 0.3)\n",
    "sc.pl.umap(rna_x, color=['Sampleid','Patient', 'Sampletype'])"
   ]
  },
  {
   "cell_type": "code",
   "execution_count": null,
   "metadata": {
    "tags": []
   },
   "outputs": [],
   "source": [
    "# find subset leiden clusters\n",
    "sc.tl.leiden(rna_x, resolution = 1, key_added = 'leiden_R')\n",
    "sc.pl.umap(rna_x, color=['leiden', 'leiden_R'], size=6, legend_loc ='on data', legend_fontoutline=2)"
   ]
  },
  {
   "cell_type": "code",
   "execution_count": null,
   "metadata": {},
   "outputs": [],
   "source": []
  },
  {
   "cell_type": "code",
   "execution_count": null,
   "metadata": {},
   "outputs": [],
   "source": [
    "#Look at NK/GDT/CD8/MAIT marker genes\n",
    "sc.pl.umap(rna_x, color = ['TRDC', 'TRGV9', 'CD4', 'CD8B', 'FOXP3', 'CXCR5', 'PDCD1', 'CD8A','TRAV1-2', 'CD69', 'KLRB1','ITGAE'], size = 20)"
   ]
  },
  {
   "cell_type": "code",
   "execution_count": null,
   "metadata": {},
   "outputs": [],
   "source": [
    "sc.pl.umap(rna_x, color = ['SELL', 'IFNG', 'PTGDR2','CCR3','CCR8','CXCR3','CCR5','IL13', 'IL5', 'IL4', 'IL17A', 'TRGC2', 'TRDV1', 'CD3E','TRGC1', 'TRDV2'], size = 20)"
   ]
  },
  {
   "cell_type": "code",
   "execution_count": null,
   "metadata": {},
   "outputs": [],
   "source": [
    "sc.pl.umap(rna_x, color = ['FCGR3A', 'NKG7','CD8B','CD3E','NCAM1','KLRC2','RORC','KIT'], size = 20)"
   ]
  },
  {
   "cell_type": "code",
   "execution_count": null,
   "metadata": {},
   "outputs": [],
   "source": [
    "# split specific clusters based on gene expression \n",
    "sc.tl.leiden(rna_x, resolution = .3, key_added = 'leiden_R2', restrict_to =('leiden_R', ['1']))\n",
    "sc.pl.umap(rna_x, color=['leiden', 'leiden_R2'], size=10, legend_loc ='on data', legend_fontoutline=2)"
   ]
  },
  {
   "cell_type": "code",
   "execution_count": null,
   "metadata": {},
   "outputs": [],
   "source": [
    "# split specific clusters\n",
    "sc.tl.leiden(rna_x, resolution = .4, key_added = 'leiden_R2.1', restrict_to =('leiden_R2', ['2']))\n",
    "sc.pl.umap(rna_x, color=['leiden', 'leiden_R2.1'], size=10, legend_loc ='on data', legend_fontoutline=2)"
   ]
  },
  {
   "cell_type": "code",
   "execution_count": null,
   "metadata": {},
   "outputs": [],
   "source": [
    "# split specific clusters\n",
    "sc.tl.leiden(rna_x, resolution = .3, key_added = 'leiden_R2.2', restrict_to =('leiden_R2.1', ['5']))\n",
    "sc.pl.umap(rna_x, color=['leiden', 'leiden_R2.2'], size=10, legend_loc ='on data', legend_fontoutline=2)"
   ]
  },
  {
   "cell_type": "code",
   "execution_count": null,
   "metadata": {},
   "outputs": [],
   "source": [
    "#Top 10 DEG dotplots \n",
    "sc.tl.rank_genes_groups(rna_x, groupby = 'leiden_R2.2', method = 'wilcoxon')\n",
    "sc.tl.filter_rank_genes_groups(rna_x, min_fold_change=1)\n",
    "sc.tl.dendrogram(rna_x, groupby = 'leiden_R2.2')\n",
    "sc.pl.rank_genes_groups_dotplot(rna_x, n_genes = 10, standard_scale = 'var', color_map = 'viridis', key = 'rank_genes_groups_filtered')"
   ]
  },
  {
   "cell_type": "code",
   "execution_count": null,
   "metadata": {
    "tags": []
   },
   "outputs": [],
   "source": [
    "#Chua 2020 gene expression profiles by cluster \n",
    "sc.pl.dotplot(rna_x, Chuafeat, groupby = 'leiden_R2.2')"
   ]
  },
  {
   "cell_type": "code",
   "execution_count": null,
   "metadata": {},
   "outputs": [],
   "source": [
    "sc.pl.dotplot(rna_x, Trav_list, groupby = 'leiden_R2.2')"
   ]
  },
  {
   "cell_type": "code",
   "execution_count": null,
   "metadata": {},
   "outputs": [],
   "source": [
    "#Travagliini genen expression profiles by cluster \n",
    "sc.pl.dotplot(rna_x, ILC_Bjorkland, groupby = 'leiden_R2.2')"
   ]
  },
  {
   "cell_type": "code",
   "execution_count": null,
   "metadata": {},
   "outputs": [],
   "source": [
    "#Zhang T cell gene expression porfolies by cluster \n",
    "sc.pl.dotplot(rna_x, Zhang2020_T, groupby = 'leiden_R2.2')"
   ]
  },
  {
   "cell_type": "code",
   "execution_count": null,
   "metadata": {},
   "outputs": [],
   "source": [
    "#Show split of data by sampletype and leiden cluster. \n",
    "sc.pl.umap(rna_x, color=['leiden_R2.2', 'Sampletype'], legend_loc='on data')"
   ]
  },
  {
   "cell_type": "code",
   "execution_count": null,
   "metadata": {
    "tags": []
   },
   "outputs": [],
   "source": [
    "#Name clusters based on gene expression profiles \n",
    "new_dict1 = {'0':'CD16+ NK',\n",
    "             '1,0':'CD8 CTL',\n",
    "             '1,1':'gdT vd1',\n",
    "             '2,0':'CD8 Tcm',\n",
    "             '2,1':'MAIT',\n",
    "             '2,2':'DOUBLET',\n",
    "             '3':'CD16+ NK PTGDS+',\n",
    "             '4':'aNK KLRC2+',\n",
    "             '5,0':'CD56+ NK',\n",
    "             '5,1':'CD56+ NK tissue',\n",
    "             '6':'DOUBLET',\n",
    "             '7':'CD8 Trm',\n",
    "             '8':'DOUBLET',\n",
    "             '9':'DOUBLET',\n",
    "             '10':'gdT vg3vd3',\n",
    "             '11':'DOUBLET',\n",
    "             '12':'ILC',\n",
    "             '13':'DOUBLET',\n",
    "             '14':'CD16+NK ISG+'\n",
    "             }\n",
    "rna_x.obs['fine_label'] = [new_dict1[l] for l in rna_x.obs['leiden_R2.2']]\n",
    "sc.pl.umap(rna_x, color=['fine_label'], size=20, legend_loc ='on data', legend_fontoutline=2)"
   ]
  },
  {
   "cell_type": "code",
   "execution_count": null,
   "metadata": {
    "scrolled": true,
    "tags": []
   },
   "outputs": [],
   "source": [
    "# update the original object with leiden clsuter 3 subset annotations \n",
    "adata_concat.obs['fine_label'] = adata_concat.obs['fine_label'].astype('object')\n",
    "adata_concat.obs['fine_label'].update(rna_x.obs['fine_label'].astype('object'))\n",
    "sc.pl.umap(adata_concat, color = ['leiden', 'fine_label'], size = 10, legend_loc = 'on data', legend_fontoutline=2)"
   ]
  },
  {
   "cell_type": "code",
   "execution_count": null,
   "metadata": {},
   "outputs": [],
   "source": [
    "#save for now\n",
    "adata_concat.write('COV_combined_TNK-fine_label_060721.h5ad', compression = 'gzip')\n",
    "adata_concat.raw.to_adata().write('COV_combined_TNK_fine_label_raw_060721.h5ad', compression = 'gzip')"
   ]
  },
  {
   "cell_type": "code",
   "execution_count": null,
   "metadata": {
    "tags": []
   },
   "outputs": [],
   "source": [
    "#Visualise \n",
    "sc.pl.umap(adata_concat, color=['leiden','broad_label','fine_label'], legend_loc = 'on data')"
   ]
  },
  {
   "cell_type": "code",
   "execution_count": null,
   "metadata": {},
   "outputs": [],
   "source": []
  },
  {
   "cell_type": "markdown",
   "metadata": {},
   "source": [
    "### B cells"
   ]
  },
  {
   "cell_type": "code",
   "execution_count": null,
   "metadata": {},
   "outputs": [],
   "source": [
    "# subset B and plasma broad labelled clusters \n",
    "rna_ = adata_concat[adata_concat.obs['leiden'].isin(['1', '4', '8','9','21'])]\n",
    "rna_x = sc.AnnData(X = rna_.raw.X, obs = rna_.obs, var = rna_.raw.var, uns = rna_.uns, obsm = rna_.obsm, obsp = rna_.obsp)\n",
    "rna_x.raw = rna_x\n",
    "sc.pp.highly_variable_genes(rna_x, min_mean = 0.0125, max_mean = 3, min_disp = 0.5)\n",
    "sc.pl.highly_variable_genes(rna_x)\n",
    "rna_x"
   ]
  },
  {
   "cell_type": "code",
   "execution_count": null,
   "metadata": {},
   "outputs": [],
   "source": [
    "## remove TRBV/TRAV and IGHV/IGLV/IGKV from the highly variable genes\n",
    "import re\n",
    "for i in rna_x.var.index:\n",
    "    if re.search('^TR[AB]V|^IG[HKL]V', i):\n",
    "        rna_x.var.at[i, 'highly_variable'] = False\n",
    "sc.pl.highly_variable_genes(rna_x)"
   ]
  },
  {
   "cell_type": "code",
   "execution_count": null,
   "metadata": {},
   "outputs": [],
   "source": [
    "# subset to highly variable\n",
    "rna_x = rna_x[:, rna_x.var['highly_variable']]\n",
    "# regress and scale for PCA\n",
    "sc.pp.regress_out(rna_x, ['total_counts', 'pct_counts_mt'])\n",
    "sc.pp.scale(rna_x, max_value = 10)"
   ]
  },
  {
   "cell_type": "code",
   "execution_count": null,
   "metadata": {},
   "outputs": [],
   "source": [
    "# Principal component analysis\n",
    "sc.tl.pca(rna_x, svd_solver = 'arpack')\n",
    "sc.pl.pca_variance_ratio(rna_x, log = True, n_pcs = 50)"
   ]
  },
  {
   "cell_type": "code",
   "execution_count": null,
   "metadata": {
    "tags": []
   },
   "outputs": [],
   "source": [
    "# Computing the neighborhood graph. Seurat uses k = 20 as default\n",
    "sc.pp.neighbors(rna_x, n_neighbors = 10, n_pcs = 50)"
   ]
  },
  {
   "cell_type": "code",
   "execution_count": null,
   "metadata": {},
   "outputs": [],
   "source": [
    "# run UMAP\n",
    "sc.tl.umap(rna_x, n_components = 2, min_dist = 0.3)\n",
    "sc.pl.umap(rna_x, color=['Sampleid','Patient', 'Sampletype'])"
   ]
  },
  {
   "cell_type": "code",
   "execution_count": null,
   "metadata": {},
   "outputs": [],
   "source": [
    "sc.pl.umap(rna_x, color=['leiden'])"
   ]
  },
  {
   "cell_type": "code",
   "execution_count": null,
   "metadata": {},
   "outputs": [],
   "source": [
    "# run harmony batch correction \n",
    "sc.external.pp.harmony_integrate(rna_x, 'Patient')\n",
    "'X_pca_harmony' in rna_x.obsm\n"
   ]
  },
  {
   "cell_type": "code",
   "execution_count": null,
   "metadata": {},
   "outputs": [],
   "source": [
    "rna_x"
   ]
  },
  {
   "cell_type": "code",
   "execution_count": null,
   "metadata": {},
   "outputs": [],
   "source": [
    "# Compute the neighborhood graph with harmony batch correction. Seurat uses k = 20 as default\n",
    "sc.pp.neighbors(rna_x, n_neighbors = 10, n_pcs = 50, use_rep='X_pca_harmony')"
   ]
  },
  {
   "cell_type": "code",
   "execution_count": null,
   "metadata": {},
   "outputs": [],
   "source": [
    "# UMAP of harmony corrected object \n",
    "sc.tl.umap(rna_x, n_components = 2, min_dist = 0.3)\n",
    "sc.pl.umap(rna_x, color=['Sampleid','Patient', 'Sampletype'])"
   ]
  },
  {
   "cell_type": "code",
   "execution_count": null,
   "metadata": {},
   "outputs": [],
   "source": [
    "#Visualise how main object clusters are split in reclustered object \n",
    "sc.pl.umap(rna_x, color=['leiden'])"
   ]
  },
  {
   "cell_type": "code",
   "execution_count": null,
   "metadata": {
    "tags": []
   },
   "outputs": [],
   "source": [
    "# find clusters in subsetted object \n",
    "sc.tl.leiden(rna_x, resolution = 0.5, key_added = 'leiden_R')\n",
    "sc.pl.umap(rna_x, color=['leiden', 'leiden_R'], size=6, legend_loc ='on data', legend_fontoutline=2)"
   ]
  },
  {
   "cell_type": "code",
   "execution_count": null,
   "metadata": {
    "tags": []
   },
   "outputs": [],
   "source": [
    "# split clusters\n",
    "sc.tl.leiden(rna_x, resolution = .2, key_added = 'leiden_R2', restrict_to = ('leiden_R', ['3']))\n",
    "sc.pl.umap(rna_x, color=['leiden', 'leiden_R2'], size=10, legend_loc ='on data', legend_fontoutline=2)"
   ]
  },
  {
   "cell_type": "code",
   "execution_count": null,
   "metadata": {},
   "outputs": [],
   "source": [
    "#Explore expression of key B cell/doublet/non B cell genes\n",
    "sc.pl.umap(rna_x, color = ['CD27', 'ITGA2B', 'CD19', 'CD3D', 'GNLY', 'JCHAIN', 'S100A8', 'CD3E'], size = 20)"
   ]
  },
  {
   "cell_type": "code",
   "execution_count": null,
   "metadata": {},
   "outputs": [],
   "source": [
    "sc.pl.umap(rna_x, color = ['PPBP', 'HBB','CD38'], size = 20)"
   ]
  },
  {
   "cell_type": "code",
   "execution_count": null,
   "metadata": {},
   "outputs": [],
   "source": [
    "#top 10 DEG ranked dotplot by cluster \n",
    "sc.tl.rank_genes_groups(rna_x, groupby = 'leiden_R2', method = 'wilcoxon')\n",
    "sc.tl.filter_rank_genes_groups(rna_x, min_fold_change=1)\n",
    "sc.tl.dendrogram(rna_x, groupby = 'leiden_R2')\n",
    "sc.pl.rank_genes_groups_dotplot(rna_x, n_genes = 10, standard_scale = 'var', color_map = 'viridis', key = 'rank_genes_groups_filtered')"
   ]
  },
  {
   "cell_type": "code",
   "execution_count": null,
   "metadata": {
    "tags": []
   },
   "outputs": [],
   "source": [
    "#Chua et al gene expression profiles by cluster \n",
    "sc.pl.dotplot(rna_x, Chuafeat, groupby = 'leiden_R2')"
   ]
  },
  {
   "cell_type": "code",
   "execution_count": null,
   "metadata": {},
   "outputs": [],
   "source": [
    "#Travaglini gene expression profiles by cluster \n",
    "sc.pl.dotplot(rna_x, Trav_list, groupby = 'leiden_R2.2')"
   ]
  },
  {
   "cell_type": "code",
   "execution_count": null,
   "metadata": {},
   "outputs": [],
   "source": [
    "#Bjorkland ILC genes by cluster \n",
    "sc.pl.dotplot(rna_x, ILC_Bjorkland, groupby = 'leiden_R2.2')"
   ]
  },
  {
   "cell_type": "code",
   "execution_count": null,
   "metadata": {},
   "outputs": [],
   "source": [
    "#Zhang t cell profiles by cluster \n",
    "sc.pl.dotplot(rna_x, Zhang2020_T, groupby = 'leiden_R2.2')"
   ]
  },
  {
   "cell_type": "code",
   "execution_count": null,
   "metadata": {},
   "outputs": [],
   "source": [
    "#A collection of key B cell and plasma cell markers for different maturation stages \n",
    "Bmark = ['CD19', 'MS4A1','CD38','JCHAIN','MME','CD27','TNFRSF13C', 'TNFRSF13B',\n",
    "         'TNFRSF17','CR2','CD5','FCER2','CD24','IGHD','IGHM','IGHE','IGHA1','IGHG1', 'HLA-DRA', 'CD79A',\n",
    "        'CXCR4','CXCR5','CD34','CD86','CD1D','CD74']\n",
    "Bmark"
   ]
  },
  {
   "cell_type": "code",
   "execution_count": null,
   "metadata": {},
   "outputs": [],
   "source": [
    "#B cell markers expressed in a dotplot \n",
    "sc.pl.dotplot(rna_x,Bmark,groupby='leiden_R2')"
   ]
  },
  {
   "cell_type": "code",
   "execution_count": null,
   "metadata": {},
   "outputs": [],
   "source": [
    "#Name B cells subset clusters in accordance with gene expression profiles above \n",
    "new_dict1 = {'0':'DOUBLET',\n",
    "             '1':'B',\n",
    "             '2':'B',\n",
    "             '3,0':'Plasma IgA',\n",
    "             '3,1':'DOUBLET',\n",
    "             '4':'IgM+ Plasmablast',\n",
    "             '5':'DOUBLET',\n",
    "             '6':'Non-switched B',\n",
    "             '7':'Bmem',\n",
    "             '8':'B',\n",
    "             '9':'B',\n",
    "             '10':'Follicular B',\n",
    "             '11':'Non-switched B',\n",
    "             '12':'Transitional B',\n",
    "             '13':'Transitional B',\n",
    "             '14':'B',\n",
    "             '15':'DOUBLET',\n",
    "             '16':'Marginal zone B',\n",
    "             '17':'B',\n",
    "             '18':'Plasmablast',\n",
    "             '19':'Bmem BHLHE40+',\n",
    "             '20':'B',\n",
    "             '21':'B',\n",
    "             '22':'B',\n",
    "             '23':'B IFNstim GBP5+',\n",
    "             '24':'B',\n",
    "             '25':'B',\n",
    "             '26':'DOUBLET',\n",
    "             '27':'B',\n",
    "             '28':'Bn'\n",
    "}\n",
    "rna_x.obs['fine_label'] = [new_dict1[l] for l in rna_x.obs['leiden_R2']]\n",
    "sc.pl.umap(rna_x, color=['fine_label'], size=20, legend_loc ='on data', legend_fontoutline=2)"
   ]
  },
  {
   "cell_type": "code",
   "execution_count": null,
   "metadata": {
    "scrolled": true
   },
   "outputs": [],
   "source": [
    "# update the original object with B cell subset annotations \n",
    "adata_concat.obs['fine_label'] = adata_concat.obs['fine_label'].astype('object')\n",
    "adata_concat.obs['fine_label'].update(rna_x.obs['fine_label'].astype('object'))\n",
    "sc.pl.umap(adata_concat, color = ['leiden', 'fine_label'], size = 10, legend_loc = 'on data', legend_fontoutline=2)"
   ]
  },
  {
   "cell_type": "code",
   "execution_count": null,
   "metadata": {},
   "outputs": [],
   "source": [
    "#save for now\n",
    "adata_concat.write('COV_combined_TNKB-fine_label_060721.h5ad', compression = 'gzip')\n",
    "adata_concat.raw.to_adata().write('COV_combined_TNKB_fine_label_raw_060721.h5ad', compression = 'gzip')"
   ]
  },
  {
   "cell_type": "code",
   "execution_count": null,
   "metadata": {},
   "outputs": [],
   "source": [
    "#load as kernel died\n",
    "adata_concat = sc.read_h5ad('COV_combined_TNKB-fine_label_060721.h5ad')\n",
    "adata_concat"
   ]
  },
  {
   "cell_type": "code",
   "execution_count": null,
   "metadata": {},
   "outputs": [],
   "source": [
    "#Visualise\n",
    "sc.pl.umap(adata_concat, color = ['leiden', 'broad_label'], size = 10, legend_loc = 'on data', legend_fontoutline=2)"
   ]
  },
  {
   "cell_type": "markdown",
   "metadata": {},
   "source": [
    "### monocyte/macrophage/DC"
   ]
  },
  {
   "cell_type": "code",
   "execution_count": null,
   "metadata": {},
   "outputs": [],
   "source": [
    "# subset MMP/DC broad labelled clusters. \n",
    "rna_ = adata_concat[adata_concat.obs['leiden'].isin(['2'])]\n",
    "rna_x = sc.AnnData(X = rna_.raw.X, obs = rna_.obs, var = rna_.raw.var, uns = rna_.uns, obsm = rna_.obsm, obsp = rna_.obsp)\n",
    "rna_x.raw = rna_x\n",
    "sc.pp.highly_variable_genes(rna_x, min_mean = 0.0125, max_mean = 3, min_disp = 0.5)\n",
    "sc.pl.highly_variable_genes(rna_x)\n",
    "rna_x"
   ]
  },
  {
   "cell_type": "code",
   "execution_count": null,
   "metadata": {},
   "outputs": [],
   "source": [
    "# subset to highly variable\n",
    "rna_x = rna_x[:, rna_x.var['highly_variable']]\n",
    "# regress and scale for PCA\n",
    "sc.pp.regress_out(rna_x, ['total_counts', 'pct_counts_mt'])\n",
    "sc.pp.scale(rna_x, max_value = 10)"
   ]
  },
  {
   "cell_type": "code",
   "execution_count": null,
   "metadata": {
    "tags": []
   },
   "outputs": [],
   "source": [
    "# Principal component analysis\n",
    "sc.tl.pca(rna_x, svd_solver = 'arpack')\n",
    "sc.pl.pca_variance_ratio(rna_x, log = True, n_pcs = 50)"
   ]
  },
  {
   "cell_type": "code",
   "execution_count": null,
   "metadata": {
    "tags": []
   },
   "outputs": [],
   "source": [
    "# Computing the neighborhood graph. Seurat uses k = 20 as default\n",
    "sc.pp.neighbors(rna_x, n_neighbors = 10, n_pcs = 50)"
   ]
  },
  {
   "cell_type": "code",
   "execution_count": null,
   "metadata": {},
   "outputs": [],
   "source": [
    "# run UMAP\n",
    "sc.tl.umap(rna_x, n_components = 2, min_dist = 0.3)\n",
    "sc.pl.umap(rna_x, color=['Sampleid','Patient', 'Sampletype'])"
   ]
  },
  {
   "cell_type": "code",
   "execution_count": null,
   "metadata": {},
   "outputs": [],
   "source": [
    "sc.pl.umap(rna_x, color=['leiden'])"
   ]
  },
  {
   "cell_type": "code",
   "execution_count": null,
   "metadata": {},
   "outputs": [],
   "source": [
    "# run harmony for batch correction \n",
    "sc.external.pp.harmony_integrate(rna_x, 'Patient')\n",
    "'X_pca_harmony' in rna_x.obsm\n"
   ]
  },
  {
   "cell_type": "code",
   "execution_count": null,
   "metadata": {},
   "outputs": [],
   "source": [
    "rna_x"
   ]
  },
  {
   "cell_type": "code",
   "execution_count": null,
   "metadata": {},
   "outputs": [],
   "source": [
    "# Compute the neighborhood graph with harmony correction. Seurat uses k = 20 as default\n",
    "sc.pp.neighbors(rna_x, n_neighbors = 10, n_pcs = 50, use_rep='X_pca_harmony')"
   ]
  },
  {
   "cell_type": "code",
   "execution_count": null,
   "metadata": {},
   "outputs": [],
   "source": [
    "# UMAP with harmony correction \n",
    "sc.tl.umap(rna_x, n_components = 2, min_dist = 0.3)\n",
    "sc.pl.umap(rna_x, color=['Sampleid','Patient', 'Sampletype'])"
   ]
  },
  {
   "cell_type": "code",
   "execution_count": null,
   "metadata": {},
   "outputs": [],
   "source": [
    "sc.pl.umap(rna_x, color=['leiden'])"
   ]
  },
  {
   "cell_type": "code",
   "execution_count": null,
   "metadata": {
    "tags": []
   },
   "outputs": [],
   "source": [
    "# find clusters in subsetted object. \n",
    "sc.tl.leiden(rna_x, resolution = 1, key_added = 'leiden_R')\n",
    "sc.pl.umap(rna_x, color=['leiden', 'leiden_R'], size=6, legend_loc ='on data', legend_fontoutline=2)"
   ]
  },
  {
   "cell_type": "code",
   "execution_count": null,
   "metadata": {
    "tags": []
   },
   "outputs": [],
   "source": [
    "# split clusters\n",
    "sc.tl.leiden(rna_x, resolution = .2, key_added = 'leiden_R2', restrict_to = ('leiden_R', ['6']))\n",
    "sc.pl.umap(rna_x, color=['leiden', 'leiden_R2'], size=10, legend_loc ='on data', legend_fontoutline=2)"
   ]
  },
  {
   "cell_type": "code",
   "execution_count": null,
   "metadata": {},
   "outputs": [],
   "source": [
    "#Review expression of key MMP/DC/Doublet marker genes. \n",
    "sc.pl.umap(rna_x, color = ['CD14', 'FCGR3A', 'FCGR3B', 'CD68', 'GNLY', 'CD3E', 'CD1C', 'CLEC9A', 'C1QC', 'CD86', 'PPBP', 'HBB'], size = 20)"
   ]
  },
  {
   "cell_type": "code",
   "execution_count": null,
   "metadata": {},
   "outputs": [],
   "source": [
    "#Top DEG dotplot by cluster \n",
    "sc.tl.rank_genes_groups(rna_x, groupby = 'leiden_R2', method = 'wilcoxon')\n",
    "sc.tl.filter_rank_genes_groups(rna_x, min_fold_change=1)\n",
    "sc.tl.dendrogram(rna_x, groupby = 'leiden_R2')\n",
    "sc.pl.rank_genes_groups_dotplot(rna_x, n_genes = 10, standard_scale = 'var', color_map = 'viridis', key = 'rank_genes_groups_filtered')"
   ]
  },
  {
   "cell_type": "code",
   "execution_count": null,
   "metadata": {
    "tags": []
   },
   "outputs": [],
   "source": [
    "#Chau marker gene expression by cluster \n",
    "sc.pl.dotplot(rna_x, Chuafeat, groupby = 'leiden_R2')"
   ]
  },
  {
   "cell_type": "code",
   "execution_count": null,
   "metadata": {},
   "outputs": [],
   "source": [
    "#Travalgini marker gene expression by cluster \n",
    "sc.pl.dotplot(rna_x, Trav_list, groupby = 'leiden_R2')"
   ]
  },
  {
   "cell_type": "code",
   "execution_count": null,
   "metadata": {},
   "outputs": [],
   "source": [
    "#Bjorkland ILC geneset expression \n",
    "sc.pl.dotplot(rna_x, ILC_Bjorkland, groupby = 'leiden_R2')"
   ]
  },
  {
   "cell_type": "code",
   "execution_count": null,
   "metadata": {},
   "outputs": [],
   "source": [
    "#Zhang T cell marker gene expression by cluster \n",
    "sc.pl.dotplot(rna_x, Zhang2020_T, groupby = 'leiden_R2')"
   ]
  },
  {
   "cell_type": "code",
   "execution_count": null,
   "metadata": {},
   "outputs": [],
   "source": [
    "#Visualise clusters \n",
    "sc.pl.umap(rna_x, color = 'leiden_R2', legend_loc = 'on data')"
   ]
  },
  {
   "cell_type": "code",
   "execution_count": null,
   "metadata": {},
   "outputs": [],
   "source": [
    "#Label clusters by gene expression profiles \n",
    "new_dict1 = {'0':'DOUBLET',\n",
    "             '1':'Classical monocyte',\n",
    "             '2':'Classical monocyte',\n",
    "             '3':'DOUBLET',\n",
    "             '4':'Classical monocyte',\n",
    "             '5':'Macrophage',\n",
    "             '6,0':'DOUBLET',\n",
    "             '6,1':'DOUBLET',\n",
    "             '6,2':'DOUBLET',\n",
    "             '7':'DOUBLET',\n",
    "             '8':'Classical monocyte',\n",
    "             '9':'cDC CD1C+',\n",
    "             '10':'DOUBLET',\n",
    "             '11':'DOUBLET',\n",
    "             '12':'DOUBLET',\n",
    "             '13':'DOUBLET',\n",
    "             '14':'DOUBLET',\n",
    "             '15':'Non-classical monocyte',\n",
    "             '16':'DOUBLET',\n",
    "             '17':'Basophil'\n",
    "}\n",
    "rna_x.obs['fine_label'] = [new_dict1[l] for l in rna_x.obs['leiden_R2']]\n",
    "sc.pl.umap(rna_x, color=['fine_label'], size=20, legend_loc ='on data', legend_fontoutline=2)"
   ]
  },
  {
   "cell_type": "code",
   "execution_count": null,
   "metadata": {},
   "outputs": [],
   "source": [
    "# update the original object\n",
    "adata_concat.obs['fine_label'] = adata_concat.obs['fine_label'].astype('object')\n",
    "adata_concat.obs['fine_label'].update(rna_x.obs['fine_label'].astype('object'))\n",
    "sc.pl.umap(adata_concat, color = ['leiden', 'fine_label'], size = 10, legend_loc = 'on data', legend_fontoutline=2)"
   ]
  },
  {
   "cell_type": "code",
   "execution_count": null,
   "metadata": {
    "tags": []
   },
   "outputs": [],
   "source": [
    "#Visualise \n",
    "sc.pl.umap(adata_concat, color = ['leiden', 'broad_label'], size = 10, legend_loc = 'on data', legend_fontoutline=2)"
   ]
  },
  {
   "cell_type": "code",
   "execution_count": null,
   "metadata": {},
   "outputs": [],
   "source": [
    "#save for now\n",
    "adata_concat.write('COV_combined_TNKBMMP-fine_label_070721.h5ad', compression = 'gzip')\n",
    "adata_concat.raw.to_adata().write('COV_combined_TNKBMMP_fine_label_raw_070721.h5ad', compression = 'gzip')"
   ]
  },
  {
   "cell_type": "markdown",
   "metadata": {},
   "source": [
    "### Epithelial"
   ]
  },
  {
   "cell_type": "code",
   "execution_count": null,
   "metadata": {},
   "outputs": [],
   "source": [
    "# subset broad label epithelial clusters \n",
    "rna_ = adata_concat[adata_concat.obs['leiden'].isin(['5','10','29','30'])]\n",
    "rna_x = sc.AnnData(X = rna_.raw.X, obs = rna_.obs, var = rna_.raw.var, uns = rna_.uns, obsm = rna_.obsm, obsp = rna_.obsp)\n",
    "rna_x.raw = rna_x\n",
    "sc.pp.highly_variable_genes(rna_x, min_mean = 0.0125, max_mean = 3, min_disp = 0.5)\n",
    "sc.pl.highly_variable_genes(rna_x)\n",
    "rna_x"
   ]
  },
  {
   "cell_type": "code",
   "execution_count": null,
   "metadata": {},
   "outputs": [],
   "source": [
    "# subset to highly variable\n",
    "rna_x = rna_x[:, rna_x.var['highly_variable']]\n",
    "# regress and scale for PCA\n",
    "sc.pp.regress_out(rna_x, ['total_counts', 'pct_counts_mt'])\n",
    "sc.pp.scale(rna_x, max_value = 10)"
   ]
  },
  {
   "cell_type": "code",
   "execution_count": null,
   "metadata": {
    "tags": []
   },
   "outputs": [],
   "source": [
    "# Principal component analysis\n",
    "sc.tl.pca(rna_x, svd_solver = 'arpack')\n",
    "sc.pl.pca_variance_ratio(rna_x, log = True, n_pcs = 50)"
   ]
  },
  {
   "cell_type": "code",
   "execution_count": null,
   "metadata": {
    "tags": []
   },
   "outputs": [],
   "source": [
    "# Computing the neighborhood graph. Seurat uses k = 20 as default\n",
    "sc.pp.neighbors(rna_x, n_neighbors = 10, n_pcs = 50)"
   ]
  },
  {
   "cell_type": "code",
   "execution_count": null,
   "metadata": {},
   "outputs": [],
   "source": [
    "# run UMAP\n",
    "sc.tl.umap(rna_x, n_components = 2, min_dist = 0.3)\n",
    "sc.pl.umap(rna_x, color=['Sampleid','Patient', 'Sampletype'])"
   ]
  },
  {
   "cell_type": "code",
   "execution_count": null,
   "metadata": {},
   "outputs": [],
   "source": [
    "sc.pl.umap(rna_x, color=['leiden'])"
   ]
  },
  {
   "cell_type": "code",
   "execution_count": null,
   "metadata": {},
   "outputs": [],
   "source": [
    "# run harmony for bathc correction \n",
    "sc.external.pp.harmony_integrate(rna_x, 'Patient')\n",
    "'X_pca_harmony' in rna_x.obsm\n"
   ]
  },
  {
   "cell_type": "code",
   "execution_count": null,
   "metadata": {},
   "outputs": [],
   "source": [
    "rna_x"
   ]
  },
  {
   "cell_type": "code",
   "execution_count": null,
   "metadata": {},
   "outputs": [],
   "source": [
    "# Compute the neighborhood graph with harmony correction. Seurat uses k = 20 as default\n",
    "sc.pp.neighbors(rna_x, n_neighbors = 10, n_pcs = 50, use_rep='X_pca_harmony')"
   ]
  },
  {
   "cell_type": "code",
   "execution_count": null,
   "metadata": {},
   "outputs": [],
   "source": [
    "# UMAP with harmony correction \n",
    "sc.tl.umap(rna_x, n_components = 2, min_dist = 0.3)\n",
    "sc.pl.umap(rna_x, color=['Sampleid','Patient', 'Sampletype'])"
   ]
  },
  {
   "cell_type": "code",
   "execution_count": null,
   "metadata": {},
   "outputs": [],
   "source": [
    "sc.pl.umap(rna_x, color=['leiden'])"
   ]
  },
  {
   "cell_type": "code",
   "execution_count": null,
   "metadata": {
    "tags": []
   },
   "outputs": [],
   "source": [
    "# find clusters in subet object \n",
    "sc.tl.leiden(rna_x, resolution = 0.8, key_added = 'leiden_R')\n",
    "sc.pl.umap(rna_x, color=['leiden', 'leiden_R'], size=6, legend_loc ='on data', legend_fontoutline=2)"
   ]
  },
  {
   "cell_type": "code",
   "execution_count": null,
   "metadata": {
    "tags": []
   },
   "outputs": [],
   "source": [
    "# split clusters\n",
    "sc.tl.leiden(rna_x, resolution = .2, key_added = 'leiden_R2', restrict_to = ('leiden_R', ['5']))\n",
    "sc.pl.umap(rna_x, color=['leiden', 'leiden_R2'], size=10, legend_loc ='on data', legend_fontoutline=2)"
   ]
  },
  {
   "cell_type": "code",
   "execution_count": null,
   "metadata": {},
   "outputs": [],
   "source": [
    "# split clusters\n",
    "sc.tl.leiden(rna_x, resolution = .2, key_added = 'leiden_R2.1', restrict_to = ('leiden_R2', ['4']))\n",
    "sc.pl.umap(rna_x, color=['leiden', 'leiden_R2.1'], size=10, legend_loc ='on data', legend_fontoutline=2)"
   ]
  },
  {
   "cell_type": "code",
   "execution_count": null,
   "metadata": {},
   "outputs": [],
   "source": [
    "#Explore expression of key epithelial marker genes \n",
    "sc.pl.umap(rna_x, color = ['EPCAM','KRT19','MUC5AC','PRR4','COL1A1','ACTA2','FOXJ1','ACKR1','PPBP', 'HBB','CD1A','ASCL2'], size = 20)"
   ]
  },
  {
   "cell_type": "code",
   "execution_count": null,
   "metadata": {},
   "outputs": [],
   "source": [
    "#Top 10 DEG by cluster \n",
    "sc.tl.rank_genes_groups(rna_x, groupby = 'leiden_R2.1', method = 'wilcoxon')\n",
    "sc.tl.filter_rank_genes_groups(rna_x, min_fold_change=1)\n",
    "sc.tl.dendrogram(rna_x, groupby = 'leiden_R2.1')\n",
    "sc.pl.rank_genes_groups_dotplot(rna_x, n_genes = 10, standard_scale = 'var', color_map = 'viridis', key = 'rank_genes_groups_filtered')"
   ]
  },
  {
   "cell_type": "code",
   "execution_count": null,
   "metadata": {
    "tags": []
   },
   "outputs": [],
   "source": [
    "#Chua marker gene expression profiles by cluster\n",
    "sc.pl.dotplot(rna_x, Chuafeat, groupby = 'leiden_R2.1')"
   ]
  },
  {
   "cell_type": "code",
   "execution_count": null,
   "metadata": {},
   "outputs": [],
   "source": [
    "#Travaglini marker gene expression profiles by cluster\n",
    "sc.pl.dotplot(rna_x, Trav_list, groupby = 'leiden_R2.1')"
   ]
  },
  {
   "cell_type": "code",
   "execution_count": null,
   "metadata": {},
   "outputs": [],
   "source": [
    "#Visualise clusters \n",
    "sc.pl.umap(rna_x, color = 'leiden_R2.1', legend_loc = 'on data')"
   ]
  },
  {
   "cell_type": "code",
   "execution_count": null,
   "metadata": {},
   "outputs": [],
   "source": [
    "#Name clusters based on gene expression profiles \n",
    "new_dict1 = {'0':'DOUBLET',\n",
    "             '1':'Secretory cell',\n",
    "             '2':'DOUBLET',\n",
    "             '3':'DOUBLET',\n",
    "             '4,0':'Ciliated cell',\n",
    "             '4,1':'Ciliated cell',\n",
    "             '4,2':'Ciliated cell',\n",
    "             '4,3':'Ciliated cell',\n",
    "             '5,0':'Suprabasal cell',\n",
    "             '5,1':'Basal cell',\n",
    "             '5,2':'Squamous epithelium',\n",
    "             '5,3':'DOUBLET',\n",
    "             '6':'DOUBLET',\n",
    "             '7':'DOUBLET',\n",
    "             '8':'DOUBLET',\n",
    "             '9':'DOUBLET',\n",
    "             '10':'DOUBLET',\n",
    "             '11':'Follicular DC',\n",
    "             '12':'Secretory cell',\n",
    "             '13':'DOUBLET',\n",
    "             '14':'DOUBLET',\n",
    "             '15':'DOUBLET',\n",
    "             '16':'Secretory cell IFITM3+',\n",
    "             '17':'Epithelial cell',\n",
    "             '18':'Secretory cell',\n",
    "             '19':'DOUBLET',\n",
    "             '20':'Endothelial cell'\n",
    "             \n",
    "             \n",
    "}\n",
    "rna_x.obs['fine_label'] = [new_dict1[l] for l in rna_x.obs['leiden_R2.1']]\n",
    "sc.pl.umap(rna_x, color=['fine_label'], size=20, legend_loc ='on data', legend_fontoutline=2)"
   ]
  },
  {
   "cell_type": "code",
   "execution_count": null,
   "metadata": {},
   "outputs": [],
   "source": [
    "# update the original object\n",
    "adata_concat.obs['fine_label'] = adata_concat.obs['fine_label'].astype('object')\n",
    "adata_concat.obs['fine_label'].update(rna_x.obs['fine_label'].astype('object'))\n",
    "sc.pl.umap(adata_concat, color = ['leiden', 'fine_label'], size = 10, legend_loc = 'on data', legend_fontoutline=2)"
   ]
  },
  {
   "cell_type": "code",
   "execution_count": null,
   "metadata": {
    "tags": []
   },
   "outputs": [],
   "source": [
    "#Visualise\n",
    "sc.pl.umap(adata_concat, color = ['leiden', 'broad_label'], size = 10, legend_loc = 'on data', legend_fontoutline=2)"
   ]
  },
  {
   "cell_type": "code",
   "execution_count": null,
   "metadata": {
    "tags": []
   },
   "outputs": [],
   "source": [
    "#save for now\n",
    "adata_concat.write('COV_combined_TNKBMMPepi-fine_label_070721.h5ad', compression = 'gzip')\n",
    "adata_concat.raw.to_adata().write('COV_combined_TNKBMMPepi_fine_label_raw_070721.h5ad', compression = 'gzip')"
   ]
  },
  {
   "cell_type": "markdown",
   "metadata": {},
   "source": [
    "### pDC"
   ]
  },
  {
   "cell_type": "code",
   "execution_count": null,
   "metadata": {},
   "outputs": [],
   "source": [
    "# subset cells with pDC broad label \n",
    "rna_ = adata_concat[adata_concat.obs['leiden'].isin(['22'])]\n",
    "rna_x = sc.AnnData(X = rna_.raw.X, obs = rna_.obs, var = rna_.raw.var, uns = rna_.uns, obsm = rna_.obsm, obsp = rna_.obsp)\n",
    "rna_x.raw = rna_x\n",
    "sc.pp.highly_variable_genes(rna_x, min_mean = 0.0125, max_mean = 3, min_disp = 0.5)\n",
    "sc.pl.highly_variable_genes(rna_x)\n",
    "rna_x"
   ]
  },
  {
   "cell_type": "code",
   "execution_count": null,
   "metadata": {},
   "outputs": [],
   "source": [
    "# subset to highly variable\n",
    "rna_x = rna_x[:, rna_x.var['highly_variable']]\n",
    "# regress and scale for PCA\n",
    "sc.pp.regress_out(rna_x, ['total_counts', 'pct_counts_mt'])\n",
    "sc.pp.scale(rna_x, max_value = 10)"
   ]
  },
  {
   "cell_type": "code",
   "execution_count": null,
   "metadata": {
    "tags": []
   },
   "outputs": [],
   "source": [
    "# Principal component analysis\n",
    "sc.tl.pca(rna_x, svd_solver = 'arpack')\n",
    "sc.pl.pca_variance_ratio(rna_x, log = True, n_pcs = 50)"
   ]
  },
  {
   "cell_type": "code",
   "execution_count": null,
   "metadata": {
    "tags": []
   },
   "outputs": [],
   "source": [
    "# Computing the neighborhood graph. Seurat uses k = 20 as default\n",
    "sc.pp.neighbors(rna_x, n_neighbors = 10, n_pcs = 50)"
   ]
  },
  {
   "cell_type": "code",
   "execution_count": null,
   "metadata": {
    "tags": []
   },
   "outputs": [],
   "source": [
    "# run UMAP\n",
    "sc.tl.umap(rna_x, n_components = 2, min_dist = 0.3)\n",
    "sc.pl.umap(rna_x, color=['Sampleid','Patient', 'Sampletype'])"
   ]
  },
  {
   "cell_type": "code",
   "execution_count": null,
   "metadata": {},
   "outputs": [],
   "source": [
    "sc.pl.umap(rna_x, color=['leiden'])"
   ]
  },
  {
   "cell_type": "code",
   "execution_count": null,
   "metadata": {},
   "outputs": [],
   "source": [
    "# run harmony batch correction \n",
    "sc.external.pp.harmony_integrate(rna_x, 'Patient')\n",
    "'X_pca_harmony' in rna_x.obsm\n"
   ]
  },
  {
   "cell_type": "code",
   "execution_count": null,
   "metadata": {},
   "outputs": [],
   "source": [
    "rna_x"
   ]
  },
  {
   "cell_type": "code",
   "execution_count": null,
   "metadata": {},
   "outputs": [],
   "source": [
    "# Compute the neighborhood graph with harmony batch correction . Seurat uses k = 20 as default\n",
    "sc.pp.neighbors(rna_x, n_neighbors = 10, n_pcs = 50, use_rep='X_pca_harmony')"
   ]
  },
  {
   "cell_type": "code",
   "execution_count": null,
   "metadata": {},
   "outputs": [],
   "source": [
    "# UMAP with harmony batch correction \n",
    "sc.tl.umap(rna_x, n_components = 2, min_dist = 0.3)\n",
    "sc.pl.umap(rna_x, color=['Sampleid','Patient', 'Sampletype'])"
   ]
  },
  {
   "cell_type": "code",
   "execution_count": null,
   "metadata": {},
   "outputs": [],
   "source": [
    "sc.pl.umap(rna_x, color=['leiden'])"
   ]
  },
  {
   "cell_type": "code",
   "execution_count": null,
   "metadata": {
    "tags": []
   },
   "outputs": [],
   "source": [
    "# find clusters in subset object \n",
    "sc.tl.leiden(rna_x, resolution = 0.5, key_added = 'leiden_R')\n",
    "sc.pl.umap(rna_x, color=['leiden', 'leiden_R'], size=6, legend_loc ='on data', legend_fontoutline=2)"
   ]
  },
  {
   "cell_type": "code",
   "execution_count": null,
   "metadata": {},
   "outputs": [],
   "source": [
    "#Some DC/pDC related marker gene expression \n",
    "sc.pl.umap(rna_x, color = ['IL3RA','CLEC10A','THBD'], size = 20)"
   ]
  },
  {
   "cell_type": "code",
   "execution_count": null,
   "metadata": {},
   "outputs": [],
   "source": [
    "#Top 10 DEG by cluster \n",
    "sc.tl.rank_genes_groups(rna_x, groupby = 'leiden_R', method = 'wilcoxon')\n",
    "sc.tl.filter_rank_genes_groups(rna_x, min_fold_change=1)\n",
    "sc.tl.dendrogram(rna_x, groupby = 'leiden_R')\n",
    "sc.pl.rank_genes_groups_dotplot(rna_x, n_genes = 10, standard_scale = 'var', color_map = 'viridis', key = 'rank_genes_groups_filtered')"
   ]
  },
  {
   "cell_type": "code",
   "execution_count": null,
   "metadata": {
    "tags": []
   },
   "outputs": [],
   "source": [
    "#Chua marker gene expression by cluster \n",
    "sc.pl.dotplot(rna_x, Chuafeat, groupby = 'leiden_R')"
   ]
  },
  {
   "cell_type": "code",
   "execution_count": null,
   "metadata": {},
   "outputs": [],
   "source": [
    "#Travaglini marker gene expression by cluster \n",
    "sc.pl.dotplot(rna_x, Trav_list, groupby = 'leiden_R')"
   ]
  },
  {
   "cell_type": "code",
   "execution_count": null,
   "metadata": {
    "tags": []
   },
   "outputs": [],
   "source": [
    "#Bjorkland ILC marker genes by cluster \n",
    "sc.pl.dotplot(rna_x, ILC_Bjorkland, groupby = 'leiden_R')"
   ]
  },
  {
   "cell_type": "code",
   "execution_count": null,
   "metadata": {
    "tags": []
   },
   "outputs": [],
   "source": [
    "#Zhang t cell marker genes by cluster \n",
    "sc.pl.dotplot(rna_x, Zhang2020_T, groupby = 'leiden_R')"
   ]
  },
  {
   "cell_type": "code",
   "execution_count": null,
   "metadata": {},
   "outputs": [],
   "source": [
    "#Visualise\n",
    "sc.pl.umap(rna_x, color = 'leiden_R', legend_loc = 'on data')"
   ]
  },
  {
   "cell_type": "code",
   "execution_count": null,
   "metadata": {},
   "outputs": [],
   "source": [
    "#Rename subset clusters based on gene expression profiles \n",
    "new_dict1 = {'0':'DOUBLET',\n",
    "             '1':'pDC',\n",
    "             '2':'pDC',\n",
    "             '3':'DOUBLET',\n",
    "             '4':'DOUBLET',\n",
    "             '5':'DOUBLET',\n",
    "             '6':'DOUBLET',\n",
    "             '7':'pDC',\n",
    "             '8':'DOUBLET',\n",
    "             '9':'pDC',\n",
    "             '10':'pDC',\n",
    "             '11':'pDC',\n",
    "             '12':'pDC',\n",
    "             '13':'pDC',\n",
    "             '14':'ILC',\n",
    "             '15':'pDC',\n",
    "             '16':'DOUBLET',\n",
    "             '17':'DOUBLET',\n",
    "             '18':'pDC'\n",
    "             \n",
    "             \n",
    "}\n",
    "rna_x.obs['fine_label'] = [new_dict1[l] for l in rna_x.obs['leiden_R']]\n",
    "sc.pl.umap(rna_x, color=['fine_label'], size=20, legend_loc ='on data', legend_fontoutline=2)"
   ]
  },
  {
   "cell_type": "code",
   "execution_count": null,
   "metadata": {},
   "outputs": [],
   "source": [
    "# update the original object\n",
    "adata_concat.obs['fine_label'] = adata_concat.obs['fine_label'].astype('object')\n",
    "adata_concat.obs['fine_label'].update(rna_x.obs['fine_label'].astype('object'))\n",
    "sc.pl.umap(adata_concat, color = ['leiden', 'fine_label'], size = 10, legend_loc = 'on data', legend_fontoutline=2)"
   ]
  },
  {
   "cell_type": "code",
   "execution_count": null,
   "metadata": {
    "tags": []
   },
   "outputs": [],
   "source": [
    "#Visualise \n",
    "sc.pl.umap(adata_concat, color = ['leiden', 'broad_label'], size = 10, legend_loc = 'on data', legend_fontoutline=2)"
   ]
  },
  {
   "cell_type": "code",
   "execution_count": null,
   "metadata": {
    "tags": []
   },
   "outputs": [],
   "source": [
    "#save for now\n",
    "adata_concat.write('COV_combined_TNKBMMPepipDC-fine_label_070721.h5ad', compression = 'gzip')\n",
    "adata_concat.raw.to_adata().write('COV_combined_TNKBMMPepipDC_fine_label_raw_070721.h5ad', compression = 'gzip')"
   ]
  },
  {
   "cell_type": "code",
   "execution_count": null,
   "metadata": {},
   "outputs": [],
   "source": []
  },
  {
   "cell_type": "markdown",
   "metadata": {},
   "source": [
    "### Megakaryocyte and erythrocyte"
   ]
  },
  {
   "cell_type": "code",
   "execution_count": null,
   "metadata": {},
   "outputs": [],
   "source": [
    "# subset broad labelled megakaryocytes and red cells \n",
    "rna_ = adata_concat[adata_concat.obs['leiden'].isin(['15', '16'])]\n",
    "rna_x = sc.AnnData(X = rna_.raw.X, obs = rna_.obs, var = rna_.raw.var, uns = rna_.uns, obsm = rna_.obsm, obsp = rna_.obsp)\n",
    "rna_x.raw = rna_x\n",
    "sc.pp.highly_variable_genes(rna_x, min_mean = 0.0125, max_mean = 3, min_disp = 0.5)\n",
    "sc.pl.highly_variable_genes(rna_x)\n",
    "rna_x"
   ]
  },
  {
   "cell_type": "code",
   "execution_count": null,
   "metadata": {},
   "outputs": [],
   "source": [
    "# subset to highly variable\n",
    "rna_x = rna_x[:, rna_x.var['highly_variable']]\n",
    "# regress and scale for PCA\n",
    "sc.pp.regress_out(rna_x, ['total_counts', 'pct_counts_mt'])\n",
    "sc.pp.scale(rna_x, max_value = 10)"
   ]
  },
  {
   "cell_type": "code",
   "execution_count": null,
   "metadata": {},
   "outputs": [],
   "source": [
    "# Principal component analysis\n",
    "sc.tl.pca(rna_x, svd_solver = 'arpack')\n",
    "sc.pl.pca_variance_ratio(rna_x, log = True, n_pcs = 50)"
   ]
  },
  {
   "cell_type": "code",
   "execution_count": null,
   "metadata": {
    "tags": []
   },
   "outputs": [],
   "source": [
    "# Computing the neighborhood graph. Seurat uses k = 20 as default\n",
    "sc.pp.neighbors(rna_x, n_neighbors = 10, n_pcs = 50)"
   ]
  },
  {
   "cell_type": "code",
   "execution_count": null,
   "metadata": {
    "tags": []
   },
   "outputs": [],
   "source": [
    "# run UMAP\n",
    "sc.tl.umap(rna_x, n_components = 2, min_dist = 0.3)\n",
    "sc.pl.umap(rna_x, color=['Sampleid','Patient', 'Sampletype'])"
   ]
  },
  {
   "cell_type": "code",
   "execution_count": null,
   "metadata": {},
   "outputs": [],
   "source": [
    "#What is broad leiden cluster split?\n",
    "sc.pl.umap(rna_x, color=['leiden'])"
   ]
  },
  {
   "cell_type": "code",
   "execution_count": null,
   "metadata": {},
   "outputs": [],
   "source": [
    "# run harmony for batch correction \n",
    "sc.external.pp.harmony_integrate(rna_x, 'Patient')\n",
    "'X_pca_harmony' in rna_x.obsm\n"
   ]
  },
  {
   "cell_type": "code",
   "execution_count": null,
   "metadata": {},
   "outputs": [],
   "source": [
    "rna_x"
   ]
  },
  {
   "cell_type": "code",
   "execution_count": null,
   "metadata": {},
   "outputs": [],
   "source": [
    "# Compute the neighborhood graph with harmony correction . Seurat uses k = 20 as default\n",
    "sc.pp.neighbors(rna_x, n_neighbors = 10, n_pcs = 50, use_rep='X_pca_harmony')"
   ]
  },
  {
   "cell_type": "code",
   "execution_count": null,
   "metadata": {},
   "outputs": [],
   "source": [
    "# UMAP with harmony correction \n",
    "sc.tl.umap(rna_x, n_components = 2, min_dist = 0.3)\n",
    "sc.pl.umap(rna_x, color=['Sampleid','Patient', 'Sampletype'])"
   ]
  },
  {
   "cell_type": "code",
   "execution_count": null,
   "metadata": {},
   "outputs": [],
   "source": [
    "#Broad leiden cluster split \n",
    "sc.pl.umap(rna_x, color=['leiden'])"
   ]
  },
  {
   "cell_type": "code",
   "execution_count": null,
   "metadata": {
    "tags": []
   },
   "outputs": [],
   "source": [
    "# find subset clusters\n",
    "sc.tl.leiden(rna_x, resolution = 0.5, key_added = 'leiden_R')\n",
    "sc.pl.umap(rna_x, color=['leiden', 'leiden_R'], size=6, legend_loc ='on data', legend_fontoutline=2)"
   ]
  },
  {
   "cell_type": "code",
   "execution_count": null,
   "metadata": {},
   "outputs": [],
   "source": [
    "#Marker genes of key celltypes given high likelihood of doublets\n",
    "sc.pl.umap(rna_x, color = ['CD14', 'FCGR3A', 'FCGR3B', 'CD68', 'GNLY', 'CD3E', 'CD1C', 'CLEC9A', 'C1QC', 'CD86', 'PPBP', 'HBB'], size = 20)"
   ]
  },
  {
   "cell_type": "code",
   "execution_count": null,
   "metadata": {},
   "outputs": [],
   "source": [
    "#Top 10 DEG by cluster \n",
    "sc.tl.rank_genes_groups(rna_x, groupby = 'leiden_R', method = 'wilcoxon')\n",
    "sc.tl.filter_rank_genes_groups(rna_x, min_fold_change=1)\n",
    "sc.tl.dendrogram(rna_x, groupby = 'leiden_R')\n",
    "sc.pl.rank_genes_groups_dotplot(rna_x, n_genes = 10, standard_scale = 'var', color_map = 'viridis', key = 'rank_genes_groups_filtered')"
   ]
  },
  {
   "cell_type": "code",
   "execution_count": null,
   "metadata": {},
   "outputs": [],
   "source": [
    "#Chua marker genes by cluster \n",
    "sc.pl.dotplot(rna_x,Chuafeat,groupby ='leiden_R')"
   ]
  },
  {
   "cell_type": "code",
   "execution_count": null,
   "metadata": {},
   "outputs": [],
   "source": [
    "#Name subset clusters based on gene expression profiles \n",
    "new_dict1 = {'0':'DOUBLET',\n",
    "             '1':'DOUBLET',\n",
    "            '2':'Megakaryocyte',\n",
    "             '3':'DOUBLET',\n",
    "             '4':'DOUBLET',\n",
    "             '5':'DOUBLET',\n",
    "             '6':'DOUBLET',\n",
    "             '7':'DOUBLET',\n",
    "            '8':'Erythrocyte',\n",
    "             '9':'DOUBLET',\n",
    "             '10':'DOUBLET',\n",
    "             '11':'DOUBLET',\n",
    "             '12':'DOUBLET',\n",
    "             '13':'DOUBLET',\n",
    "             '14':'DOUBLET',\n",
    "             '15':'DOUBLET',\n",
    "             '16':'DOUBLET',\n",
    "             '17':'DOUBLET',\n",
    "            '18':'Basophil'}\n",
    "rna_x.obs['fine_label'] = [new_dict1[l] for l in rna_x.obs['leiden_R']]\n",
    "sc.pl.umap(rna_x, color=['fine_label'], size=20, legend_loc ='on data', legend_fontoutline=2)"
   ]
  },
  {
   "cell_type": "code",
   "execution_count": null,
   "metadata": {},
   "outputs": [],
   "source": [
    "# update the original object\n",
    "adata_concat.obs['fine_label'] = adata_concat.obs['fine_label'].astype('object')\n",
    "adata_concat.obs['fine_label'].update(rna_x.obs['fine_label'].astype('object'))\n",
    "sc.pl.umap(adata_concat, color = ['leiden', 'fine_label'], size = 10, legend_loc = 'on data', legend_fontoutline=2)"
   ]
  },
  {
   "cell_type": "markdown",
   "metadata": {},
   "source": [
    "### Mast"
   ]
  },
  {
   "cell_type": "code",
   "execution_count": null,
   "metadata": {},
   "outputs": [],
   "source": [
    "# subset Mast cell broad cluster \n",
    "rna_ = adata_concat[adata_concat.obs['leiden'].isin(['25'])]\n",
    "rna_x = sc.AnnData(X = rna_.raw.X, obs = rna_.obs, var = rna_.raw.var, uns = rna_.uns, obsm = rna_.obsm, obsp = rna_.obsp)\n",
    "rna_x.raw = rna_x\n",
    "sc.pp.highly_variable_genes(rna_x, min_mean = 0.0125, max_mean = 3, min_disp = 0.5)\n",
    "sc.pl.highly_variable_genes(rna_x)\n",
    "rna_x"
   ]
  },
  {
   "cell_type": "code",
   "execution_count": null,
   "metadata": {},
   "outputs": [],
   "source": [
    "# subset to highly variable\n",
    "rna_x = rna_x[:, rna_x.var['highly_variable']]\n",
    "# regress and scale for PCA\n",
    "sc.pp.regress_out(rna_x, ['total_counts', 'pct_counts_mt'])\n",
    "sc.pp.scale(rna_x, max_value = 10)"
   ]
  },
  {
   "cell_type": "code",
   "execution_count": null,
   "metadata": {},
   "outputs": [],
   "source": [
    "# Principal component analysis\n",
    "sc.tl.pca(rna_x, svd_solver = 'arpack')\n",
    "sc.pl.pca_variance_ratio(rna_x, log = True, n_pcs = 50)"
   ]
  },
  {
   "cell_type": "code",
   "execution_count": null,
   "metadata": {
    "tags": []
   },
   "outputs": [],
   "source": [
    "# Computing the neighborhood graph. Seurat uses k = 20 as default\n",
    "sc.pp.neighbors(rna_x, n_neighbors = 10, n_pcs = 50)"
   ]
  },
  {
   "cell_type": "code",
   "execution_count": null,
   "metadata": {
    "tags": []
   },
   "outputs": [],
   "source": [
    "# run UMAP\n",
    "sc.tl.umap(rna_x, n_components = 2, min_dist = 0.3)\n",
    "sc.pl.umap(rna_x, color=['Sampleid','Patient', 'Sampletype'])"
   ]
  },
  {
   "cell_type": "code",
   "execution_count": null,
   "metadata": {},
   "outputs": [],
   "source": [
    "sc.pl.umap(rna_x, color=['leiden'])"
   ]
  },
  {
   "cell_type": "code",
   "execution_count": null,
   "metadata": {},
   "outputs": [],
   "source": [
    "# run harmony for batch correction\n",
    "sc.external.pp.harmony_integrate(rna_x, 'Patient')\n",
    "'X_pca_harmony' in rna_x.obsm\n"
   ]
  },
  {
   "cell_type": "code",
   "execution_count": null,
   "metadata": {},
   "outputs": [],
   "source": [
    "rna_x"
   ]
  },
  {
   "cell_type": "code",
   "execution_count": null,
   "metadata": {},
   "outputs": [],
   "source": [
    "# Compute the neighborhood graph based on harmony correction (not didn't converge). Seurat uses k = 20 as default\n",
    "sc.pp.neighbors(rna_x, n_neighbors = 10, n_pcs = 50, use_rep='X_pca_harmony')"
   ]
  },
  {
   "cell_type": "code",
   "execution_count": null,
   "metadata": {},
   "outputs": [],
   "source": [
    "# UMAP based on harmoyn correction\n",
    "sc.tl.umap(rna_x, n_components = 2, min_dist = 0.3)\n",
    "sc.pl.umap(rna_x, color=['Sampleid','Patient', 'Sampletype'])"
   ]
  },
  {
   "cell_type": "code",
   "execution_count": null,
   "metadata": {},
   "outputs": [],
   "source": [
    "sc.pl.umap(rna_x, color=['leiden'])"
   ]
  },
  {
   "cell_type": "code",
   "execution_count": null,
   "metadata": {
    "tags": []
   },
   "outputs": [],
   "source": [
    "# find clusters in subset object \n",
    "sc.tl.leiden(rna_x, resolution = 0.5, key_added = 'leiden_R')\n",
    "sc.pl.umap(rna_x, color=['leiden', 'leiden_R'], size=6, legend_loc ='on data', legend_fontoutline=2)"
   ]
  },
  {
   "cell_type": "code",
   "execution_count": null,
   "metadata": {},
   "outputs": [],
   "source": [
    "#Explore gene expression in clusters \n",
    "sc.pl.umap(rna_x, color = ['CD14', 'FCGR3A','GATA2','MRC1','GATA3', 'CD3E', 'CD1C', 'CLEC9A', 'C1QC', 'CD86', 'PPBP', 'HBB'], size = 20)"
   ]
  },
  {
   "cell_type": "code",
   "execution_count": null,
   "metadata": {},
   "outputs": [],
   "source": [
    "#Top 10 DEG by cluster \n",
    "sc.tl.rank_genes_groups(rna_x, groupby = 'leiden_R', method = 'wilcoxon')\n",
    "sc.tl.filter_rank_genes_groups(rna_x, min_fold_change=1)\n",
    "sc.tl.dendrogram(rna_x, groupby = 'leiden_R')\n",
    "sc.pl.rank_genes_groups_dotplot(rna_x, n_genes = 10, standard_scale = 'var', color_map = 'viridis', key = 'rank_genes_groups_filtered')"
   ]
  },
  {
   "cell_type": "code",
   "execution_count": null,
   "metadata": {},
   "outputs": [],
   "source": [
    "#Chua marker gene expression profiles by cluster \n",
    "sc.pl.dotplot(rna_x,Chuafeat,groupby ='leiden_R')"
   ]
  },
  {
   "cell_type": "code",
   "execution_count": null,
   "metadata": {},
   "outputs": [],
   "source": [
    "#Bjorkland ILC marker gene expression profiles by cluster \n",
    "sc.pl.dotplot(rna_x,ILC_Bjorkland,groupby ='leiden_R')"
   ]
  },
  {
   "cell_type": "code",
   "execution_count": null,
   "metadata": {},
   "outputs": [],
   "source": [
    "#Rename clusters based on gene expression profiles. \n",
    "new_dict1 = {'0':'DOUBLET',\n",
    "             '1':'Macrophage',\n",
    "             '2':'Mast',\n",
    "             '3':'M2 Macrophage',\n",
    "             '4':'DOUBLET',\n",
    "             '5':'Macrophage',\n",
    "             '6':'DOUBLET',\n",
    "             '7':'DOUBLET',\n",
    "             '8':'DOUBLET',\n",
    "             '9':'DOUBLET',\n",
    "             '10':'Macrophage',\n",
    "             '11':'Macrophage',\n",
    "             '12':'DOUBLET',\n",
    "             '13':'DOUBLET',\n",
    "             '14':'DOUBLET',\n",
    "             '15':'Macrophage',\n",
    "             '16':'DOUBLET',\n",
    "            '17':'Mast',\n",
    "            '18':'DOUBLET',\n",
    "            '19':'DOUBLET',\n",
    "            '20':'DOUBLET',\n",
    "            '21':'DOUBLET'}\n",
    "rna_x.obs['fine_label'] = [new_dict1[l] for l in rna_x.obs['leiden_R']]\n",
    "sc.pl.umap(rna_x, color=['fine_label'], size=20, legend_loc ='on data', legend_fontoutline=2)"
   ]
  },
  {
   "cell_type": "code",
   "execution_count": null,
   "metadata": {},
   "outputs": [],
   "source": [
    "# update the original object\n",
    "adata_concat.obs['fine_label'] = adata_concat.obs['fine_label'].astype('object')\n",
    "adata_concat.obs['fine_label'].update(rna_x.obs['fine_label'].astype('object'))\n",
    "sc.pl.umap(adata_concat, color = ['leiden', 'fine_label'], size = 10, legend_loc = 'on data', legend_fontoutline=2)"
   ]
  },
  {
   "cell_type": "code",
   "execution_count": null,
   "metadata": {},
   "outputs": [],
   "source": [
    "#save fully annotated first itteration (for reloading in new notebook for removal of doublets and reclustering)\n",
    "adata_concat.write('COV_combined_all_fine_label_070721.h5ad', compression = 'gzip')\n",
    "adata_concat.raw.to_adata().write('COV_combined_all_fine_label_raw_070721.h5ad', compression = 'gzip')"
   ]
  }
 ],
 "metadata": {
  "kernelspec": {
   "display_name": "mcpython",
   "language": "python",
   "name": "mcpython"
  },
  "language_info": {
   "codemirror_mode": {
    "name": "ipython",
    "version": 3
   },
   "file_extension": ".py",
   "mimetype": "text/x-python",
   "name": "python",
   "nbconvert_exporter": "python",
   "pygments_lexer": "ipython3",
   "version": "3.8.8"
  }
 },
 "nbformat": 4,
 "nbformat_minor": 4
}
