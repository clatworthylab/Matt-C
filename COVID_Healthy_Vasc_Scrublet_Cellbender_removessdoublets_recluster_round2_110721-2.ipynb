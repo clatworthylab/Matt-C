{
 "cells": [
  {
   "cell_type": "code",
   "execution_count": null,
   "metadata": {},
   "outputs": [],
   "source": [
    "#Load packages\n",
    "import numpy as np\n",
    "import pandas as pd\n",
    "import scanpy as sc\n",
    "import scrublet as scr\n",
    "import os\n",
    "import warnings\n",
    "import functools\n",
    "import seaborn as sns\n",
    "import scipy.stats\n",
    "import anndata\n",
    "#import dandelion as ddl\n",
    "import tables\n",
    "from rpy2.robjects import r"
   ]
  },
  {
   "cell_type": "code",
   "execution_count": null,
   "metadata": {},
   "outputs": [],
   "source": [
    "from collections import defaultdict"
   ]
  },
  {
   "cell_type": "code",
   "execution_count": null,
   "metadata": {},
   "outputs": [],
   "source": [
    "#Change working directory\n",
    "os.chdir(\"/home/jovyan/data/ClatCov/\")\n"
   ]
  },
  {
   "cell_type": "code",
   "execution_count": null,
   "metadata": {},
   "outputs": [],
   "source": [
    "#load data \n",
    "adata = sc.read_h5ad('COV_recluster_nd_broad_label_080721.h5ad')"
   ]
  },
  {
   "cell_type": "code",
   "execution_count": null,
   "metadata": {},
   "outputs": [],
   "source": [
    "adata"
   ]
  },
  {
   "cell_type": "code",
   "execution_count": null,
   "metadata": {},
   "outputs": [],
   "source": [
    "#Visualise\n",
    "sc.pl.umap(adata, color = 'fine_label')"
   ]
  },
  {
   "cell_type": "code",
   "execution_count": null,
   "metadata": {},
   "outputs": [],
   "source": [
    "sc.pl.umap(adata, color = 'broad_label')"
   ]
  },
  {
   "cell_type": "code",
   "execution_count": null,
   "metadata": {},
   "outputs": [],
   "source": [
    "#remove doublets\n",
    "adata = adata[adata.obs['broad_label'] != 'DOUBLET']\n",
    "adata = adata[adata.obs['fine_label'] != 'DOUBLET']\n",
    "adata"
   ]
  },
  {
   "cell_type": "code",
   "execution_count": null,
   "metadata": {},
   "outputs": [],
   "source": [
    "# Identify highly-variable genes\n",
    "sc.pp.highly_variable_genes(adata, min_mean = 0.0125, max_mean = 3, min_disp = 0.5)\n",
    "# plot highly_variable_genes\n",
    "sc.pl.highly_variable_genes(adata)"
   ]
  },
  {
   "cell_type": "code",
   "execution_count": null,
   "metadata": {},
   "outputs": [],
   "source": [
    "## remove TRBV/TRAV/TRGV/TRDV and IGHV/IGLV/IGKV from the highly variable genes\n",
    "#Decided not to remove TRGV/TRDV as need these for gdT subset identification. \n",
    "import re\n",
    "for i in adata.var.index:\n",
    "    if re.search('^TR[AB]V|^IG[HKL]V', i):\n",
    "        adata.var.at[i, 'highly_variable'] = False\n",
    "sc.pl.highly_variable_genes(adata)"
   ]
  },
  {
   "cell_type": "code",
   "execution_count": null,
   "metadata": {},
   "outputs": [],
   "source": [
    "# filter to only highly variable\n",
    "adata = adata[:, adata.var['highly_variable']]\n",
    "adata"
   ]
  },
  {
   "cell_type": "code",
   "execution_count": null,
   "metadata": {},
   "outputs": [],
   "source": [
    "import multiprocessing\n",
    "# regress and scale for PCA\n",
    "sc.pp.regress_out(adata, ['total_counts', 'pct_counts_mt'],n_jobs = multiprocessing.cpu_count()-4)\n"
   ]
  },
  {
   "cell_type": "code",
   "execution_count": null,
   "metadata": {},
   "outputs": [],
   "source": [
    "sc.pp.scale(adata, max_value = 10)\n"
   ]
  },
  {
   "cell_type": "code",
   "execution_count": null,
   "metadata": {},
   "outputs": [],
   "source": [
    "# Principal component analysis\n",
    "sc.tl.pca(adata, svd_solver = 'arpack')\n",
    "sc.pl.pca_variance_ratio(adata, log = True, n_pcs = 50)"
   ]
  },
  {
   "cell_type": "code",
   "execution_count": null,
   "metadata": {},
   "outputs": [],
   "source": [
    "# Computing the neighborhood graph. Seurat uses k = 20 as default\n",
    "sc.pp.neighbors(adata, n_neighbors = 10, n_pcs = 50)"
   ]
  },
  {
   "cell_type": "code",
   "execution_count": null,
   "metadata": {},
   "outputs": [],
   "source": [
    "#What is split between subsets\n",
    "pd.crosstab(adata.obs['fine_label'],adata.obs['COVID_severity'])"
   ]
  },
  {
   "cell_type": "code",
   "execution_count": null,
   "metadata": {},
   "outputs": [],
   "source": [
    "# run UMAP\n",
    "sc.tl.umap(adata, n_components = 2, min_dist = 0.3)\n",
    "sc.pl.umap(adata, color=['Sampleid','Patient', 'Sampletype'])"
   ]
  },
  {
   "cell_type": "code",
   "execution_count": null,
   "metadata": {},
   "outputs": [],
   "source": [
    "# run harmony for batch correction \n",
    "sc.external.pp.harmony_integrate(adata, 'Patient')\n",
    "'X_pca_harmony' in adata.obsm\n"
   ]
  },
  {
   "cell_type": "code",
   "execution_count": null,
   "metadata": {},
   "outputs": [],
   "source": [
    "adata"
   ]
  },
  {
   "cell_type": "code",
   "execution_count": null,
   "metadata": {},
   "outputs": [],
   "source": [
    "# Compute the neighborhood graph with harmoyn batch correction. Seurat uses k = 20 as default\n",
    "sc.pp.neighbors(adata, n_neighbors = 10, n_pcs = 50, use_rep='X_pca_harmony')"
   ]
  },
  {
   "cell_type": "code",
   "execution_count": null,
   "metadata": {},
   "outputs": [],
   "source": [
    "# UMAP with harmony batch correction\n",
    "sc.tl.umap(adata, n_components = 2, min_dist = 0.3)\n",
    "sc.pl.umap(adata, color=['Sampleid','Patient', 'Sampletype'])"
   ]
  },
  {
   "cell_type": "code",
   "execution_count": null,
   "metadata": {},
   "outputs": [],
   "source": [
    "# find broad clusters\n",
    "sc.tl.leiden(adata, resolution =0.5)\n",
    "sc.pl.umap(adata, color = 'leiden')"
   ]
  },
  {
   "cell_type": "code",
   "execution_count": null,
   "metadata": {},
   "outputs": [],
   "source": [
    "sc.pl.umap(adata, color = 'leiden', legend_loc='on data')"
   ]
  },
  {
   "cell_type": "code",
   "execution_count": null,
   "metadata": {},
   "outputs": [],
   "source": [
    "#What is split between meta objects\n",
    "sc.pl.umap(adata, color=['Sampleid','Patient', 'Sampletype', 'Gender', 'leiden', 'Cohort'], ncols = 3)"
   ]
  },
  {
   "cell_type": "code",
   "execution_count": null,
   "metadata": {},
   "outputs": [],
   "source": [
    "sc.pl.umap(adata, color=['Sampletype', 'Gender', 'Cohort'], ncols = 3)"
   ]
  },
  {
   "cell_type": "code",
   "execution_count": null,
   "metadata": {},
   "outputs": [],
   "source": [
    "sc.pl.umap(adata, color=['leiden'], legend_loc = 'on data', ncols = 3)"
   ]
  },
  {
   "cell_type": "code",
   "execution_count": null,
   "metadata": {},
   "outputs": [],
   "source": [
    "# create a palette for umap\n",
    "import numpy as np\n",
    "import matplotlib.pyplot as plt\n",
    "from matplotlib import cm\n",
    "from matplotlib.colors import ListedColormap, LinearSegmentedColormap\n",
    "viridis = cm.get_cmap('viridis', 256)\n",
    "newcolors = viridis(np.linspace(0, 1, 256))\n",
    "grey = np.array([215/256, 215/256, 215/256, 1])\n",
    "newcolors[:1, :] = grey\n",
    "newcmp = ListedColormap(newcolors)"
   ]
  },
  {
   "cell_type": "code",
   "execution_count": null,
   "metadata": {},
   "outputs": [],
   "source": [
    "# run marker gene test\n",
    "sc.tl.rank_genes_groups(adata, groupby = 'leiden', method = 'wilcoxon', n_genes = 30000)"
   ]
  },
  {
   "cell_type": "code",
   "execution_count": null,
   "metadata": {},
   "outputs": [],
   "source": [
    "#Dotplot of top 10 DEG by cluster \n",
    "sc.pl.rank_genes_groups_dotplot(adata, n_genes = 10, standard_scale = 'var', color_map = 'viridis')"
   ]
  },
  {
   "cell_type": "code",
   "execution_count": null,
   "metadata": {},
   "outputs": [],
   "source": [
    "#cluster labels from Chua et al. Nat Biotech 2020\n",
    "Chuafeat = ['TP63', 'KRT5', 'S100A2', 'FABP5', 'SERPINB3', 'TMSB4X', 'IFIT1', 'IFIT2', 'IFITM3', 'ISG15', 'ISG20', 'OAS1', 'SCGB1A1', 'SCGB3A1', 'XBP1', 'VMO1', 'MUC5AC', 'PIGR', 'FOXN4', 'CCNO', 'MYCL', 'CDC20B', 'TUBA1B', 'PCM1', 'FOXJ1', 'EFHC1', 'CCDC153', \n",
    "              'CCDC113', 'MLF1', 'LZTFL1', 'FOXI1', 'CFTR', 'ASCL3', 'FOXI2', 'SFTPB', 'ANK2', 'SFTPB', 'ANK2', 'SPRR1A', 'SPRR2A', 'SPRR2D', 'SPRR2E', 'SPRR3', 'TMPRSS11E', 'IL1B', 'VCAN', 'CD14', 'CCL2', 'FCGR3A', 'CXCL10', 'IFIT1', 'CD68', 'FABP5', 'FCER1A', 'CD74', 'HLA-DQB1',\n",
    "              'HLA-DRA', 'JCHAIN', 'APOE', 'NCAM1', 'HMGB2', 'STMN1', 'FOXP3', 'CTLA4', 'TNFRSF18', 'CD4', 'CD8B', 'CD8A', 'PRF1', 'GZMA', 'GZMB', 'GNLY', 'NKG7', 'CD3G', 'CD3E', 'KLRB1', 'IL32', 'S100A4', 'CD27', 'CD19', 'MS4A1', 'CD79A', 'IRF7', 'TLR7', 'CLEC4C', 'IL3RA', 'LYN', \n",
    "              'FCGR3B', 'ITGAX', 'HPGD', 'LTC4S', 'CPA3','CD69', 'ITGA1', 'KIT', 'HBB', 'PPBP']\n",
    "Chuafeat"
   ]
  },
  {
   "cell_type": "code",
   "execution_count": null,
   "metadata": {},
   "outputs": [],
   "source": [
    "#Marker genes for celltypes from Travaglini 2020 nature lung\n",
    "Trav_list = ['FOXJ1','KRT5','MUC5B',\n",
    "   'MUC5B',\n",
    "   'PRR4',\n",
    "   'CFTR',\n",
    "   'CALCA',\n",
    "   'DCLK1',\n",
    "   'AGER',\n",
    "   'SFTPB',\n",
    "   'ACKR1',\n",
    "   'CA4',\n",
    "   'PROX1',\n",
    "   'CNN1',\n",
    "   'CNN1',\n",
    "   'COL1A1',\n",
    "   'COL1A1',\n",
    "   'COL1A1',\n",
    "   'CSPG4',\n",
    "   'MSLN',\n",
    "   'SNAP25',\n",
    "   'CD79A',\n",
    "   'CD79A',\n",
    "   'CD3E',\n",
    "   'CD3E',\n",
    "   'CD3E',\n",
    "   'CD3E',\n",
    "   'KLRD1',\n",
    "   'CD3E',\n",
    "   'S100A8',\n",
    "   'MS4A2',\n",
    "   'MS4A2',\n",
    "   'SIGLEC8',\n",
    "   'NRGN',\n",
    "   'MARCO',\n",
    "   'LILRB4',\n",
    "   'CLEC9A',\n",
    "   'CD14',\n",
    "  'SCGB3A2',\n",
    "   'TUBB1',\n",
    "   'KRT14',\n",
    "   'MUC5AC',\n",
    "   'LPO',\n",
    "   'FOXI1',\n",
    "   'CHGA',\n",
    "   'ASCL2',\n",
    "   'PDPN',\n",
    "   'BMX',\n",
    "   'PDPN',\n",
    "   'ACTA2',\n",
    "   'PDGFRA',\n",
    "   'TRPC6',\n",
    "   'UPK3B',\n",
    "   'CD24',\n",
    "   'CD27',\n",
    "   'CD8A',\n",
    "   'CD4',\n",
    "   'NKG7',\n",
    "   'CD8B',\n",
    "   'S100A9',\n",
    "   'CPA3',\n",
    "   'PPBP',\n",
    "   'MSR1',\n",
    "   'IRF8',\n",
    "   'LAMP3',\n",
    "   'CD1C',\n",
    "   'S100A8',\n",
    "   'TP73',\n",
    "   'TP63',\n",
    "   'SPDEF',\n",
    "   'LTF',\n",
    "   'ASCL3',\n",
    "   'ASCL1',\n",
    "   'CLIC5',\n",
    "   'TAGLN',\n",
    "   'ELN',\n",
    "   'PLIN2',\n",
    "   'PDGFRB',\n",
    "   'MS4A1',\n",
    "   'SLAMF7',\n",
    "   'GZMK',\n",
    "   'COTL1',\n",
    "   'CCR7',\n",
    "   'TYROBP',\n",
    "   'FCER1G',\n",
    "   'IFITM2',\n",
    "   'TPSAB1',\n",
    "   'PF4',\n",
    "   'MRC1',\n",
    "   'LILRA4',\n",
    "   'PLD4',\n",
    "   'FCGR3A',\n",
    "   'CCDC78',\n",
    "   'DAPL1',\n",
    "   'MUC1',\n",
    "   'RGS5',\n",
    "   'DES',\n",
    "   'ACTA2',\n",
    "   'APOE',\n",
    "   'CD19',\n",
    "   'DUSP2',\n",
    "   'GZMB',\n",
    "   'LDHB',\n",
    "   'LEF1',\n",
    "   'TYROBP',\n",
    "   'FCGR3B',\n",
    "   'OST4',\n",
    "   'ETV5', \n",
    "   'LGR6']\n",
    "Trav_list"
   ]
  },
  {
   "cell_type": "code",
   "execution_count": null,
   "metadata": {},
   "outputs": [],
   "source": [
    "#Chua marker gene expression by cluster \n",
    "sc.pl.dotplot(adata, Chuafeat, groupby = 'leiden')"
   ]
  },
  {
   "cell_type": "code",
   "execution_count": null,
   "metadata": {},
   "outputs": [],
   "source": [
    "#Travalini marker genes by cluster\n",
    "sc.pl.dotplot(adata,Trav_list, groupby = 'leiden', title = 'COV_ctrl_wholeobject_Travaglini')"
   ]
  },
  {
   "cell_type": "code",
   "execution_count": null,
   "metadata": {},
   "outputs": [],
   "source": [
    "ILC_Bjorkland = ['CCL3',\n",
    "'CXCR3',\n",
    "'IFNG',\n",
    "'IL12RB1',\n",
    "'TBX21',\n",
    "'PTGDR2',\n",
    "'IL17RB',\n",
    "'IL1RL1',\n",
    "'IL13',\n",
    "'GATA3',\n",
    "'NCR2',\n",
    "'IL22',\n",
    "'RORC',\n",
    "'AHR',\n",
    "'IL23R',\n",
    "'IL1R1',\n",
    "'EOMES',\n",
    "'GZMA',\n",
    "'GNLY',\n",
    "'KLRC1']"
   ]
  },
  {
   "cell_type": "code",
   "execution_count": null,
   "metadata": {},
   "outputs": [],
   "source": [
    "ILC_Bjorkland"
   ]
  },
  {
   "cell_type": "code",
   "execution_count": null,
   "metadata": {},
   "outputs": [],
   "source": [
    "#Bjorkland 2016 Nature immunology \n",
    "sc.pl.dotplot(adata,ILC_Bjorkland, groupby = 'leiden', title = 'COV_ctrl_wholeobject_BjorklandILC')"
   ]
  },
  {
   "cell_type": "code",
   "execution_count": null,
   "metadata": {},
   "outputs": [],
   "source": [
    "#Zhang 2020 nature immunology t cell subsets single cell markers \n",
    "sc.pl.dotplot(adata, Zhang2020_T, groupby = 'leiden')"
   ]
  },
  {
   "cell_type": "code",
   "execution_count": null,
   "metadata": {},
   "outputs": [],
   "source": [
    "#Collection of key marker genes for each broad cell cluster\n",
    "clustermark = ['CD3E', 'CD19', 'JCHAIN','CD4','CD8B','NCAM1','TRDC','FCGR3B','KIT',\n",
    "               'GATA2','CD68',\n",
    "              'GZMK','GZMA','GZMB','CCR7','SELL','FOXP3','EPCAM','MUC5AC','HBB','PPBP',\n",
    "              'HLA-DRA','CLEC10A','CLEC4C']"
   ]
  },
  {
   "cell_type": "code",
   "execution_count": null,
   "metadata": {},
   "outputs": [],
   "source": [
    "#Plotted as matrixplot with scaling \n",
    "sc.pl.matrixplot(adata, clustermark, groupby = 'broad_label',dendrogram = True, standard_scale ='var')"
   ]
  },
  {
   "cell_type": "code",
   "execution_count": null,
   "metadata": {},
   "outputs": [],
   "source": [
    "sc.pl.umap(adata,color = 'leiden', legend_loc = 'on data')"
   ]
  },
  {
   "cell_type": "code",
   "execution_count": null,
   "metadata": {},
   "outputs": [],
   "source": [
    "sc.pl.umap(adata,color = 'broad_label', legend_loc = 'on data')"
   ]
  },
  {
   "cell_type": "code",
   "execution_count": null,
   "metadata": {},
   "outputs": [],
   "source": [
    "# give broad annotations based on gene expression profiles \n",
    "#new_dict = {'0':'B',\n",
    "           '1':'CD4 T',\n",
    "           '2':'MMP',\n",
    "           '3':'Plasma',\n",
    "           '4':'NK',\n",
    "           '5':'CD8 CTL',\n",
    "           '6':'Treg',\n",
    "           '7':'CD4 T',\n",
    "           '8':'Epithelial',\n",
    "           '9':'CD8 Tn',\n",
    "           '10':'Plasma',\n",
    "           '11':'CD4 T',\n",
    "           '12':'gdT',\n",
    "           '13':'CD4 T',\n",
    "           '14':'Megakaryocyte',\n",
    "           '15':'cDC',\n",
    "           '16':'CD4 T',\n",
    "           '17':'CD4 T',\n",
    "           '18':'?DOUBLET',\n",
    "           '19':'pDC',\n",
    "           '20':'Mast',\n",
    "           '21':'Epithelial',\n",
    "           '22':'B',\n",
    "           '23':'Erythrocyte'}\n",
    "#adata.obs['broad_label'] = [new_dict[l] for l in adata.obs['leiden']]\n",
    "#sc.pl.umap(adata, color=['leiden', 'broad_label'], legend_fontoutline=2, legend_loc = 'on data')"
   ]
  },
  {
   "cell_type": "code",
   "execution_count": null,
   "metadata": {
    "tags": []
   },
   "outputs": [],
   "source": []
  },
  {
   "cell_type": "code",
   "execution_count": null,
   "metadata": {},
   "outputs": [],
   "source": []
  },
  {
   "cell_type": "code",
   "execution_count": null,
   "metadata": {},
   "outputs": [],
   "source": [
    "sc.pl.umap(adata, color = 'broad_label')"
   ]
  },
  {
   "cell_type": "code",
   "execution_count": null,
   "metadata": {},
   "outputs": [],
   "source": [
    "sc.pl.umap(adata, color = 'fine_label')"
   ]
  },
  {
   "cell_type": "code",
   "execution_count": null,
   "metadata": {},
   "outputs": [],
   "source": [
    "#What is split of cells across data? \n",
    "pd.crosstab(adata.obs['Patient'],adata.obs['broad_label'])"
   ]
  },
  {
   "cell_type": "code",
   "execution_count": null,
   "metadata": {},
   "outputs": [],
   "source": [
    "adata.obs"
   ]
  },
  {
   "cell_type": "code",
   "execution_count": null,
   "metadata": {},
   "outputs": [],
   "source": [
    "#add Mark's missing metadata\n",
    "adata.obs['Gender'][adata.obs['Patient'] == 'N01-001'] = 'M'"
   ]
  },
  {
   "cell_type": "code",
   "execution_count": null,
   "metadata": {},
   "outputs": [],
   "source": [
    "#add missing metadata\n",
    "adata.obs['Gender'][adata.obs['Patient'] == 'N01-002'] = 'F'"
   ]
  },
  {
   "cell_type": "code",
   "execution_count": null,
   "metadata": {},
   "outputs": [],
   "source": [
    "#add missing metadata\n",
    "adata.obs['Gender'][adata.obs['Patient'] == 'N01-005'] = 'M'"
   ]
  },
  {
   "cell_type": "code",
   "execution_count": null,
   "metadata": {},
   "outputs": [],
   "source": [
    "#add missing metadata\n",
    "adata.obs['Gender'][adata.obs['Patient'] == 'N01-011'] = 'M'"
   ]
  },
  {
   "cell_type": "code",
   "execution_count": null,
   "metadata": {},
   "outputs": [],
   "source": [
    "adata.obs['Gender'].value_counts()"
   ]
  },
  {
   "cell_type": "code",
   "execution_count": null,
   "metadata": {},
   "outputs": [],
   "source": [
    "adata"
   ]
  },
  {
   "cell_type": "code",
   "execution_count": null,
   "metadata": {},
   "outputs": [],
   "source": [
    "pd.crosstab(adata.obs['broad_label'], adata.obs['Diseasetype'])"
   ]
  },
  {
   "cell_type": "code",
   "execution_count": null,
   "metadata": {},
   "outputs": [],
   "source": [
    "adata.obs['COVID_severity'].value_counts()"
   ]
  },
  {
   "cell_type": "code",
   "execution_count": null,
   "metadata": {},
   "outputs": [],
   "source": [
    "adata.obs['Patient']"
   ]
  },
  {
   "cell_type": "code",
   "execution_count": null,
   "metadata": {},
   "outputs": [],
   "source": [
    "# Create new 'moderate-severe covid' variable and add to metadata. \n",
    "new_dict = {'IRVAS_39':'No',\n",
    "            'IRVAS_44':'No',\n",
    "            'N01-001':'No',\n",
    "            'N01-002':'No',\n",
    "            'N01-005':'No',\n",
    "          'N01-011':'No',\n",
    "           'N01-022':'No',\n",
    "           '1':'Yes',\n",
    "           '2':'Yes',\n",
    "           '3':'No',\n",
    "           'C20':'No',\n",
    "           'C19':'No',\n",
    "           'C24':'No',\n",
    "           'C21':'No',\n",
    "           'C17':'No',\n",
    "           'C26':'No',\n",
    "           'CV004_2_4':'Yes',\n",
    "           'CV004_2_5':'Yes',\n",
    "           'CV004_2_6':'No',\n",
    "           'CV004_2_7':'No',\n",
    "           'CV004_2_8':'No',\n",
    "           'CV004_2_9':'No',\n",
    "           'CV004_2_10':'No',\n",
    "           'CV004_2_11':'No',\n",
    "           'CV004_2_12':'No'}\n",
    "adata.obs['moderate-severe'] = [new_dict[l] for l in adata.obs['Patient']]\n",
    "adata.obs['moderate-severe'].value_counts()"
   ]
  },
  {
   "cell_type": "code",
   "execution_count": null,
   "metadata": {},
   "outputs": [],
   "source": [
    "#Check \n",
    "pd.crosstab(adata.obs['broad_label'],adata.obs['moderate-severe'])"
   ]
  },
  {
   "cell_type": "code",
   "execution_count": null,
   "metadata": {},
   "outputs": [],
   "source": [
    "pd.crosstab(adata.obs['Patient'],adata.obs['moderate-severe'])"
   ]
  },
  {
   "cell_type": "code",
   "execution_count": null,
   "metadata": {},
   "outputs": [],
   "source": [
    "pd.crosstab(adata.obs['Sampletype'],adata.obs['moderate-severe'])"
   ]
  },
  {
   "cell_type": "code",
   "execution_count": null,
   "metadata": {},
   "outputs": [],
   "source": [
    "#Save\n",
    "adata.write('COV_recluster_nd_broad_label_080721.h5ad', compression = 'gzip')\n",
    "adata.raw.to_adata().write('COV_recluster_nd_broad_label_080721_raw.h5ad', compression = 'gzip')"
   ]
  },
  {
   "cell_type": "code",
   "execution_count": null,
   "metadata": {},
   "outputs": [],
   "source": [
    "adata"
   ]
  },
  {
   "cell_type": "code",
   "execution_count": null,
   "metadata": {},
   "outputs": [],
   "source": [
    "sc.pl.umap(adata, color=['broad_label','leiden', 'Sampletype'])"
   ]
  },
  {
   "cell_type": "markdown",
   "metadata": {},
   "source": [
    "## Sub-clustering for fine cell type annotation\n"
   ]
  },
  {
   "cell_type": "code",
   "execution_count": null,
   "metadata": {},
   "outputs": [],
   "source": [
    "sc.pl.umap(adata, color=['leiden', 'broad_label'], legend_fontoutline=2, legend_loc = 'on data')"
   ]
  },
  {
   "cell_type": "markdown",
   "metadata": {},
   "source": [
    "### T cell"
   ]
  },
  {
   "cell_type": "code",
   "execution_count": null,
   "metadata": {
    "jupyter": {
     "source_hidden": true
    },
    "tags": []
   },
   "outputs": [],
   "source": [
    "# subset T cell broad clusters \n",
    "rna_ = adata[adata.obs['leiden'].isin(['1','5','6','7','9','11','13','16','17'])]\n",
    "rna_x = sc.AnnData(X = rna_.raw.X, obs = rna_.obs, var = rna_.raw.var)\n",
    "rna_x.raw = rna_x\n",
    "sc.pp.highly_variable_genes(rna_x, min_mean = 0.0125, max_mean = 3, min_disp = 0.5)\n",
    "sc.pl.highly_variable_genes(rna_x)\n",
    "rna_x"
   ]
  },
  {
   "cell_type": "code",
   "execution_count": null,
   "metadata": {},
   "outputs": [],
   "source": [
    "## remove TRBV/TRAV and IGHV/IGLV/IGKV from the highly variable genes\n",
    "## allow for TRGV and TRDV so that i can do fine labelling for them\n",
    "import re\n",
    "for i in rna_x.var.index:\n",
    "    if re.search('^TR[AB]V|^IG[HKL]V', i):\n",
    "        rna_x.var.at[i, 'highly_variable'] = False\n",
    "sc.pl.highly_variable_genes(rna_x)"
   ]
  },
  {
   "cell_type": "code",
   "execution_count": null,
   "metadata": {},
   "outputs": [],
   "source": [
    "# subset to highly variable\n",
    "rna_x = rna_x[:, rna_x.var['highly_variable']]\n"
   ]
  },
  {
   "cell_type": "code",
   "execution_count": null,
   "metadata": {},
   "outputs": [],
   "source": [
    "# regress and scale for PCA\n",
    "sc.pp.regress_out(rna_x, ['total_counts', 'pct_counts_mt'])\n"
   ]
  },
  {
   "cell_type": "code",
   "execution_count": null,
   "metadata": {},
   "outputs": [],
   "source": [
    "sc.pp.scale(rna_x, max_value = 10)"
   ]
  },
  {
   "cell_type": "code",
   "execution_count": null,
   "metadata": {},
   "outputs": [],
   "source": [
    "# Principal component analysis\n",
    "sc.tl.pca(rna_x, svd_solver = 'arpack')\n",
    "sc.pl.pca_variance_ratio(rna_x, log = True, n_pcs = 50)"
   ]
  },
  {
   "cell_type": "code",
   "execution_count": null,
   "metadata": {},
   "outputs": [],
   "source": [
    "# Computing the neighborhood graph. Seurat uses k = 20 as default\n",
    "sc.pp.neighbors(rna_x, n_neighbors = 10, n_pcs = 50)"
   ]
  },
  {
   "cell_type": "code",
   "execution_count": null,
   "metadata": {},
   "outputs": [],
   "source": [
    "# run UMAP\n",
    "sc.tl.umap(rna_x, n_components = 2, min_dist = 0.3)\n",
    "sc.pl.umap(rna_x, color=['Sampleid','Patient', 'Sampletype'])"
   ]
  },
  {
   "cell_type": "code",
   "execution_count": null,
   "metadata": {},
   "outputs": [],
   "source": [
    "sc.pl.umap(rna_x, color=['leiden'])"
   ]
  },
  {
   "cell_type": "code",
   "execution_count": null,
   "metadata": {},
   "outputs": [],
   "source": [
    "# run harmony\n",
    "sc.external.pp.harmony_integrate(rna_x, 'Patient')\n",
    "'X_pca_harmony' in rna_x.obsm\n"
   ]
  },
  {
   "cell_type": "code",
   "execution_count": null,
   "metadata": {},
   "outputs": [],
   "source": [
    "rna_x"
   ]
  },
  {
   "cell_type": "code",
   "execution_count": null,
   "metadata": {},
   "outputs": [],
   "source": [
    "# Computing the neighborhood graph. Seurat uses k = 20 as default\n",
    "sc.pp.neighbors(rna_x, n_neighbors = 10, n_pcs = 50, use_rep='X_pca_harmony')"
   ]
  },
  {
   "cell_type": "code",
   "execution_count": null,
   "metadata": {},
   "outputs": [],
   "source": [
    "# UMAP\n",
    "sc.tl.umap(rna_x, n_components = 2, min_dist = 0.3)\n",
    "sc.pl.umap(rna_x, color=['Sampleid','Patient', 'Sampletype'])"
   ]
  },
  {
   "cell_type": "code",
   "execution_count": null,
   "metadata": {},
   "outputs": [],
   "source": [
    "sc.pl.umap(rna_x, color=['leiden'])"
   ]
  },
  {
   "cell_type": "code",
   "execution_count": null,
   "metadata": {},
   "outputs": [],
   "source": [
    "# find clusters\n",
    "sc.tl.leiden(rna_x, resolution = 0.5, key_added = 'leiden_R')\n",
    "sc.pl.umap(rna_x, color=['leiden', 'leiden_R'], size=6, legend_loc ='on data', legend_fontoutline=2)"
   ]
  },
  {
   "cell_type": "code",
   "execution_count": null,
   "metadata": {},
   "outputs": [],
   "source": [
    "# split specific clusters\n",
    "sc.tl.leiden(rna_x, resolution = .4, key_added = 'leiden_R2', restrict_to =('leiden_R', ['1']))\n",
    "sc.pl.umap(rna_x, color=['leiden', 'leiden_R2'], size=10, legend_loc ='on data', legend_fontoutline=2)"
   ]
  },
  {
   "cell_type": "code",
   "execution_count": null,
   "metadata": {},
   "outputs": [],
   "source": [
    "# split specific clusters\n",
    "sc.tl.leiden(rna_x, resolution = .2, key_added = 'leiden_R2.1', restrict_to =('leiden_R2', ['2']))\n",
    "sc.pl.umap(rna_x, color=['leiden', 'leiden_R2.1'], size=10, legend_loc ='on data', legend_fontoutline=2)"
   ]
  },
  {
   "cell_type": "code",
   "execution_count": null,
   "metadata": {},
   "outputs": [],
   "source": [
    "# split specific clusters\n",
    "sc.tl.leiden(rna_x, resolution = .3, key_added = 'leiden_R2.2', restrict_to =('leiden_R2.1', ['5']))\n",
    "sc.pl.umap(rna_x, color=['leiden', 'leiden_R2.2'], size=10, legend_loc ='on data', legend_fontoutline=2)"
   ]
  },
  {
   "cell_type": "code",
   "execution_count": null,
   "metadata": {},
   "outputs": [],
   "source": [
    "sc.pl.umap(rna_x, color = ['TRDV2', 'TRGV9', 'CD4', 'CD8B', 'FOXP3', 'CXCR5', 'PDCD1', 'CD8A','TRAV1-2', 'CD69', 'KLRB1','ITGAE'], size = 20)"
   ]
  },
  {
   "cell_type": "code",
   "execution_count": null,
   "metadata": {},
   "outputs": [],
   "source": [
    "sc.pl.umap(rna_x, color = ['SELL', 'CD44','IFNG', 'PTGDR2','CCR7','CCR8','CXCR3','CCR5','CD27', 'IL5', 'IL4', 'IL17A', 'TRGC2', 'TRDV1', 'CD3E','TRGC1'], size = 20)"
   ]
  },
  {
   "cell_type": "code",
   "execution_count": null,
   "metadata": {},
   "outputs": [],
   "source": [
    "sc.tl.rank_genes_groups(rna_x, groupby = 'leiden_R2.2', method = 'wilcoxon')\n",
    "sc.tl.filter_rank_genes_groups(rna_x, min_fold_change=1)\n",
    "sc.tl.dendrogram(rna_x, groupby = 'leiden_R2.2')\n",
    "sc.pl.rank_genes_groups_dotplot(rna_x, n_genes = 10, standard_scale = 'var', color_map = 'viridis', key = 'rank_genes_groups_filtered')"
   ]
  },
  {
   "cell_type": "code",
   "execution_count": null,
   "metadata": {},
   "outputs": [],
   "source": [
    "sc.pl.dotplot(rna_x, Chuafeat, groupby = 'leiden_R2.2')"
   ]
  },
  {
   "cell_type": "code",
   "execution_count": null,
   "metadata": {},
   "outputs": [],
   "source": [
    "sc.pl.dotplot(rna_x, Trav_list, groupby = 'leiden_R2.2')"
   ]
  },
  {
   "cell_type": "code",
   "execution_count": null,
   "metadata": {},
   "outputs": [],
   "source": [
    "sc.pl.dotplot(rna_x, ILC_Bjorkland, groupby = 'leiden_R2.2')"
   ]
  },
  {
   "cell_type": "code",
   "execution_count": null,
   "metadata": {},
   "outputs": [],
   "source": [
    "Zhang2020_T = ['CD3E',\n",
    "              'CD4',\n",
    "              'CD8A',\n",
    "              'CCR7',\n",
    "              'SELL',\n",
    "              'TCF7',\n",
    "              'LEF1',\n",
    "              'LTB',\n",
    "              'S100A4',\n",
    "              'GPR183',\n",
    "              'CD69',\n",
    "              'GZMK',\n",
    "              'GZMA',\n",
    "              'GZMB',\n",
    "              'GNLY',\n",
    "              'NKG7',\n",
    "              'FOXP3',\n",
    "              'IL2RA',\n",
    "              'TIGIT',\n",
    "              'HAVCR2',\n",
    "              'CTLA4',\n",
    "              'LAG3',\n",
    "              'PDCD1',\n",
    "              'TOX',\n",
    "              'FCGR3A',\n",
    "              'KIR3DL2',\n",
    "              'TYROBP',\n",
    "              'NCAM1',\n",
    "              'CD160']"
   ]
  },
  {
   "cell_type": "code",
   "execution_count": null,
   "metadata": {},
   "outputs": [],
   "source": [
    "sc.pl.matrixplot(rna_x, Zhang2020_T, groupby = 'leiden_R2.2', standard_scale = 'var')"
   ]
  },
  {
   "cell_type": "code",
   "execution_count": null,
   "metadata": {},
   "outputs": [],
   "source": [
    "faber = ['TRAC',\n",
    "        'TRDC',\n",
    "         'CD3E',\n",
    "        'CD4',\n",
    "        'CD8A',\n",
    "        'CD8B',\n",
    "        'SELL',\n",
    "        'CCR7',\n",
    "         'CD44',\n",
    "        'LEF1',\n",
    "        'KLF2',\n",
    "        'TCF7',\n",
    "        'ENO1',\n",
    "        'LDHA',\n",
    "        'FOXP3',\n",
    "        'IL2RA',\n",
    "        'TIGIT',\n",
    "        'CD28',\n",
    "        'PDCD1',\n",
    "        'CXCR5',\n",
    "        'ICOS',\n",
    "        'CCL5',\n",
    "        'GNLY',\n",
    "        'KLRB1',\n",
    "        'CD69',\n",
    "        'ITGAE',\n",
    "        'CXCR6',\n",
    "        'ITGA1',\n",
    "        'B3GAT1',\n",
    "        'HNRNPLL',\n",
    "        'CD244',\n",
    "        'PRF1',\n",
    "        'IL17A',\n",
    "        'PTGDR2',\n",
    "         'EOMES',\n",
    "         'TBX21',\n",
    "        'CXCR3',\n",
    "         'GATA3',\n",
    "        'CCR5',\n",
    "        'IL7R',\n",
    "        'STAT4']"
   ]
  },
  {
   "cell_type": "code",
   "execution_count": null,
   "metadata": {},
   "outputs": [],
   "source": [
    "Tcellplot = ['CD3E',\n",
    "            'CD4',\n",
    "            'CD8B',\n",
    "            'SELL',\n",
    "            'CCR7',\n",
    "            'CD44',\n",
    "            'IL17A',\n",
    "            'STAT4',\n",
    "            'PTGDR2',\n",
    "            'GATA3',\n",
    "             'CD69',\n",
    "             'ITGAE',\n",
    "             'ITGA1',\n",
    "            'PRF1',\n",
    "             'GZMA',\n",
    "            'GZMB',\n",
    "             'GZMK',\n",
    "             'TRAV1-2',\n",
    "             'KLRB1',\n",
    "            'TIGIT',\n",
    "            'PDCD1',\n",
    "            'ICOS',\n",
    "            'FOXP3',\n",
    "            'CTLA4',\n",
    "            'HLA-DRA',\n",
    "            'S100A4']"
   ]
  },
  {
   "cell_type": "code",
   "execution_count": null,
   "metadata": {},
   "outputs": [],
   "source": [
    "sc.pl.matrixplot(rna_x, faber, groupby = 'leiden_R2.2', dendrogram = True, standard_scale = 'var')"
   ]
  },
  {
   "cell_type": "code",
   "execution_count": null,
   "metadata": {},
   "outputs": [],
   "source": [
    "sc.pl.matrixplot(rna_x, Tcellplot, groupby = 'leiden_R2.2', dendrogram = True, standard_scale = 'var')"
   ]
  },
  {
   "cell_type": "code",
   "execution_count": null,
   "metadata": {},
   "outputs": [],
   "source": [
    "sc.pl.umap(rna_x, color=['leiden_R2.2', 'Sampletype', 'celltypist'], legend_loc='on data')"
   ]
  },
  {
   "cell_type": "code",
   "execution_count": null,
   "metadata": {},
   "outputs": [],
   "source": [
    "sc.pl.umap(rna_x, color=['leiden'], legend_loc='on data')"
   ]
  },
  {
   "cell_type": "code",
   "execution_count": null,
   "metadata": {},
   "outputs": [],
   "source": [
    "sc.pl.matrixplot(rna_x, Tcellplot, groupby = 'fine_label', standard_scale = 'var')"
   ]
  },
  {
   "cell_type": "code",
   "execution_count": null,
   "metadata": {},
   "outputs": [],
   "source": [
    "sc.pl.dotplot(rna_x, Tcellplot, groupby = 'leiden_R2.1', standard_scale = 'var')"
   ]
  },
  {
   "cell_type": "code",
   "execution_count": null,
   "metadata": {},
   "outputs": [],
   "source": [
    "sc.pl.dotplot(rna_x, faber, groupby = 'leiden_R2.1', standard_scale = 'var')"
   ]
  },
  {
   "cell_type": "code",
   "execution_count": null,
   "metadata": {
    "tags": []
   },
   "outputs": [],
   "source": [
    "new_dict1 = {'0':'CD4 Tn',\n",
    "'1,0':'CD4 Tcm',\n",
    "'1,1':'CD4 Tem',\n",
    "'1,2':'CD4 Trm',\n",
    "'2,0':'CD8 Trm',\n",
    "'2,1':'CD8 CTL',\n",
    "'2,2':'MAIT',\n",
    "'3':'CD4 Th2',\n",
    "'4':'CD8 Tn',\n",
    "'5,0':'Treg',\n",
    "'5,1':'Tfh',\n",
    "'5,2':'CD4 Th17',\n",
    "'5,3':'CD4 Act',\n",
    "'6':'DOUBLET'}\n",
    "rna_x.obs['subset_annotations'] = [new_dict1[l] for l in rna_x.obs['leiden_R2.2']]\n",
    "sc.pl.umap(rna_x, color=['subset_annotations'], size=20, legend_loc ='on data', legend_fontoutline=2)"
   ]
  },
  {
   "cell_type": "code",
   "execution_count": null,
   "metadata": {},
   "outputs": [],
   "source": [
    "sc.pl.umap(adata, color = ['Sampletype'], size =10)"
   ]
  },
  {
   "cell_type": "code",
   "execution_count": null,
   "metadata": {},
   "outputs": [],
   "source": [
    "sc.pl.matrixplot(rna_x, Tcellplot, groupby = 'subset_annotations', standard_scale = 'var')"
   ]
  },
  {
   "cell_type": "code",
   "execution_count": null,
   "metadata": {},
   "outputs": [],
   "source": [
    "adata"
   ]
  },
  {
   "cell_type": "code",
   "execution_count": null,
   "metadata": {},
   "outputs": [],
   "source": [
    "adata.obs['subset_annotations'] = adata.obs['leiden'] "
   ]
  },
  {
   "cell_type": "code",
   "execution_count": null,
   "metadata": {
    "scrolled": true
   },
   "outputs": [],
   "source": [
    "# update the original object\n",
    "adata.obs['subset_annotations'] = adata.obs['subset_annotations'].astype('object')\n",
    "adata.obs['subset_annotations'].update(rna_x.obs['subset_annotations'].astype('object'))\n",
    "sc.pl.umap(adata, color = ['leiden', 'subset_annotations'], size = 10, legend_loc = 'on data', legend_fontoutline=2)"
   ]
  },
  {
   "cell_type": "code",
   "execution_count": null,
   "metadata": {},
   "outputs": [],
   "source": [
    "#save for now\n",
    "adata_concat.write('COV_nd_T-fine_label_120721.h5ad', compression = 'gzip')\n",
    "adata_concat.raw.to_adata().write('COV_nd_T_fine_label_raw_120721.h5ad', compression = 'gzip')"
   ]
  },
  {
   "cell_type": "code",
   "execution_count": null,
   "metadata": {
    "tags": []
   },
   "outputs": [],
   "source": [
    "sc.pl.umap(adata, color=['leiden','broad_label'], legend_loc = 'on data')"
   ]
  },
  {
   "cell_type": "code",
   "execution_count": null,
   "metadata": {
    "tags": []
   },
   "outputs": [],
   "source": [
    "# also subset T/NK etc together just for graphical purposes\n",
    "rna_ = adata[adata.obs['leiden'].isin(['1','5','6','7','9','11','13','16','17',\n",
    "                                      '4', '12','20'])]\n",
    "rna_x = sc.AnnData(X = rna_.raw.X, obs = rna_.obs, var = rna_.raw.var)\n",
    "rna_x.raw = rna_x\n",
    "sc.pp.highly_variable_genes(rna_x, min_mean = 0.0125, max_mean = 3, min_disp = 0.5)\n",
    "sc.pl.highly_variable_genes(rna_x)\n",
    "rna_x"
   ]
  },
  {
   "cell_type": "code",
   "execution_count": null,
   "metadata": {},
   "outputs": [],
   "source": [
    "Tcellplot"
   ]
  },
  {
   "cell_type": "code",
   "execution_count": null,
   "metadata": {},
   "outputs": [],
   "source": [
    "CD8NK"
   ]
  },
  {
   "cell_type": "code",
   "execution_count": null,
   "metadata": {},
   "outputs": [],
   "source": [
    "TNK = ['CD3E',\n",
    " 'CD4',\n",
    " 'CD8B',\n",
    " 'SELL',\n",
    " 'CCR7',\n",
    " 'CD44',\n",
    " 'IL17A',\n",
    " 'STAT4',\n",
    " 'PTGDR2',\n",
    " 'GATA3',\n",
    " 'CD69',\n",
    " 'ITGAE',\n",
    " 'ITGA1',\n",
    " 'PRF1',\n",
    " 'GZMA',\n",
    " 'GZMB',\n",
    " 'GZMK',\n",
    " 'TRAV1-2',\n",
    " 'KLRB1',\n",
    " 'TIGIT',\n",
    " 'PDCD1',\n",
    " 'ICOS',\n",
    " 'FOXP3',\n",
    " 'CTLA4',\n",
    " 'HLA-DRA',\n",
    " 'S100A4',\n",
    " 'TRDV1',\n",
    " 'TRDV2',\n",
    " 'TRDV3',\n",
    " 'TYROBP',\n",
    " 'KLRC2',\n",
    " 'FCGR3A',\n",
    " 'NCAM1',\n",
    " 'KIT',\n",
    " 'RORC',\n",
    " 'GATA2',\n",
    " 'FCER1A',\n",
    " 'IL3RA']"
   ]
  },
  {
   "cell_type": "code",
   "execution_count": null,
   "metadata": {
    "tags": []
   },
   "outputs": [],
   "source": [
    "sc.pl.matrixplot(rna_x, TNK, groupby = 'subset_annotations', dendrogram = True, standard_scale = 'var')"
   ]
  },
  {
   "cell_type": "code",
   "execution_count": null,
   "metadata": {
    "tags": []
   },
   "outputs": [],
   "source": [
    "rna_x.obs['subset_annotations'].value_counts()"
   ]
  },
  {
   "cell_type": "code",
   "execution_count": null,
   "metadata": {},
   "outputs": [],
   "source": [
    "#need to recluster T cells without doublets, but do this later. "
   ]
  },
  {
   "cell_type": "markdown",
   "metadata": {},
   "source": [
    "### NK/mast/gdT cell"
   ]
  },
  {
   "cell_type": "code",
   "execution_count": null,
   "metadata": {},
   "outputs": [],
   "source": [
    "# subset\n",
    "rna_ = adata[adata.obs['leiden'].isin(['3', '13','18'])]\n",
    "rna_x = sc.AnnData(X = rna_.raw.X, obs = rna_.obs, var = rna_.raw.var, uns = rna_.uns, obsm = rna_.obsm, obsp = rna_.obsp)\n",
    "rna_x.raw = rna_x\n",
    "sc.pp.highly_variable_genes(rna_x, min_mean = 0.0125, max_mean = 3, min_disp = 0.5)\n",
    "sc.pl.highly_variable_genes(rna_x)\n",
    "rna_x"
   ]
  },
  {
   "cell_type": "code",
   "execution_count": null,
   "metadata": {},
   "outputs": [],
   "source": [
    "## remove TRBV/TRAV and IGHV/IGLV/IGKV from the highly variable genes\n",
    "## keep TCR gammadelta genes\n",
    "import re\n",
    "for i in rna_x.var.index:\n",
    "    if re.search('^TR[AB]V|^IG[HKL]V', i):\n",
    "        rna_x.var.at[i, 'highly_variable'] = False\n",
    "sc.pl.highly_variable_genes(rna_x)"
   ]
  },
  {
   "cell_type": "code",
   "execution_count": null,
   "metadata": {},
   "outputs": [],
   "source": [
    "# subset to highly variable\n",
    "rna_x = rna_x[:, rna_x.var['highly_variable']]\n",
    "# regress and scale for PCA\n",
    "sc.pp.regress_out(rna_x, ['total_counts', 'pct_counts_mt'])\n",
    "sc.pp.scale(rna_x, max_value = 10)"
   ]
  },
  {
   "cell_type": "code",
   "execution_count": null,
   "metadata": {},
   "outputs": [],
   "source": [
    "# Principal component analysis\n",
    "sc.tl.pca(rna_x, svd_solver = 'arpack')\n",
    "sc.pl.pca_variance_ratio(rna_x, log = True, n_pcs = 50)"
   ]
  },
  {
   "cell_type": "code",
   "execution_count": null,
   "metadata": {},
   "outputs": [],
   "source": [
    "# Computing the neighborhood graph. Seurat uses k = 20 as default\n",
    "sc.pp.neighbors(rna_x, n_neighbors = 10, n_pcs = 50)"
   ]
  },
  {
   "cell_type": "code",
   "execution_count": null,
   "metadata": {},
   "outputs": [],
   "source": [
    "# run UMAP\n",
    "sc.tl.umap(rna_x, n_components = 2, min_dist = 0.3)\n",
    "sc.pl.umap(rna_x, color=['Sampleid','Patient', 'Sampletype'])"
   ]
  },
  {
   "cell_type": "code",
   "execution_count": null,
   "metadata": {},
   "outputs": [],
   "source": [
    "sc.pl.umap(rna_x, color=['leiden'])"
   ]
  },
  {
   "cell_type": "code",
   "execution_count": null,
   "metadata": {},
   "outputs": [],
   "source": [
    "# run harmony\n",
    "sc.external.pp.harmony_integrate(rna_x, 'Patient')\n",
    "'X_pca_harmony' in rna_x.obsm\n"
   ]
  },
  {
   "cell_type": "code",
   "execution_count": null,
   "metadata": {},
   "outputs": [],
   "source": [
    "rna_x"
   ]
  },
  {
   "cell_type": "code",
   "execution_count": null,
   "metadata": {},
   "outputs": [],
   "source": [
    "# Computing the neighborhood graph. Seurat uses k = 20 as default\n",
    "sc.pp.neighbors(rna_x, n_neighbors = 10, n_pcs = 50, use_rep='X_pca_harmony')"
   ]
  },
  {
   "cell_type": "code",
   "execution_count": null,
   "metadata": {},
   "outputs": [],
   "source": [
    "# UMAP\n",
    "sc.tl.umap(rna_x, n_components = 2, min_dist = 0.3)\n",
    "sc.pl.umap(rna_x, color=['Sampleid','Patient', 'Sampletype'])"
   ]
  },
  {
   "cell_type": "code",
   "execution_count": null,
   "metadata": {},
   "outputs": [],
   "source": [
    "sc.pl.umap(rna_x, color=['leiden'])"
   ]
  },
  {
   "cell_type": "code",
   "execution_count": null,
   "metadata": {
    "tags": []
   },
   "outputs": [],
   "source": [
    "# find clusters\n",
    "sc.tl.leiden(rna_x, resolution = 1, key_added = 'leiden_R')\n",
    "sc.pl.umap(rna_x, color=['leiden', 'leiden_R'], size=6, legend_loc ='on data', legend_fontoutline=2)"
   ]
  },
  {
   "cell_type": "code",
   "execution_count": null,
   "metadata": {},
   "outputs": [],
   "source": [
    "# split clusters\n",
    "sc.tl.leiden(rna_x, resolution = .3, key_added = 'leiden_R2', restrict_to = ('leiden_R', ['6']))\n",
    "sc.pl.umap(rna_x, color=['leiden', 'leiden_R2'], size=10, legend_loc ='on data', legend_fontoutline=2)"
   ]
  },
  {
   "cell_type": "code",
   "execution_count": null,
   "metadata": {},
   "outputs": [],
   "source": [
    "# split clusters\n",
    "sc.tl.leiden(rna_x, resolution = .3, key_added = 'leiden_R2.1', restrict_to = ('leiden_R2', ['9']))\n",
    "sc.pl.umap(rna_x, color=['leiden', 'leiden_R2.1'], size=10, legend_loc ='on data', legend_fontoutline=2)"
   ]
  },
  {
   "cell_type": "code",
   "execution_count": null,
   "metadata": {},
   "outputs": [],
   "source": [
    "# split clusters\n",
    "sc.tl.leiden(rna_x, resolution = .2, key_added = 'leiden_R2.2', restrict_to = ('leiden_R2.1', ['10']))\n",
    "sc.pl.umap(rna_x, color=['leiden', 'leiden_R2.2'], size=10, legend_loc ='on data', legend_fontoutline=2)"
   ]
  },
  {
   "cell_type": "code",
   "execution_count": null,
   "metadata": {},
   "outputs": [],
   "source": [
    "sc.pl.umap(rna_x, color = ['TRDC', 'TRGV9', 'CD4', 'CD8B', 'FOXP3', 'CXCR5', 'PDCD1', 'CD8A','TRAV1-2', 'CD69', 'KLRB1','ITGAE'], size = 20)"
   ]
  },
  {
   "cell_type": "code",
   "execution_count": null,
   "metadata": {},
   "outputs": [],
   "source": [
    "sc.pl.umap(rna_x, color = ['SELL', 'IFNG', 'PTGDR2','CCR3','CCR8','CXCR3','CCR5','IL13', 'IL5', 'IL4', 'IL17A', 'TRGC2', 'TRDV1', 'CD3E','TRGC1', 'TRDV2'], size = 20)"
   ]
  },
  {
   "cell_type": "code",
   "execution_count": null,
   "metadata": {},
   "outputs": [],
   "source": [
    "sc.pl.umap(rna_x, color = ['FCGR3A', 'NKG7','CD8B','CD3E','NCAM1','KLRC2','RORC','KIT', 'SIGLEC8','GATA3','GATA2'], size = 20)"
   ]
  },
  {
   "cell_type": "code",
   "execution_count": null,
   "metadata": {},
   "outputs": [],
   "source": [
    "# split specific clusters\n",
    "#sc.tl.leiden(rna_x, resolution = .3, key_added = 'leiden_R2', restrict_to =('leiden_R', ['1']))\n",
    "#sc.pl.umap(rna_x, color=['leiden', 'leiden_R2'], size=10, legend_loc ='on data', legend_fontoutline=2)"
   ]
  },
  {
   "cell_type": "code",
   "execution_count": null,
   "metadata": {},
   "outputs": [],
   "source": [
    "sc.tl.rank_genes_groups(rna_x, groupby = 'leiden_R2.2', method = 'wilcoxon')\n",
    "sc.tl.filter_rank_genes_groups(rna_x, min_fold_change=1)\n",
    "sc.tl.dendrogram(rna_x, groupby = 'leiden_R2.2')\n",
    "sc.pl.rank_genes_groups_dotplot(rna_x, n_genes = 10, standard_scale = 'var', color_map = 'viridis', key = 'rank_genes_groups_filtered')"
   ]
  },
  {
   "cell_type": "code",
   "execution_count": null,
   "metadata": {
    "tags": []
   },
   "outputs": [],
   "source": [
    "sc.pl.dotplot(rna_x, Chuafeat, groupby = 'leiden_R2.2')"
   ]
  },
  {
   "cell_type": "code",
   "execution_count": null,
   "metadata": {},
   "outputs": [],
   "source": [
    "sc.pl.dotplot(rna_x, Trav_list, groupby = 'leiden_R2.2')"
   ]
  },
  {
   "cell_type": "code",
   "execution_count": null,
   "metadata": {},
   "outputs": [],
   "source": [
    "sc.pl.dotplot(rna_x, ILC_Bjorkland, groupby = 'leiden_R2.2')"
   ]
  },
  {
   "cell_type": "code",
   "execution_count": null,
   "metadata": {},
   "outputs": [],
   "source": [
    "sc.pl.dotplot(rna_x, Zhang2020_T, groupby = 'leiden_R2.2')"
   ]
  },
  {
   "cell_type": "code",
   "execution_count": null,
   "metadata": {},
   "outputs": [],
   "source": [
    "sc.pl.matrixplot(rna_x,faber,groupby = 'leiden_R2.2',standard_scale ='var')"
   ]
  },
  {
   "cell_type": "code",
   "execution_count": null,
   "metadata": {},
   "outputs": [],
   "source": [
    "CD8NK = ['CD3E',\n",
    "       'CD8B',\n",
    "         'SELL',\n",
    "         'CCR7',\n",
    "       'TRDV1',\n",
    "       'TRDV2',\n",
    "       'TRDV3',\n",
    "       'TYROBP',\n",
    "       'KLRC2',\n",
    "         'FCGR3A',\n",
    "       'NCAM1',\n",
    "       'GZMA',\n",
    "       'GZMB',\n",
    "       'GZMK',\n",
    "       'CD69',\n",
    "       'ITGAE',\n",
    "       'ITGA1',\n",
    "         'GATA3',\n",
    "         'KIT',\n",
    "         'RORC',\n",
    "        'GATA2',\n",
    "        'FCER1A',\n",
    "        'IL3RA']"
   ]
  },
  {
   "cell_type": "code",
   "execution_count": null,
   "metadata": {},
   "outputs": [],
   "source": [
    "sc.pl.matrixplot(rna_x,CD8NK,groupby = 'leiden_R2.2',dendrogram = True,standard_scale = 'var')"
   ]
  },
  {
   "cell_type": "code",
   "execution_count": null,
   "metadata": {},
   "outputs": [],
   "source": [
    "sc.pl.umap(rna_x, color=[ 'Sampletype'], legend_fontoutline=2)"
   ]
  },
  {
   "cell_type": "code",
   "execution_count": null,
   "metadata": {},
   "outputs": [],
   "source": [
    "sc.pl.umap(rna_x, color=['fine_label', 'Sampletype'], legend_loc='on data', legend_fontoutline=2)"
   ]
  },
  {
   "cell_type": "code",
   "execution_count": null,
   "metadata": {
    "tags": []
   },
   "outputs": [],
   "source": [
    "new_dict1 = {'0':'NK CD16+',\n",
    "            '1':'CD8 CTL',\n",
    "            '2':'NK CD16+',\n",
    "            '3':'gdT vd2',\n",
    "            '4':'NK CD56+',\n",
    "            '5':'aNK KLRC2+',\n",
    "            '6,0':'DOUBLET',\n",
    "            '6,1':'CD8 Trm',\n",
    "            '7':'ILC',\n",
    "            '8':'gdT vd3',\n",
    "            '9,0':'Basophil',\n",
    "            '9,1':'DOUBLET',\n",
    "            '10,0':'Mast',\n",
    "            '10,1':'DOUBLET',\n",
    "            '11':'gdT vd1',\n",
    "            '12':'DOUBLET',\n",
    "            '13':'NK CD16+'}\n",
    "rna_x.obs['subset_annotations'] = [new_dict1[l] for l in rna_x.obs['leiden_R2.2']]\n",
    "sc.pl.umap(rna_x, color=['subset_annotations'], size=20, legend_loc ='on data', legend_fontoutline=2)"
   ]
  },
  {
   "cell_type": "code",
   "execution_count": null,
   "metadata": {},
   "outputs": [],
   "source": [
    "sc.pl.matrixplot(rna_x,CD8NK,groupby = 'subset_annotations',dendrogram = True,standard_scale = 'var')"
   ]
  },
  {
   "cell_type": "code",
   "execution_count": null,
   "metadata": {
    "scrolled": true,
    "tags": []
   },
   "outputs": [],
   "source": [
    "# update the original object\n",
    "adata.obs['subset_annotations'] = adata.obs['subset_annotations'].astype('object')\n",
    "adata.obs['subset_annotations'].update(rna_x.obs['subset_annotations'].astype('object'))\n",
    "sc.pl.umap(adata, color = ['leiden', 'subset_annotations'], size = 10, legend_loc = 'on data', legend_fontoutline=2)"
   ]
  },
  {
   "cell_type": "code",
   "execution_count": null,
   "metadata": {},
   "outputs": [],
   "source": [
    "#save for now\n",
    "adata.write('COV_nd_TNK_fine_label_100721.h5ad', compression = 'gzip')\n",
    "adata.raw.to_adata().write('COV_nd_TNK_fine_label_raw_100721.h5ad', compression = 'gzip')"
   ]
  },
  {
   "cell_type": "code",
   "execution_count": null,
   "metadata": {
    "tags": []
   },
   "outputs": [],
   "source": [
    "sc.pl.umap(adata, color=['leiden','broad_label','subset_annotations'], legend_loc = 'on data')"
   ]
  },
  {
   "cell_type": "code",
   "execution_count": null,
   "metadata": {},
   "outputs": [],
   "source": [
    "#save for now\n",
    "adata.write('COV_nd2_TNK_fine_label_110721.h5ad', compression = 'gzip')\n",
    "adata.raw.to_adata().write('COV_nd2_TNK_fine_label_raw_110721.h5ad', compression = 'gzip')"
   ]
  },
  {
   "cell_type": "markdown",
   "metadata": {},
   "source": [
    "### B cells"
   ]
  },
  {
   "cell_type": "code",
   "execution_count": null,
   "metadata": {},
   "outputs": [],
   "source": [
    "# subset\n",
    "rna_ = adata[adata.obs['leiden'].isin(['0', '3', '10','22'])]\n",
    "rna_x = sc.AnnData(X = rna_.raw.X, obs = rna_.obs, var = rna_.raw.var, uns = rna_.uns, obsm = rna_.obsm, obsp = rna_.obsp)\n",
    "rna_x.raw = rna_x\n",
    "sc.pp.highly_variable_genes(rna_x, min_mean = 0.0125, max_mean = 3, min_disp = 0.5)\n",
    "sc.pl.highly_variable_genes(rna_x)\n",
    "rna_x"
   ]
  },
  {
   "cell_type": "code",
   "execution_count": null,
   "metadata": {},
   "outputs": [],
   "source": [
    "rna_x.obs['subset_annotations'].value_counts()"
   ]
  },
  {
   "cell_type": "code",
   "execution_count": null,
   "metadata": {},
   "outputs": [],
   "source": [
    "## remove TRBV/TRAV and IGHV/IGLV/IGKV from the highly variable genes\n",
    "import re\n",
    "for i in rna_x.var.index:\n",
    "    if re.search('^TR[AB]V|^IG[HKL]V', i):\n",
    "        rna_x.var.at[i, 'highly_variable'] = False\n",
    "sc.pl.highly_variable_genes(rna_x)"
   ]
  },
  {
   "cell_type": "code",
   "execution_count": null,
   "metadata": {},
   "outputs": [],
   "source": [
    "# subset to highly variable\n",
    "rna_x = rna_x[:, rna_x.var['highly_variable']]\n",
    "# regress and scale for PCA\n",
    "sc.pp.regress_out(rna_x, ['total_counts', 'pct_counts_mt'])\n",
    "sc.pp.scale(rna_x, max_value = 10)"
   ]
  },
  {
   "cell_type": "code",
   "execution_count": null,
   "metadata": {},
   "outputs": [],
   "source": [
    "# Principal component analysis\n",
    "sc.tl.pca(rna_x, svd_solver = 'arpack')\n",
    "sc.pl.pca_variance_ratio(rna_x, log = True, n_pcs = 50)"
   ]
  },
  {
   "cell_type": "code",
   "execution_count": null,
   "metadata": {
    "tags": []
   },
   "outputs": [],
   "source": [
    "# Computing the neighborhood graph. Seurat uses k = 20 as default\n",
    "sc.pp.neighbors(rna_x, n_neighbors = 10, n_pcs = 50)"
   ]
  },
  {
   "cell_type": "code",
   "execution_count": null,
   "metadata": {},
   "outputs": [],
   "source": [
    "# run UMAP\n",
    "sc.tl.umap(rna_x, n_components = 2, min_dist = 0.3)\n",
    "sc.pl.umap(rna_x, color=['Sampleid','Patient', 'Sampletype'])"
   ]
  },
  {
   "cell_type": "code",
   "execution_count": null,
   "metadata": {},
   "outputs": [],
   "source": [
    "sc.pl.umap(rna_x, color=['leiden'])"
   ]
  },
  {
   "cell_type": "code",
   "execution_count": null,
   "metadata": {},
   "outputs": [],
   "source": [
    "# run harmony\n",
    "sc.external.pp.harmony_integrate(rna_x, 'Patient')\n",
    "'X_pca_harmony' in rna_x.obsm\n"
   ]
  },
  {
   "cell_type": "code",
   "execution_count": null,
   "metadata": {},
   "outputs": [],
   "source": [
    "rna_x"
   ]
  },
  {
   "cell_type": "code",
   "execution_count": null,
   "metadata": {},
   "outputs": [],
   "source": [
    "# Computing the neighborhood graph. Seurat uses k = 20 as default\n",
    "sc.pp.neighbors(rna_x, n_neighbors = 10, n_pcs = 50, use_rep='X_pca_harmony')"
   ]
  },
  {
   "cell_type": "code",
   "execution_count": null,
   "metadata": {},
   "outputs": [],
   "source": [
    "# UMAP\n",
    "sc.tl.umap(rna_x, n_components = 2, min_dist = 0.3)\n",
    "sc.pl.umap(rna_x, color=['Sampleid','Patient', 'Sampletype'])"
   ]
  },
  {
   "cell_type": "code",
   "execution_count": null,
   "metadata": {},
   "outputs": [],
   "source": [
    "sc.pl.umap(rna_x, color=['leiden'])"
   ]
  },
  {
   "cell_type": "code",
   "execution_count": null,
   "metadata": {
    "tags": []
   },
   "outputs": [],
   "source": [
    "# find clusters\n",
    "sc.tl.leiden(rna_x, resolution = 0.3, key_added = 'leiden_R')\n",
    "sc.pl.umap(rna_x, color=['leiden', 'leiden_R'], size=6, legend_loc ='on data', legend_fontoutline=2)"
   ]
  },
  {
   "cell_type": "code",
   "execution_count": null,
   "metadata": {
    "tags": []
   },
   "outputs": [],
   "source": [
    "# split clusters\n",
    "#sc.tl.leiden(rna_x, resolution = .2, key_added = 'leiden_R2', restrict_to = ('leiden_R', ['3']))\n",
    "#sc.pl.umap(rna_x, color=['leiden', 'leiden_R2'], size=10, legend_loc ='on data', legend_fontoutline=2)"
   ]
  },
  {
   "cell_type": "code",
   "execution_count": null,
   "metadata": {},
   "outputs": [],
   "source": [
    "sc.pl.umap(rna_x, color = ['CD27', 'ITGA2B', 'CD19', 'CD3D', 'GNLY', 'JCHAIN', 'S100A8', 'CD3E'], size = 20)"
   ]
  },
  {
   "cell_type": "code",
   "execution_count": null,
   "metadata": {},
   "outputs": [],
   "source": [
    "sc.pl.umap(rna_x, color = ['PPBP', 'HBB','CD38'], size = 20)"
   ]
  },
  {
   "cell_type": "code",
   "execution_count": null,
   "metadata": {},
   "outputs": [],
   "source": [
    "sc.tl.rank_genes_groups(rna_x, groupby = 'leiden_R', method = 'wilcoxon')\n",
    "sc.tl.filter_rank_genes_groups(rna_x, min_fold_change=1)\n",
    "sc.tl.dendrogram(rna_x, groupby = 'leiden_R')\n",
    "sc.pl.rank_genes_groups_dotplot(rna_x, n_genes = 10, standard_scale = 'var', color_map = 'viridis', key = 'rank_genes_groups_filtered')"
   ]
  },
  {
   "cell_type": "code",
   "execution_count": null,
   "metadata": {
    "tags": []
   },
   "outputs": [],
   "source": [
    "sc.pl.dotplot(rna_x, Chuafeat, groupby = 'leiden_R')"
   ]
  },
  {
   "cell_type": "code",
   "execution_count": null,
   "metadata": {},
   "outputs": [],
   "source": [
    "sc.pl.dotplot(rna_x, Trav_list, groupby = 'leiden_R')"
   ]
  },
  {
   "cell_type": "code",
   "execution_count": null,
   "metadata": {},
   "outputs": [],
   "source": [
    "sc.pl.dotplot(rna_x, ILC_Bjorkland, groupby = 'leiden_R')"
   ]
  },
  {
   "cell_type": "code",
   "execution_count": null,
   "metadata": {},
   "outputs": [],
   "source": [
    "sc.pl.dotplot(rna_x, Zhang2020_T, groupby = 'leiden_R')"
   ]
  },
  {
   "cell_type": "code",
   "execution_count": null,
   "metadata": {},
   "outputs": [],
   "source": [
    "#Selection of key B cell subset markers\n",
    "Bmark = ['CD19', 'MS4A1','CD38','JCHAIN','MME','CD27','IGHD','IGHM','IGHE','IGHA1','IGHG1','TNFRSF13C', 'TNFRSF13B',\n",
    "         'TNFRSF17','CR2','CD5','FCER2','CD24', 'HLA-DRA', 'CD79A',\n",
    "        'CXCR4','CXCR5','CD34','CD86','CD1D','CD74', 'CD40']\n",
    "Bmark"
   ]
  },
  {
   "cell_type": "code",
   "execution_count": null,
   "metadata": {},
   "outputs": [],
   "source": [
    "Bmarkshort = ['CD19', 'MS4A1','CD38','JCHAIN','MME','CD27','IGHD','IGHM','IGHE','IGHA1','IGHG1', 'HLA-DRA',\n",
    "        'CXCR4','CXCR5','CD1D']\n",
    "Bmarkshort"
   ]
  },
  {
   "cell_type": "code",
   "execution_count": null,
   "metadata": {},
   "outputs": [],
   "source": [
    "sc.pl.dotplot(rna_x,Bmark,groupby='leiden_R')"
   ]
  },
  {
   "cell_type": "code",
   "execution_count": null,
   "metadata": {},
   "outputs": [],
   "source": [
    "sc.pl.umap(rna_x, color=['leiden_R'], size=6, legend_loc ='on data', legend_fontoutline=2)"
   ]
  },
  {
   "cell_type": "code",
   "execution_count": null,
   "metadata": {},
   "outputs": [],
   "source": [
    "sc.pl.matrixplot(rna_x,Bmark,groupby='leiden_R', standard_scale='var', dendrogram = True)"
   ]
  },
  {
   "cell_type": "code",
   "execution_count": null,
   "metadata": {},
   "outputs": [],
   "source": [
    "sc.pl.matrixplot(rna_x,Bmarkshort,groupby='leiden_R', standard_scale='var', dendrogram = True)"
   ]
  },
  {
   "cell_type": "code",
   "execution_count": null,
   "metadata": {},
   "outputs": [],
   "source": [
    "new_dict1 = {'0':'Bmem switched',\n",
    "             '1':'DOUBLET',\n",
    "             '2':'Bmem switched',\n",
    "             '3':'Plasmablast IgM+',\n",
    "             '4':'B FO',\n",
    "             '5':'Plasma',\n",
    "             '6':'Bmem non-switched',\n",
    "             '7':'Bmem non-switched',\n",
    "             '8':'Bmem switched',\n",
    "             '9':'Bmem switched',\n",
    "             '10':'B Naive',\n",
    "             '11':'Bmem switched',\n",
    "             '12':'Bmem switched',\n",
    "             '13':'Bmem switched',\n",
    "             '14':'DOUBLET'\n",
    "             \n",
    "             \n",
    "             \n",
    "             \n",
    "             \n",
    "}\n",
    "rna_x.obs['subset_annotations'] = [new_dict1[l] for l in rna_x.obs['leiden_R']]\n",
    "sc.pl.umap(rna_x, color=['subset_annotations'], size=20, legend_loc ='on data', legend_fontoutline=2)"
   ]
  },
  {
   "cell_type": "code",
   "execution_count": null,
   "metadata": {},
   "outputs": [],
   "source": [
    "sc.pl.matrixplot(rna_x,Bmarkshort,groupby='subset_annotations', standard_scale='var', dendrogram = True)"
   ]
  },
  {
   "cell_type": "code",
   "execution_count": null,
   "metadata": {
    "scrolled": true
   },
   "outputs": [],
   "source": [
    "# update the original object\n",
    "adata.obs['subset_annotations'] = adata.obs['subset_annotations'].astype('object')\n",
    "adata.obs['subset_annotations'].update(rna_x.obs['subset_annotations'].astype('object'))\n",
    "sc.pl.umap(adata, color = ['leiden', 'subset_annotations'], size = 10, legend_loc = 'on data', legend_fontoutline=2)"
   ]
  },
  {
   "cell_type": "code",
   "execution_count": null,
   "metadata": {},
   "outputs": [],
   "source": [
    "#save for now\n",
    "adata_concat.write('COV_combined_TNKB-fine_label_060721.h5ad', compression = 'gzip')\n",
    "adata_concat.raw.to_adata().write('COV_combined_TNKB_fine_label_raw_060721.h5ad', compression = 'gzip')"
   ]
  },
  {
   "cell_type": "code",
   "execution_count": null,
   "metadata": {},
   "outputs": [],
   "source": [
    "#load as kernel died\n",
    "adata_concat = sc.read_h5ad('COV_combined_TNKB-fine_label_060721.h5ad')\n",
    "adata_concat"
   ]
  },
  {
   "cell_type": "code",
   "execution_count": null,
   "metadata": {},
   "outputs": [],
   "source": [
    "sc.pl.umap(adata, color = ['leiden', 'broad_label'], size = 10, legend_loc = 'on data', legend_fontoutline=2)"
   ]
  },
  {
   "cell_type": "markdown",
   "metadata": {},
   "source": [
    "### monocyte/macrophage/DC/pDC"
   ]
  },
  {
   "cell_type": "code",
   "execution_count": null,
   "metadata": {},
   "outputs": [],
   "source": [
    "# subset\n",
    "rna_ = adata[adata.obs['leiden'].isin(['2','15','19'])]\n",
    "rna_x = sc.AnnData(X = rna_.raw.X, obs = rna_.obs, var = rna_.raw.var, uns = rna_.uns, obsm = rna_.obsm, obsp = rna_.obsp)\n",
    "rna_x.raw = rna_x\n",
    "sc.pp.highly_variable_genes(rna_x, min_mean = 0.0125, max_mean = 3, min_disp = 0.5)\n",
    "sc.pl.highly_variable_genes(rna_x)\n",
    "rna_x"
   ]
  },
  {
   "cell_type": "code",
   "execution_count": null,
   "metadata": {},
   "outputs": [],
   "source": [
    "rna_x.obs['subset_annotations'].value_counts()"
   ]
  },
  {
   "cell_type": "code",
   "execution_count": null,
   "metadata": {},
   "outputs": [],
   "source": [
    "# subset to highly variable\n",
    "rna_x = rna_x[:, rna_x.var['highly_variable']]\n",
    "# regress and scale for PCA\n",
    "sc.pp.regress_out(rna_x, ['total_counts', 'pct_counts_mt'])\n",
    "sc.pp.scale(rna_x, max_value = 10)"
   ]
  },
  {
   "cell_type": "code",
   "execution_count": null,
   "metadata": {
    "tags": []
   },
   "outputs": [],
   "source": [
    "# Principal component analysis\n",
    "sc.tl.pca(rna_x, svd_solver = 'arpack')\n",
    "sc.pl.pca_variance_ratio(rna_x, log = True, n_pcs = 50)"
   ]
  },
  {
   "cell_type": "code",
   "execution_count": null,
   "metadata": {
    "tags": []
   },
   "outputs": [],
   "source": [
    "# Computing the neighborhood graph. Seurat uses k = 20 as default\n",
    "sc.pp.neighbors(rna_x, n_neighbors = 10, n_pcs = 50)"
   ]
  },
  {
   "cell_type": "code",
   "execution_count": null,
   "metadata": {},
   "outputs": [],
   "source": [
    "# run UMAP\n",
    "sc.tl.umap(rna_x, n_components = 2, min_dist = 0.3)\n",
    "sc.pl.umap(rna_x, color=['Sampleid','Patient', 'Sampletype'])"
   ]
  },
  {
   "cell_type": "code",
   "execution_count": null,
   "metadata": {},
   "outputs": [],
   "source": [
    "sc.pl.umap(rna_x, color=['leiden'])"
   ]
  },
  {
   "cell_type": "code",
   "execution_count": null,
   "metadata": {},
   "outputs": [],
   "source": [
    "# run harmony\n",
    "sc.external.pp.harmony_integrate(rna_x, 'Patient')\n",
    "'X_pca_harmony' in rna_x.obsm\n"
   ]
  },
  {
   "cell_type": "code",
   "execution_count": null,
   "metadata": {},
   "outputs": [],
   "source": [
    "rna_x"
   ]
  },
  {
   "cell_type": "code",
   "execution_count": null,
   "metadata": {},
   "outputs": [],
   "source": [
    "# Computing the neighborhood graph. Seurat uses k = 20 as default\n",
    "sc.pp.neighbors(rna_x, n_neighbors = 10, n_pcs = 50, use_rep='X_pca_harmony')"
   ]
  },
  {
   "cell_type": "code",
   "execution_count": null,
   "metadata": {},
   "outputs": [],
   "source": [
    "# UMAP\n",
    "sc.tl.umap(rna_x, n_components = 2, min_dist = 0.3)\n",
    "sc.pl.umap(rna_x, color=['Sampleid','Patient', 'Sampletype'])"
   ]
  },
  {
   "cell_type": "code",
   "execution_count": null,
   "metadata": {},
   "outputs": [],
   "source": [
    "sc.pl.umap(rna_x, color=['leiden'])"
   ]
  },
  {
   "cell_type": "code",
   "execution_count": null,
   "metadata": {
    "tags": []
   },
   "outputs": [],
   "source": [
    "# find clusters\n",
    "sc.tl.leiden(rna_x, resolution = 0.5, key_added = 'leiden_R')\n",
    "sc.pl.umap(rna_x, color=['leiden', 'leiden_R'], size=6, legend_loc ='on data', legend_fontoutline=2)"
   ]
  },
  {
   "cell_type": "code",
   "execution_count": null,
   "metadata": {
    "tags": []
   },
   "outputs": [],
   "source": [
    "# split clusters\n",
    "sc.tl.leiden(rna_x, resolution = .2, key_added = 'leiden_R2', restrict_to = ('leiden_R', ['3']))\n",
    "sc.pl.umap(rna_x, color=['leiden', 'leiden_R2'], size=10, legend_loc ='on data', legend_fontoutline=2)"
   ]
  },
  {
   "cell_type": "code",
   "execution_count": null,
   "metadata": {},
   "outputs": [],
   "source": [
    "# split clusters\n",
    "sc.tl.leiden(rna_x, resolution = .1, key_added = 'leiden_R2.1', restrict_to = ('leiden_R2', ['5']))\n",
    "sc.pl.umap(rna_x, color=['leiden', 'leiden_R2.1'], size=10, legend_loc ='on data', legend_fontoutline=2)"
   ]
  },
  {
   "cell_type": "code",
   "execution_count": null,
   "metadata": {},
   "outputs": [],
   "source": [
    "sc.pl.umap(rna_x, color = ['CD14', 'FCGR3A', 'MRC1', 'CD68', 'GNLY', 'CD3E', 'CD1C', 'CLEC9A', 'C1QC', 'CLEC4C', 'PPBP', 'HBB'], size = 20)"
   ]
  },
  {
   "cell_type": "code",
   "execution_count": null,
   "metadata": {},
   "outputs": [],
   "source": [
    "sc.tl.rank_genes_groups(rna_x, groupby = 'leiden_R2.1', method = 'wilcoxon')\n",
    "sc.tl.filter_rank_genes_groups(rna_x, min_fold_change=1)\n",
    "sc.tl.dendrogram(rna_x, groupby = 'leiden_R2.1')\n",
    "sc.pl.rank_genes_groups_dotplot(rna_x, n_genes = 10, standard_scale = 'var', color_map = 'viridis', key = 'rank_genes_groups_filtered')"
   ]
  },
  {
   "cell_type": "code",
   "execution_count": null,
   "metadata": {
    "tags": []
   },
   "outputs": [],
   "source": [
    "sc.pl.dotplot(rna_x, Chuafeat, groupby = 'leiden_R2.1')"
   ]
  },
  {
   "cell_type": "code",
   "execution_count": null,
   "metadata": {},
   "outputs": [],
   "source": [
    "sc.pl.dotplot(rna_x, Trav_list, groupby = 'leiden_R2.1')"
   ]
  },
  {
   "cell_type": "code",
   "execution_count": null,
   "metadata": {},
   "outputs": [],
   "source": [
    "MMPlist = ['CD14','FCGR3A','CD68','C1QC','APOE','LILRA4','CLEC4C','CLEC9A','CLEC10A']"
   ]
  },
  {
   "cell_type": "code",
   "execution_count": null,
   "metadata": {},
   "outputs": [],
   "source": [
    "sc.pl.umap(rna_x, color = ['leiden_R2.1','Sampletype'], legend_loc = 'on data')"
   ]
  },
  {
   "cell_type": "code",
   "execution_count": null,
   "metadata": {},
   "outputs": [],
   "source": [
    "new_dict1 = {'0':'Monocyte classical',\n",
    "             '1':'Monocyte classical',\n",
    "             '2':'Monocyte classical',\n",
    "             '3,0':'Monocyte non-classical',\n",
    "             '3,1':'Macrophage non-resident',\n",
    "             '4':'DOUBLET',\n",
    "             '5,0':'cDC CD1c+',\n",
    "             '5,1':'cDC CD141+',\n",
    "             '6':'pDC',\n",
    "             '7':'Macrophage resident',\n",
    "             '8':'Monocyte classical'\n",
    "}\n",
    "rna_x.obs['subset_annotations'] = [new_dict1[l] for l in rna_x.obs['leiden_R2.1']]\n",
    "sc.pl.umap(rna_x, color=['subset_annotations'], size=20, legend_loc ='on data', legend_fontoutline=2)"
   ]
  },
  {
   "cell_type": "code",
   "execution_count": null,
   "metadata": {},
   "outputs": [],
   "source": [
    "sc.pl.umap(rna_x, color=['Sampletype'], size=20, legend_fontoutline=2)"
   ]
  },
  {
   "cell_type": "code",
   "execution_count": null,
   "metadata": {},
   "outputs": [],
   "source": [
    "sc.pl.matrixplot(rna_x,MMPlist,groupby='subset_annotations', standard_scale='var', dendrogram = True)"
   ]
  },
  {
   "cell_type": "code",
   "execution_count": null,
   "metadata": {},
   "outputs": [],
   "source": [
    "# update the original object\n",
    "adata.obs['subset_annotations'] = adata.obs['subset_annotations'].astype('object')\n",
    "adata.obs['subset_annotations'].update(rna_x.obs['subset_annotations'].astype('object'))\n",
    "sc.pl.umap(adata, color = ['leiden', 'subset_annotations'], size = 10, legend_loc = 'on data', legend_fontoutline=2)"
   ]
  },
  {
   "cell_type": "code",
   "execution_count": null,
   "metadata": {
    "tags": []
   },
   "outputs": [],
   "source": [
    "sc.pl.umap(adata, color = ['leiden', 'broad_label'], size = 10, legend_loc = 'on data', legend_fontoutline=2)"
   ]
  },
  {
   "cell_type": "code",
   "execution_count": null,
   "metadata": {},
   "outputs": [],
   "source": [
    "#save for now\n",
    "adata_concat.write('COV_combined_TNKBMMP-fine_label_070721.h5ad', compression = 'gzip')\n",
    "adata_concat.raw.to_adata().write('COV_combined_TNKBMMP_fine_label_raw_070721.h5ad', compression = 'gzip')"
   ]
  },
  {
   "cell_type": "markdown",
   "metadata": {},
   "source": [
    "### Epithelial"
   ]
  },
  {
   "cell_type": "code",
   "execution_count": null,
   "metadata": {},
   "outputs": [],
   "source": [
    "# subset\n",
    "rna_ = adata[adata.obs['leiden'].isin(['8','21'])]\n",
    "rna_x = sc.AnnData(X = rna_.raw.X, obs = rna_.obs, var = rna_.raw.var, uns = rna_.uns, obsm = rna_.obsm, obsp = rna_.obsp)\n",
    "rna_x.raw = rna_x\n",
    "sc.pp.highly_variable_genes(rna_x, min_mean = 0.0125, max_mean = 3, min_disp = 0.5)\n",
    "sc.pl.highly_variable_genes(rna_x)\n",
    "rna_x"
   ]
  },
  {
   "cell_type": "code",
   "execution_count": null,
   "metadata": {},
   "outputs": [],
   "source": [
    "# subset to highly variable\n",
    "rna_x = rna_x[:, rna_x.var['highly_variable']]\n",
    "# regress and scale for PCA\n",
    "sc.pp.regress_out(rna_x, ['total_counts', 'pct_counts_mt'])\n",
    "sc.pp.scale(rna_x, max_value = 10)"
   ]
  },
  {
   "cell_type": "code",
   "execution_count": null,
   "metadata": {
    "tags": []
   },
   "outputs": [],
   "source": [
    "# Principal component analysis\n",
    "sc.tl.pca(rna_x, svd_solver = 'arpack')\n",
    "sc.pl.pca_variance_ratio(rna_x, log = True, n_pcs = 50)"
   ]
  },
  {
   "cell_type": "code",
   "execution_count": null,
   "metadata": {
    "tags": []
   },
   "outputs": [],
   "source": [
    "# Computing the neighborhood graph. Seurat uses k = 20 as default\n",
    "sc.pp.neighbors(rna_x, n_neighbors = 10, n_pcs = 50)"
   ]
  },
  {
   "cell_type": "code",
   "execution_count": null,
   "metadata": {},
   "outputs": [],
   "source": [
    "# run UMAP\n",
    "sc.tl.umap(rna_x, n_components = 2, min_dist = 0.3)\n",
    "sc.pl.umap(rna_x, color=['Sampleid','Patient', 'Sampletype'])"
   ]
  },
  {
   "cell_type": "code",
   "execution_count": null,
   "metadata": {},
   "outputs": [],
   "source": [
    "sc.pl.umap(rna_x, color=['leiden'])"
   ]
  },
  {
   "cell_type": "code",
   "execution_count": null,
   "metadata": {},
   "outputs": [],
   "source": [
    "# run harmony\n",
    "sc.external.pp.harmony_integrate(rna_x, 'Patient')\n",
    "'X_pca_harmony' in rna_x.obsm\n"
   ]
  },
  {
   "cell_type": "code",
   "execution_count": null,
   "metadata": {},
   "outputs": [],
   "source": [
    "rna_x"
   ]
  },
  {
   "cell_type": "code",
   "execution_count": null,
   "metadata": {},
   "outputs": [],
   "source": [
    "# Computing the neighborhood graph. Seurat uses k = 20 as default\n",
    "sc.pp.neighbors(rna_x, n_neighbors = 10, n_pcs = 50, use_rep='X_pca_harmony')"
   ]
  },
  {
   "cell_type": "code",
   "execution_count": null,
   "metadata": {},
   "outputs": [],
   "source": [
    "# UMAP\n",
    "sc.tl.umap(rna_x, n_components = 2, min_dist = 0.3)\n",
    "sc.pl.umap(rna_x, color=['Sampleid','Patient', 'Sampletype'])"
   ]
  },
  {
   "cell_type": "code",
   "execution_count": null,
   "metadata": {},
   "outputs": [],
   "source": [
    "sc.pl.umap(rna_x, color=['leiden'])"
   ]
  },
  {
   "cell_type": "code",
   "execution_count": null,
   "metadata": {
    "tags": []
   },
   "outputs": [],
   "source": [
    "# find clusters\n",
    "sc.tl.leiden(rna_x, resolution = 0.5, key_added = 'leiden_R')\n",
    "sc.pl.umap(rna_x, color=['leiden', 'leiden_R'], size=6, legend_loc ='on data', legend_fontoutline=2)"
   ]
  },
  {
   "cell_type": "code",
   "execution_count": null,
   "metadata": {
    "tags": []
   },
   "outputs": [],
   "source": [
    "# split clusters\n",
    "sc.tl.leiden(rna_x, resolution = .2, key_added = 'leiden_R2', restrict_to = ('leiden_R', ['6']))\n",
    "sc.pl.umap(rna_x, color=['leiden', 'leiden_R2'], size=10, legend_loc ='on data', legend_fontoutline=2)"
   ]
  },
  {
   "cell_type": "code",
   "execution_count": null,
   "metadata": {
    "tags": []
   },
   "outputs": [],
   "source": [
    "sc.pl.umap(rna_x, color = ['EPCAM','KRT19','MUC5AC','PRR4','COL1A1','ACTA2','FOXJ1','ACKR1','PPBP', 'HBB','CD1A','ASCL2','FDCSP'], size = 20)"
   ]
  },
  {
   "cell_type": "code",
   "execution_count": null,
   "metadata": {
    "tags": []
   },
   "outputs": [],
   "source": [
    "sc.tl.rank_genes_groups(rna_x, groupby = 'leiden_R2', method = 'wilcoxon')\n",
    "sc.tl.filter_rank_genes_groups(rna_x, min_fold_change=1)\n",
    "sc.tl.dendrogram(rna_x, groupby = 'leiden_R2')\n",
    "sc.pl.rank_genes_groups_dotplot(rna_x, n_genes = 10, standard_scale = 'var', color_map = 'viridis', key = 'rank_genes_groups_filtered')"
   ]
  },
  {
   "cell_type": "code",
   "execution_count": null,
   "metadata": {
    "tags": []
   },
   "outputs": [],
   "source": [
    "sc.pl.dotplot(rna_x, Chuafeat, groupby = 'leiden_R2')"
   ]
  },
  {
   "cell_type": "code",
   "execution_count": null,
   "metadata": {
    "tags": []
   },
   "outputs": [],
   "source": [
    "sc.pl.dotplot(rna_x, Trav_list, groupby = 'leiden_R2')"
   ]
  },
  {
   "cell_type": "code",
   "execution_count": null,
   "metadata": {
    "jupyter": {
     "source_hidden": true
    },
    "tags": []
   },
   "outputs": [],
   "source": [
    "sc.pl.dotplot(rna_x, ILC_Bjorkland, groupby = 'leiden_R2')"
   ]
  },
  {
   "cell_type": "code",
   "execution_count": null,
   "metadata": {},
   "outputs": [],
   "source": [
    "epimark = ['EPCAM','KRT5','KRT19','MUC5AC','FDCSP','FOXJ1','FOXI1','CFTR','ANK2','SPRR3','TMPRSS11E',\n",
    "          'FCER1A', 'COL1A1','ACTA2','ACKR1']"
   ]
  },
  {
   "cell_type": "code",
   "execution_count": null,
   "metadata": {},
   "outputs": [],
   "source": [
    "sc.pl.matrixplot(rna_x,epimark,groupby = 'subset_annotations',dendrogram = True,\n",
    "                standard_scale = 'var')"
   ]
  },
  {
   "cell_type": "code",
   "execution_count": null,
   "metadata": {},
   "outputs": [],
   "source": [
    "rna_x.obs['subset_annotations'].value_counts()"
   ]
  },
  {
   "cell_type": "code",
   "execution_count": null,
   "metadata": {},
   "outputs": [],
   "source": [
    "sc.pl.umap(rna_x, color = 'leiden_R2', legend_loc = 'on data')"
   ]
  },
  {
   "cell_type": "code",
   "execution_count": null,
   "metadata": {},
   "outputs": [],
   "source": [
    "new_dict1 = {'0':'Secretory epithelial',\n",
    "             '1':'DOUBLET',\n",
    "             '2':'Ciliated epithelial',\n",
    "             '3':'Basal epithelial',\n",
    "             '4':'DOUBLET',\n",
    "             '5':'Secretory epithelial',\n",
    "             '6,0':'Secretory epithelial',\n",
    "             '6,1':'Follicular DC',\n",
    "             '6,2':'Ionocyte',\n",
    "             '7':'Squamous epithelial',\n",
    "             '8':'Secretory epithelial',\n",
    "             '9':'Secretory epithelial',\n",
    "             '10':'Endothelial-Stromal',\n",
    "             '11':'Ciliated epithelial'\n",
    "                         \n",
    "}\n",
    "rna_x.obs['subset_annotations'] = [new_dict1[l] for l in rna_x.obs['leiden_R2']]\n",
    "sc.pl.umap(rna_x, color=['subset_annotations'], size=20, legend_loc ='on data', legend_fontoutline=2)"
   ]
  },
  {
   "cell_type": "code",
   "execution_count": null,
   "metadata": {},
   "outputs": [],
   "source": [
    "# update the original object\n",
    "adata.obs['subset_annotations'] = adata.obs['subset_annotations'].astype('object')\n",
    "adata.obs['subset_annotations'].update(rna_x.obs['subset_annotations'].astype('object'))\n",
    "sc.pl.umap(adata, color = ['leiden', 'subset_annotations'], size = 10, legend_loc = 'on data', legend_fontoutline=2)"
   ]
  },
  {
   "cell_type": "code",
   "execution_count": null,
   "metadata": {
    "tags": []
   },
   "outputs": [],
   "source": [
    "sc.pl.umap(adata, color = ['leiden', 'broad_label'], size = 10, legend_loc = 'on data', legend_fontoutline=2)"
   ]
  },
  {
   "cell_type": "code",
   "execution_count": null,
   "metadata": {
    "tags": []
   },
   "outputs": [],
   "source": [
    "#save for now\n",
    "adata_concat.write('COV_combined_TNKBMMPepi-fine_label_070721.h5ad', compression = 'gzip')\n",
    "adata_concat.raw.to_adata().write('COV_combined_TNKBMMPepi_fine_label_raw_070721.h5ad', compression = 'gzip')"
   ]
  },
  {
   "cell_type": "markdown",
   "metadata": {},
   "source": [
    "### Megakaryocyte and erythrocyte"
   ]
  },
  {
   "cell_type": "code",
   "execution_count": null,
   "metadata": {},
   "outputs": [],
   "source": [
    "# subset\n",
    "rna_ = adata[adata.obs['leiden'].isin(['14', '18','23'])]\n",
    "rna_x = sc.AnnData(X = rna_.raw.X, obs = rna_.obs, var = rna_.raw.var, uns = rna_.uns, obsm = rna_.obsm, obsp = rna_.obsp)\n",
    "rna_x.raw = rna_x\n",
    "sc.pp.highly_variable_genes(rna_x, min_mean = 0.0125, max_mean = 3, min_disp = 0.5)\n",
    "sc.pl.highly_variable_genes(rna_x)\n",
    "rna_x"
   ]
  },
  {
   "cell_type": "code",
   "execution_count": null,
   "metadata": {},
   "outputs": [],
   "source": [
    "# subset to highly variable\n",
    "rna_x = rna_x[:, rna_x.var['highly_variable']]\n",
    "# regress and scale for PCA\n",
    "sc.pp.regress_out(rna_x, ['total_counts', 'pct_counts_mt'])\n",
    "sc.pp.scale(rna_x, max_value = 10)"
   ]
  },
  {
   "cell_type": "code",
   "execution_count": null,
   "metadata": {},
   "outputs": [],
   "source": [
    "# Principal component analysis\n",
    "sc.tl.pca(rna_x, svd_solver = 'arpack')\n",
    "sc.pl.pca_variance_ratio(rna_x, log = True, n_pcs = 50)"
   ]
  },
  {
   "cell_type": "code",
   "execution_count": null,
   "metadata": {
    "tags": []
   },
   "outputs": [],
   "source": [
    "# Computing the neighborhood graph. Seurat uses k = 20 as default\n",
    "sc.pp.neighbors(rna_x, n_neighbors = 10, n_pcs = 50)"
   ]
  },
  {
   "cell_type": "code",
   "execution_count": null,
   "metadata": {
    "tags": []
   },
   "outputs": [],
   "source": [
    "# run UMAP\n",
    "sc.tl.umap(rna_x, n_components = 2, min_dist = 0.3)\n",
    "sc.pl.umap(rna_x, color=['Sampleid','Patient', 'Sampletype'])"
   ]
  },
  {
   "cell_type": "code",
   "execution_count": null,
   "metadata": {},
   "outputs": [],
   "source": [
    "sc.pl.umap(rna_x, color=['leiden'])"
   ]
  },
  {
   "cell_type": "code",
   "execution_count": null,
   "metadata": {},
   "outputs": [],
   "source": [
    "# run harmony\n",
    "sc.external.pp.harmony_integrate(rna_x, 'Patient')\n",
    "'X_pca_harmony' in rna_x.obsm\n"
   ]
  },
  {
   "cell_type": "code",
   "execution_count": null,
   "metadata": {},
   "outputs": [],
   "source": [
    "rna_x"
   ]
  },
  {
   "cell_type": "code",
   "execution_count": null,
   "metadata": {},
   "outputs": [],
   "source": [
    "# Computing the neighborhood graph. Seurat uses k = 20 as default\n",
    "sc.pp.neighbors(rna_x, n_neighbors = 10, n_pcs = 50, use_rep='X_pca_harmony')"
   ]
  },
  {
   "cell_type": "code",
   "execution_count": null,
   "metadata": {},
   "outputs": [],
   "source": [
    "# UMAP\n",
    "sc.tl.umap(rna_x, n_components = 2, min_dist = 0.3)\n",
    "sc.pl.umap(rna_x, color=['Sampleid','Patient', 'Sampletype'])"
   ]
  },
  {
   "cell_type": "code",
   "execution_count": null,
   "metadata": {},
   "outputs": [],
   "source": [
    "sc.pl.umap(rna_x, color=['leiden'])"
   ]
  },
  {
   "cell_type": "code",
   "execution_count": null,
   "metadata": {
    "tags": []
   },
   "outputs": [],
   "source": [
    "# find clusters\n",
    "sc.tl.leiden(rna_x, resolution = 0.3, key_added = 'leiden_R')\n",
    "sc.pl.umap(rna_x, color=['leiden', 'leiden_R'], size=6, legend_loc ='on data', legend_fontoutline=2)"
   ]
  },
  {
   "cell_type": "code",
   "execution_count": null,
   "metadata": {},
   "outputs": [],
   "source": [
    "sc.pl.umap(rna_x, color = ['CD14', 'FCGR3A', 'FCGR3B', 'CD68', 'GNLY', 'CD3E', 'CD1C', 'CLEC9A', 'C1QC', 'CD86', 'PPBP', 'HBB'], size = 20)"
   ]
  },
  {
   "cell_type": "code",
   "execution_count": null,
   "metadata": {},
   "outputs": [],
   "source": [
    "sc.tl.rank_genes_groups(rna_x, groupby = 'leiden_R', method = 'wilcoxon')\n",
    "sc.tl.filter_rank_genes_groups(rna_x, min_fold_change=1)\n",
    "sc.tl.dendrogram(rna_x, groupby = 'leiden_R')\n",
    "sc.pl.rank_genes_groups_dotplot(rna_x, n_genes = 10, standard_scale = 'var', color_map = 'viridis', key = 'rank_genes_groups_filtered')"
   ]
  },
  {
   "cell_type": "code",
   "execution_count": null,
   "metadata": {},
   "outputs": [],
   "source": [
    "sc.pl.dotplot(rna_x,Chuafeat,groupby ='leiden_R')"
   ]
  },
  {
   "cell_type": "code",
   "execution_count": null,
   "metadata": {},
   "outputs": [],
   "source": [
    "new_dict1 = {'0':'Megakaryocyte',\n",
    "            '1':'DOUBLET',\n",
    "            '2':'Megakaryocyte',\n",
    "            '3':'Erythrocyte',\n",
    "            '4':'DOUBLET',\n",
    "            '5':'DOUBLET',\n",
    "            '6':'DOUBLET',\n",
    "            '7':'DOUBLET',\n",
    "            '8':'DOUBLET',\n",
    "            '9':'DOUBLET',\n",
    "            '10':'DOUBLET'}\n",
    "rna_x.obs['subset_annotations'] = [new_dict1[l] for l in rna_x.obs['leiden_R']]\n",
    "sc.pl.umap(rna_x, color=['subset_annotations'], size=20, legend_loc ='on data', legend_fontoutline=2)"
   ]
  },
  {
   "cell_type": "code",
   "execution_count": null,
   "metadata": {},
   "outputs": [],
   "source": [
    "# update the original object\n",
    "adata.obs['subset_annotations'] = adata.obs['subset_annotations'].astype('object')\n",
    "adata.obs['subset_annotations'].update(rna_x.obs['subset_annotations'].astype('object'))\n",
    "sc.pl.umap(adata, color = ['leiden', 'subset_annotations'], size = 10, legend_loc = 'on data', legend_fontoutline=2)"
   ]
  },
  {
   "cell_type": "code",
   "execution_count": null,
   "metadata": {},
   "outputs": [],
   "source": [
    "#save for now\n",
    "adata.write('COV_subsetanno1_120721.h5ad', compression = 'gzip')\n",
    "adata.raw.to_adata().write('COV_subsetanno1_raw_120721.h5ad', compression = 'gzip')"
   ]
  }
 ],
 "metadata": {
  "kernelspec": {
   "display_name": "mcpython",
   "language": "python",
   "name": "mcpython"
  },
  "language_info": {
   "codemirror_mode": {
    "name": "ipython",
    "version": 3
   },
   "file_extension": ".py",
   "mimetype": "text/x-python",
   "name": "python",
   "nbconvert_exporter": "python",
   "pygments_lexer": "ipython3",
   "version": "3.8.8"
  }
 },
 "nbformat": 4,
 "nbformat_minor": 4
}
