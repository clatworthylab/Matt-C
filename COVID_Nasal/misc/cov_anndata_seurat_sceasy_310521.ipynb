{
 "cells": [
  {
   "cell_type": "code",
   "execution_count": 4,
   "id": "incredible-arlington",
   "metadata": {},
   "outputs": [
    {
     "name": "stderr",
     "output_type": "stream",
     "text": [
      "Loading required package: reticulate\n",
      "\n"
     ]
    }
   ],
   "source": [
    "library(sceasy)\n",
    "library(reticulate)\n",
    "loompy <- reticulate::import('loompy')"
   ]
  },
  {
   "cell_type": "code",
   "execution_count": 5,
   "id": "equal-stroke",
   "metadata": {},
   "outputs": [
    {
     "data": {
      "text/plain": [
       "python:         /opt/conda/bin/python3\n",
       "libpython:      /opt/conda/lib/libpython3.8.so\n",
       "pythonhome:     /opt/conda:/opt/conda\n",
       "version:        3.8.8 | packaged by conda-forge | (default, Feb 20 2021, 16:22:27)  [GCC 9.3.0]\n",
       "numpy:          /opt/conda/lib/python3.8/site-packages/numpy\n",
       "numpy_version:  1.20.1\n",
       "anndata:        /opt/conda/lib/python3.8/site-packages/anndata\n",
       "\n",
       "python versions found: \n",
       " /opt/conda/bin/python3\n",
       " /usr/bin/python3\n",
       " /usr/bin/python"
      ]
     },
     "metadata": {},
     "output_type": "display_data"
    }
   ],
   "source": [
    "reticulate::py_config()"
   ]
  },
  {
   "cell_type": "code",
   "execution_count": 6,
   "id": "biological-happiness",
   "metadata": {},
   "outputs": [
    {
     "name": "stderr",
     "output_type": "stream",
     "text": [
      "X -> counts\n",
      "\n"
     ]
    },
    {
     "data": {
      "text/plain": [
       "An object of class Seurat \n",
       "25675 features across 292189 samples within 1 assay \n",
       "Active assay: RNA (25675 features, 0 variable features)\n",
       " 3 dimensional reductions calculated: pca, pca_harmony, umap"
      ]
     },
     "metadata": {},
     "output_type": "display_data"
    }
   ],
   "source": [
    "sceasy::convertFormat(\"/home/jovyan/data/ClatCov/COV_subsetanno1_raw_120721.h5ad\", from=\"anndata\", to=\"seurat\",\n",
    "                       outFile='/home/jovyan/data/ClatCov/COV_subsetanno1_raw_120721.rds')"
   ]
  },
  {
   "cell_type": "code",
   "execution_count": null,
   "id": "posted-metallic",
   "metadata": {},
   "outputs": [],
   "source": []
  }
 ],
 "metadata": {
  "kernelspec": {
   "display_name": "R",
   "language": "R",
   "name": "ir"
  },
  "language_info": {
   "codemirror_mode": "r",
   "file_extension": ".r",
   "mimetype": "text/x-r-source",
   "name": "R",
   "pygments_lexer": "r",
   "version": "4.0.4"
  }
 },
 "nbformat": 4,
 "nbformat_minor": 5
}
